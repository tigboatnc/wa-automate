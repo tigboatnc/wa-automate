{
 "cells": [
  {
   "cell_type": "markdown",
   "id": "637d2e94",
   "metadata": {},
   "source": [
    "# Import Essentials"
   ]
  },
  {
   "cell_type": "code",
   "execution_count": 1,
   "id": "7979f2ef",
   "metadata": {},
   "outputs": [],
   "source": [
    "CHROMEDRIVER_LOCATION = './utils/chromedriver'"
   ]
  },
  {
   "cell_type": "code",
   "execution_count": 2,
   "id": "21708c10",
   "metadata": {},
   "outputs": [],
   "source": [
    "from selenium import webdriver\n",
    "from selenium.webdriver.common.keys import Keys\n",
    "from selenium.webdriver.support.ui import WebDriverWait\n",
    "from selenium.webdriver.support.ui import Select\n",
    "from selenium.webdriver.common.by import By\n",
    "from selenium.webdriver.common.keys import Keys\n",
    "from selenium.webdriver.chrome.options import Options\n",
    "\n",
    "from urllib.parse import urlparse\n",
    "import pandas as pd\n",
    "import re \n",
    "from pathlib import Path\n",
    "import os\n",
    "import time\n",
    "from datetime import date\n",
    "from datetime import timedelta\n",
    "from datetime import datetime\n",
    "import dateutil.parser as parser\n",
    "\n",
    "today = date.today()\n",
    "cwd = os.getcwd()"
   ]
  },
  {
   "cell_type": "markdown",
   "id": "5dd9d321",
   "metadata": {},
   "source": [
    "### User Profile Settings "
   ]
  },
  {
   "cell_type": "code",
   "execution_count": 3,
   "id": "fceedb64",
   "metadata": {},
   "outputs": [],
   "source": [
    "userprofile = 'samarth'\n",
    "options = webdriver.ChromeOptions()\n",
    "options.add_argument(f\"user-data-dir={cwd}/.\"+userprofile+\"UserProfile\")\n",
    "driver = webdriver.Chrome(executable_path=CHROMEDRIVER_LOCATION, options=options)"
   ]
  },
  {
   "cell_type": "code",
   "execution_count": 4,
   "id": "6ccffdf7",
   "metadata": {},
   "outputs": [],
   "source": [
    "driver.get(\"https://web.whatsapp.com/\")"
   ]
  },
  {
   "cell_type": "markdown",
   "id": "a52dae1f",
   "metadata": {},
   "source": [
    "# Functions"
   ]
  },
  {
   "cell_type": "code",
   "execution_count": 5,
   "id": "2ea24e07",
   "metadata": {},
   "outputs": [],
   "source": [
    "def F_SEARCH_2(driverVar,contact_number):\n",
    "    \n",
    "    # Works on whatsapp shortcutt\n",
    "    driver.find_element_by_css_selector('body').send_keys(Keys.CONTROL + Keys.COMMAND + '//')\n",
    "    \n",
    "    time.sleep(1)\n",
    "\n",
    "\n",
    "    # FORM_CLASS = 'OTBsx'\n",
    "    FORM_HEADER_CLASS = 'RPX_m'\n",
    "    FORM_CLASS = '_2_1wd copyable-text selectable-text'\n",
    "\n",
    "\n",
    "    formHeadingClassList = driverVar.find_elements_by_xpath(f\"//label[@class='{FORM_HEADER_CLASS}']\")\n",
    "    \n",
    "    print(len(formHeadingClassList))\n",
    "\n",
    "    if len(formHeadingClassList)==1:\n",
    "        formHeadingClass = formHeadingClassList[0]\n",
    "        formElementsList = formHeadingClass.find_elements_by_xpath(f\".//div[@class='{FORM_CLASS}']\")\n",
    "        print(len(formElementsList))\n",
    "        if len(formElementsList)>0:\n",
    "            formElement = formElementsList[0]\n",
    "            formElement.click();\n",
    "            formElement.clear();\n",
    "            formElement.send_keys(f'{contact_number}')\n",
    "            time.sleep(4)\n",
    "            formElement.send_keys(Keys.RETURN)"
   ]
  },
  {
   "cell_type": "code",
   "execution_count": 7,
   "id": "039f5786",
   "metadata": {},
   "outputs": [
    {
     "name": "stdout",
     "output_type": "stream",
     "text": [
      "1\n",
      "1\n"
     ]
    }
   ],
   "source": [
    "F_SEARCH_2(driver,'abhishek')\n"
   ]
  },
  {
   "cell_type": "code",
   "execution_count": 7,
   "id": "c6930184",
   "metadata": {},
   "outputs": [],
   "source": [
    "def F_SEARCH(driverVar,contact_number):\n",
    "    \n",
    "    \n",
    "#   Works on the logic that clicking enter after entering a number always brings to that numbers chat. [whatsapp accessibility feature]\n",
    "    \n",
    "    BUTTON_CLASS = '_1Ek-U'\n",
    "    searchButtonsList = driverVar.find_elements_by_xpath(f\"//button[@class='{BUTTON_CLASS}']\")\n",
    "    print(len(searchButtonsList))\n",
    "    if len(searchButtonsList)==1:\n",
    "        searchButtonElement = searchButtonsList[0]\n",
    "        searchButtonElement.click()\n",
    "\n",
    "    # FORM_CLASS = 'OTBsx'\n",
    "    FORM_HEADER_CLASS = 'SgIJV'\n",
    "    FORM_CLASS = '_2_1wd copyable-text selectable-text'\n",
    "\n",
    "\n",
    "    formHeadingClassList = driverVar.find_elements_by_xpath(f\"//div[@class='{FORM_HEADER_CLASS}']\")\n",
    "\n",
    "\n",
    "    if len(formHeadingClassList)==1:\n",
    "        formHeadingClass = formHeadingClassList[0]\n",
    "        formElementsList = formHeadingClass.find_elements_by_xpath(f\"//div[@class='{FORM_CLASS}']\")\n",
    "        print(len(formElementsList))\n",
    "        if len(formElementsList)>0:\n",
    "            formElement = formElementsList[0]\n",
    "            formElement.click();\n",
    "            formElement.clear();\n",
    "            formElement.send_keys(f'{contact_number}')\n",
    "            time.sleep(4)\n",
    "            formElement.send_keys(Keys.RETURN)"
   ]
  },
  {
   "cell_type": "code",
   "execution_count": 8,
   "id": "ee569704",
   "metadata": {},
   "outputs": [],
   "source": [
    "def F_SINGLE_SEND(driverVar,text_message):\n",
    "    time.sleep(2)\n",
    "    CHAT_HEADER_CLASS = '_1JAUF _2x4bz'\n",
    "    ALT_CHAT_HEADER_CLASS = '_1JAUF _2x4bz focused'\n",
    "    CHAT_CLASS = '_2_1wd copyable-text selectable-text'\n",
    "\n",
    "    print('D__Search Chat Header__ : Trying Unfocussed')\n",
    "    chatHeadingClassList = driverVar.find_elements_by_xpath(f\"//div[@class='{CHAT_HEADER_CLASS}']\")\n",
    "    if len(chatHeadingClassList)==0:\n",
    "        print('D__Search Chat Header__ : Unfocussed failed, trying focussed;')\n",
    "        chatHeadingClassList = driverVar.find_elements_by_xpath(f\"//div[@class='{ALT_CHAT_HEADER_CLASS}']\")\n",
    "    print(f'D__Search Chat Header__ :  Length of Chat Header Div => {len(chatHeadingClassList)}')\n",
    "\n",
    "    if len(chatHeadingClassList)==1:\n",
    "            chatHeadingClass = chatHeadingClassList[0]\n",
    "            chatElementsList = chatHeadingClass.find_elements_by_xpath(f\".//div[@class='{CHAT_CLASS}']\")\n",
    "            print(len(chatElementsList))\n",
    "            if len(chatElementsList)>0:\n",
    "                chatElement = chatElementsList[0]\n",
    "                chatElement.click();\n",
    "                time.sleep(1)\n",
    "                chatElement.clear();\n",
    "                chatElement.send_keys(f'{text_message}')\n",
    "                time.sleep(2)\n",
    "                chatElement.send_keys(Keys.RETURN)\n",
    "    \n",
    "    "
   ]
  },
  {
   "cell_type": "code",
   "execution_count": 1,
   "id": "32e9c108",
   "metadata": {},
   "outputs": [
    {
     "ename": "NameError",
     "evalue": "name 'Pathlib' is not defined",
     "output_type": "error",
     "traceback": [
      "\u001b[0;31m---------------------------------------------------------------------------\u001b[0m",
      "\u001b[0;31mNameError\u001b[0m                                 Traceback (most recent call last)",
      "\u001b[0;32m/var/folders/66/w1588p9n1654b1yky4q5nz580000gn/T/ipykernel_35906/3295659237.py\u001b[0m in \u001b[0;36m<module>\u001b[0;34m\u001b[0m\n\u001b[0;32m----> 1\u001b[0;31m \u001b[0mp\u001b[0m \u001b[0;34m=\u001b[0m \u001b[0mPathlib\u001b[0m\u001b[0;34m(\u001b[0m\u001b[0;34m)\u001b[0m\u001b[0;34m\u001b[0m\u001b[0;34m\u001b[0m\u001b[0m\n\u001b[0m",
      "\u001b[0;31mNameError\u001b[0m: name 'Pathlib' is not defined"
     ]
    }
   ],
   "source": [
    "p = Pathlib()"
   ]
  },
  {
   "cell_type": "code",
   "execution_count": 9,
   "id": "d5be5bf4",
   "metadata": {},
   "outputs": [],
   "source": [
    "\n",
    "\n",
    "\n",
    "def F_DOCUMENT_SEND(driverVar,op,absolute_path):\n",
    "\n",
    "\n",
    "    if op == 'document':\n",
    "        operation = 'attach-document'\n",
    "    if op == 'image':\n",
    "        operation = 'attach-image'\n",
    "\n",
    "    print(f'Your Selected Operation is {operation}')\n",
    "\n",
    "    BUTTON_CLASS = '_1XaX-'\n",
    "    ATTACH_BUTTON_INNER_CLASS = '_19rjv'\n",
    "    AttachButtonElement = -1 \n",
    "    SEND_BUTTON_CLASS = 'SncVf _3doiV'\n",
    "\n",
    "\n",
    "\n",
    "\n",
    "    print('[1] D__Search Page Buttons__: Scraping Button List ')\n",
    "    ButtonClassList = driverVar.find_elements_by_xpath(f\"//div[@class='{BUTTON_CLASS}']\")\n",
    "    if len(ButtonClassList)<0 :\n",
    "        print('[1] D__Search Page Buttons__: ERROR : Button List Not Found ')\n",
    "\n",
    "    time.sleep(2)\n",
    "    for recepient in ButtonClassList:\n",
    "        try:\n",
    "            if recepient.get_attribute('title') == 'Attach':\n",
    "                AttachButtonElement = recepient\n",
    "                print('[2] D__Filter Page Buttons__: SUCCESS : Button Found')\n",
    "        except Exception:\n",
    "            print('[2] D__Filter Page Buttons__: ERROR : Problem in reading button attribute, skipping...')\n",
    "\n",
    "\n",
    "    AttachButtonElement.click()   \n",
    "    time.sleep(1)\n",
    "\n",
    "\n",
    "\n",
    "\n",
    "    print('[3] D__Search Attach Inner Buttons__: Scraping Button List ')\n",
    "    ButtonClassList = driverVar.find_elements_by_xpath(f\"//ul[@class='{ATTACH_BUTTON_INNER_CLASS}']\")\n",
    "    if len(ButtonClassList)==0 :\n",
    "        print('[3] D__Search Attach Inner Buttons__: ERROR : Button List Not Found : Aborting')\n",
    "    #     return('0')\n",
    "    else:\n",
    "        print('Inner Button Listing Found')\n",
    "\n",
    "\n",
    "\n",
    "\n",
    "\n",
    "\n",
    "    DataEntryButtons = ButtonClassList[0].find_elements_by_xpath(f\".//li\")\n",
    "    print(len(DataEntryButtons))\n",
    "\n",
    "    for recepients in DataEntryButtons:\n",
    "#         try:\n",
    "        ButtonIdentifier = recepients.find_elements_by_xpath(f\".//span\")\n",
    "        identified = ButtonIdentifier[0].get_attribute('data-testid')\n",
    "        print(f\"Identified Button : {identified}\")\n",
    "\n",
    "\n",
    "        InputElement = recepients.find_elements_by_xpath(f\".//input\")\n",
    "        print('d',InputElement)\n",
    "\n",
    "        if (identified == operation):\n",
    "            time.sleep(2)\n",
    "            InputElement[0].send_keys(absolute_path)\n",
    "            break\n",
    "            time.sleep(2)\n",
    "                \n",
    "#         except Exception:\n",
    "#             print('Button Identifier Empty, skipping')\n",
    "            \n",
    "\n",
    "            \n",
    "    time.sleep(2)\n",
    "    SendButtonList = driverVar.find_elements_by_xpath(f\"//div[@class='{SEND_BUTTON_CLASS}']\")\n",
    "    time.sleep(1)\n",
    "    SendButtonList[0].click()\n",
    "    time.sleep(1)\n",
    "    \n",
    "\n"
   ]
  },
  {
   "cell_type": "markdown",
   "id": "0917d3a7",
   "metadata": {},
   "source": [
    "----------------------------------------"
   ]
  },
  {
   "cell_type": "markdown",
   "id": "4a423796",
   "metadata": {},
   "source": [
    "----------------------------------------"
   ]
  },
  {
   "cell_type": "markdown",
   "id": "a7ffcf0b",
   "metadata": {},
   "source": [
    "# Sample Test Run \n"
   ]
  },
  {
   "cell_type": "code",
   "execution_count": 10,
   "id": "224a09b2",
   "metadata": {},
   "outputs": [],
   "source": [
    "target = '9711096888' # get from database csv \n",
    "target2 = '918368102865' \n",
    "randomfile = '/Users/smngi20/CORE/tpc/waAuto/main/input/samarth_db.csv'\n",
    "randomimage = '/Users/smngi20/CORE/tpc/waAuto/main/input/Screenshot 2021-06-17 at 4.01.32 PM.png'\n",
    "\n",
    "test_path = '/Users/smngi20/CORE/tpc/waAuto/main/input/Screenshot 2021-06-17 at 4.31.16 PM.png'"
   ]
  },
  {
   "cell_type": "code",
   "execution_count": 13,
   "id": "8c244b7d",
   "metadata": {},
   "outputs": [
    {
     "name": "stdout",
     "output_type": "stream",
     "text": [
      "1\n",
      "1\n"
     ]
    }
   ],
   "source": [
    "F_SEARCH_2(driver,target)\n"
   ]
  },
  {
   "cell_type": "code",
   "execution_count": 14,
   "id": "53b5cb7e",
   "metadata": {},
   "outputs": [
    {
     "name": "stdout",
     "output_type": "stream",
     "text": [
      "D__Search Chat Header__ : Trying Unfocussed\n",
      "D__Search Chat Header__ : Unfocussed failed, trying focussed;\n",
      "D__Search Chat Header__ :  Length of Chat Header Div => 1\n",
      "1\n"
     ]
    }
   ],
   "source": [
    "F_SINGLE_SEND(driver,'testing2')\n"
   ]
  },
  {
   "cell_type": "code",
   "execution_count": 152,
   "id": "1e03680d",
   "metadata": {},
   "outputs": [
    {
     "name": "stdout",
     "output_type": "stream",
     "text": [
      "Your Selected Operation is attach-document\n",
      "[1] D__Search Page Buttons__: Scraping Button List \n",
      "[2] D__Filter Page Buttons__: SUCCESS : Button Found\n",
      "[3] D__Search Attach Inner Buttons__: Scraping Button List \n",
      "Inner Button Listing Found\n",
      "5\n",
      "Identified Button : attach-image\n",
      "d [<selenium.webdriver.remote.webelement.WebElement (session=\"be30f205415beb15d07272a16af9109a\", element=\"67321ca0-d4ee-45ce-8a6c-a35c29d36dbd\")>]\n",
      "Identified Button : attach-camera\n",
      "d []\n",
      "Identified Button : attach-document\n",
      "d [<selenium.webdriver.remote.webelement.WebElement (session=\"be30f205415beb15d07272a16af9109a\", element=\"fdfdf9a3-1161-444f-9881-65c80763d059\")>]\n"
     ]
    }
   ],
   "source": [
    "F_DOCUMENT_SEND(driver,'document',randomfile)"
   ]
  },
  {
   "cell_type": "code",
   "execution_count": 17,
   "id": "a99324a9",
   "metadata": {},
   "outputs": [
    {
     "name": "stdout",
     "output_type": "stream",
     "text": [
      "1\n",
      "1\n",
      "1\n",
      "1\n",
      "D__Search Chat Header__ : Trying Unfocussed\n",
      "D__Search Chat Header__ : Unfocussed failed, trying focussed;\n",
      "D__Search Chat Header__ :  Length of Chat Header Div => 1\n",
      "1\n",
      "Your Selected Operation is attach-document\n",
      "[1] D__Search Page Buttons__: Scraping Button List \n",
      "[2] D__Filter Page Buttons__: SUCCESS : Button Found\n",
      "[3] D__Search Attach Inner Buttons__: Scraping Button List \n",
      "Inner Button Listing Found\n",
      "5\n",
      "Identified Button : attach-image\n",
      "d [<selenium.webdriver.remote.webelement.WebElement (session=\"5da6c637e6cb757f0a1d4aa6ba0dc348\", element=\"c45a2c31-ae05-4296-8db0-8610e054f1c6\")>]\n",
      "Identified Button : attach-camera\n",
      "d []\n",
      "Identified Button : attach-document\n",
      "d [<selenium.webdriver.remote.webelement.WebElement (session=\"5da6c637e6cb757f0a1d4aa6ba0dc348\", element=\"28105825-27be-4628-96b7-9462ebef8e08\")>]\n",
      "1\n",
      "1\n",
      "D__Search Chat Header__ : Trying Unfocussed\n",
      "D__Search Chat Header__ : Unfocussed failed, trying focussed;\n",
      "D__Search Chat Header__ :  Length of Chat Header Div => 1\n",
      "1\n",
      "Your Selected Operation is attach-image\n",
      "[1] D__Search Page Buttons__: Scraping Button List \n",
      "[2] D__Filter Page Buttons__: SUCCESS : Button Found\n",
      "[3] D__Search Attach Inner Buttons__: Scraping Button List \n",
      "Inner Button Listing Found\n",
      "5\n",
      "Identified Button : attach-image\n",
      "d [<selenium.webdriver.remote.webelement.WebElement (session=\"5da6c637e6cb757f0a1d4aa6ba0dc348\", element=\"1523b727-5471-4245-b17f-e1fb00f3278d\")>]\n"
     ]
    },
    {
     "ename": "ElementNotInteractableException",
     "evalue": "Message: element not interactable\n  (Session info: chrome=91.0.4472.106)\n",
     "output_type": "error",
     "traceback": [
      "\u001b[0;31m---------------------------------------------------------------------------\u001b[0m",
      "\u001b[0;31mElementNotInteractableException\u001b[0m           Traceback (most recent call last)",
      "\u001b[0;32m<ipython-input-17-d3d7c731703c>\u001b[0m in \u001b[0;36m<module>\u001b[0;34m\u001b[0m\n\u001b[1;32m      7\u001b[0m \u001b[0mF_SEARCH_2\u001b[0m\u001b[0;34m(\u001b[0m\u001b[0mdriver\u001b[0m\u001b[0;34m,\u001b[0m\u001b[0mtarget\u001b[0m\u001b[0;34m)\u001b[0m\u001b[0;34m\u001b[0m\u001b[0;34m\u001b[0m\u001b[0m\n\u001b[1;32m      8\u001b[0m \u001b[0mF_SINGLE_SEND\u001b[0m\u001b[0;34m(\u001b[0m\u001b[0mdriver\u001b[0m\u001b[0;34m,\u001b[0m\u001b[0;34m'hi aman'\u001b[0m\u001b[0;34m)\u001b[0m\u001b[0;34m\u001b[0m\u001b[0;34m\u001b[0m\u001b[0m\n\u001b[0;32m----> 9\u001b[0;31m \u001b[0mF_DOCUMENT_SEND\u001b[0m\u001b[0;34m(\u001b[0m\u001b[0mdriver\u001b[0m\u001b[0;34m,\u001b[0m\u001b[0;34m'image'\u001b[0m\u001b[0;34m,\u001b[0m\u001b[0mrandomimage\u001b[0m\u001b[0;34m)\u001b[0m\u001b[0;34m\u001b[0m\u001b[0;34m\u001b[0m\u001b[0m\n\u001b[0m\u001b[1;32m     10\u001b[0m \u001b[0;34m\u001b[0m\u001b[0m\n\u001b[1;32m     11\u001b[0m \u001b[0;34m\u001b[0m\u001b[0m\n",
      "\u001b[0;32m<ipython-input-9-869480aa8e9c>\u001b[0m in \u001b[0;36mF_DOCUMENT_SEND\u001b[0;34m(driverVar, op, absolute_path)\u001b[0m\n\u001b[1;32m     78\u001b[0m     \u001b[0mSendButtonList\u001b[0m \u001b[0;34m=\u001b[0m \u001b[0mdriverVar\u001b[0m\u001b[0;34m.\u001b[0m\u001b[0mfind_elements_by_xpath\u001b[0m\u001b[0;34m(\u001b[0m\u001b[0;34mf\"//div[@class='{SEND_BUTTON_CLASS}']\"\u001b[0m\u001b[0;34m)\u001b[0m\u001b[0;34m\u001b[0m\u001b[0;34m\u001b[0m\u001b[0m\n\u001b[1;32m     79\u001b[0m     \u001b[0mtime\u001b[0m\u001b[0;34m.\u001b[0m\u001b[0msleep\u001b[0m\u001b[0;34m(\u001b[0m\u001b[0;36m1\u001b[0m\u001b[0;34m)\u001b[0m\u001b[0;34m\u001b[0m\u001b[0;34m\u001b[0m\u001b[0m\n\u001b[0;32m---> 80\u001b[0;31m     \u001b[0mSendButtonList\u001b[0m\u001b[0;34m[\u001b[0m\u001b[0;36m0\u001b[0m\u001b[0;34m]\u001b[0m\u001b[0;34m.\u001b[0m\u001b[0mclick\u001b[0m\u001b[0;34m(\u001b[0m\u001b[0;34m)\u001b[0m\u001b[0;34m\u001b[0m\u001b[0;34m\u001b[0m\u001b[0m\n\u001b[0m\u001b[1;32m     81\u001b[0m     \u001b[0mtime\u001b[0m\u001b[0;34m.\u001b[0m\u001b[0msleep\u001b[0m\u001b[0;34m(\u001b[0m\u001b[0;36m1\u001b[0m\u001b[0;34m)\u001b[0m\u001b[0;34m\u001b[0m\u001b[0;34m\u001b[0m\u001b[0m\n\u001b[1;32m     82\u001b[0m \u001b[0;34m\u001b[0m\u001b[0m\n",
      "\u001b[0;32m/usr/local/Caskroom/miniconda/base/envs/whatsappAuto/lib/python3.8/site-packages/selenium/webdriver/remote/webelement.py\u001b[0m in \u001b[0;36mclick\u001b[0;34m(self)\u001b[0m\n\u001b[1;32m     78\u001b[0m     \u001b[0;32mdef\u001b[0m \u001b[0mclick\u001b[0m\u001b[0;34m(\u001b[0m\u001b[0mself\u001b[0m\u001b[0;34m)\u001b[0m\u001b[0;34m:\u001b[0m\u001b[0;34m\u001b[0m\u001b[0;34m\u001b[0m\u001b[0m\n\u001b[1;32m     79\u001b[0m         \u001b[0;34m\"\"\"Clicks the element.\"\"\"\u001b[0m\u001b[0;34m\u001b[0m\u001b[0;34m\u001b[0m\u001b[0m\n\u001b[0;32m---> 80\u001b[0;31m         \u001b[0mself\u001b[0m\u001b[0;34m.\u001b[0m\u001b[0m_execute\u001b[0m\u001b[0;34m(\u001b[0m\u001b[0mCommand\u001b[0m\u001b[0;34m.\u001b[0m\u001b[0mCLICK_ELEMENT\u001b[0m\u001b[0;34m)\u001b[0m\u001b[0;34m\u001b[0m\u001b[0;34m\u001b[0m\u001b[0m\n\u001b[0m\u001b[1;32m     81\u001b[0m \u001b[0;34m\u001b[0m\u001b[0m\n\u001b[1;32m     82\u001b[0m     \u001b[0;32mdef\u001b[0m \u001b[0msubmit\u001b[0m\u001b[0;34m(\u001b[0m\u001b[0mself\u001b[0m\u001b[0;34m)\u001b[0m\u001b[0;34m:\u001b[0m\u001b[0;34m\u001b[0m\u001b[0;34m\u001b[0m\u001b[0m\n",
      "\u001b[0;32m/usr/local/Caskroom/miniconda/base/envs/whatsappAuto/lib/python3.8/site-packages/selenium/webdriver/remote/webelement.py\u001b[0m in \u001b[0;36m_execute\u001b[0;34m(self, command, params)\u001b[0m\n\u001b[1;32m    631\u001b[0m             \u001b[0mparams\u001b[0m \u001b[0;34m=\u001b[0m \u001b[0;34m{\u001b[0m\u001b[0;34m}\u001b[0m\u001b[0;34m\u001b[0m\u001b[0;34m\u001b[0m\u001b[0m\n\u001b[1;32m    632\u001b[0m         \u001b[0mparams\u001b[0m\u001b[0;34m[\u001b[0m\u001b[0;34m'id'\u001b[0m\u001b[0;34m]\u001b[0m \u001b[0;34m=\u001b[0m \u001b[0mself\u001b[0m\u001b[0;34m.\u001b[0m\u001b[0m_id\u001b[0m\u001b[0;34m\u001b[0m\u001b[0;34m\u001b[0m\u001b[0m\n\u001b[0;32m--> 633\u001b[0;31m         \u001b[0;32mreturn\u001b[0m \u001b[0mself\u001b[0m\u001b[0;34m.\u001b[0m\u001b[0m_parent\u001b[0m\u001b[0;34m.\u001b[0m\u001b[0mexecute\u001b[0m\u001b[0;34m(\u001b[0m\u001b[0mcommand\u001b[0m\u001b[0;34m,\u001b[0m \u001b[0mparams\u001b[0m\u001b[0;34m)\u001b[0m\u001b[0;34m\u001b[0m\u001b[0;34m\u001b[0m\u001b[0m\n\u001b[0m\u001b[1;32m    634\u001b[0m \u001b[0;34m\u001b[0m\u001b[0m\n\u001b[1;32m    635\u001b[0m     \u001b[0;32mdef\u001b[0m \u001b[0mfind_element\u001b[0m\u001b[0;34m(\u001b[0m\u001b[0mself\u001b[0m\u001b[0;34m,\u001b[0m \u001b[0mby\u001b[0m\u001b[0;34m=\u001b[0m\u001b[0mBy\u001b[0m\u001b[0;34m.\u001b[0m\u001b[0mID\u001b[0m\u001b[0;34m,\u001b[0m \u001b[0mvalue\u001b[0m\u001b[0;34m=\u001b[0m\u001b[0;32mNone\u001b[0m\u001b[0;34m)\u001b[0m\u001b[0;34m:\u001b[0m\u001b[0;34m\u001b[0m\u001b[0;34m\u001b[0m\u001b[0m\n",
      "\u001b[0;32m/usr/local/Caskroom/miniconda/base/envs/whatsappAuto/lib/python3.8/site-packages/selenium/webdriver/remote/webdriver.py\u001b[0m in \u001b[0;36mexecute\u001b[0;34m(self, driver_command, params)\u001b[0m\n\u001b[1;32m    319\u001b[0m         \u001b[0mresponse\u001b[0m \u001b[0;34m=\u001b[0m \u001b[0mself\u001b[0m\u001b[0;34m.\u001b[0m\u001b[0mcommand_executor\u001b[0m\u001b[0;34m.\u001b[0m\u001b[0mexecute\u001b[0m\u001b[0;34m(\u001b[0m\u001b[0mdriver_command\u001b[0m\u001b[0;34m,\u001b[0m \u001b[0mparams\u001b[0m\u001b[0;34m)\u001b[0m\u001b[0;34m\u001b[0m\u001b[0;34m\u001b[0m\u001b[0m\n\u001b[1;32m    320\u001b[0m         \u001b[0;32mif\u001b[0m \u001b[0mresponse\u001b[0m\u001b[0;34m:\u001b[0m\u001b[0;34m\u001b[0m\u001b[0;34m\u001b[0m\u001b[0m\n\u001b[0;32m--> 321\u001b[0;31m             \u001b[0mself\u001b[0m\u001b[0;34m.\u001b[0m\u001b[0merror_handler\u001b[0m\u001b[0;34m.\u001b[0m\u001b[0mcheck_response\u001b[0m\u001b[0;34m(\u001b[0m\u001b[0mresponse\u001b[0m\u001b[0;34m)\u001b[0m\u001b[0;34m\u001b[0m\u001b[0;34m\u001b[0m\u001b[0m\n\u001b[0m\u001b[1;32m    322\u001b[0m             response['value'] = self._unwrap_value(\n\u001b[1;32m    323\u001b[0m                 response.get('value', None))\n",
      "\u001b[0;32m/usr/local/Caskroom/miniconda/base/envs/whatsappAuto/lib/python3.8/site-packages/selenium/webdriver/remote/errorhandler.py\u001b[0m in \u001b[0;36mcheck_response\u001b[0;34m(self, response)\u001b[0m\n\u001b[1;32m    240\u001b[0m                 \u001b[0malert_text\u001b[0m \u001b[0;34m=\u001b[0m \u001b[0mvalue\u001b[0m\u001b[0;34m[\u001b[0m\u001b[0;34m'alert'\u001b[0m\u001b[0;34m]\u001b[0m\u001b[0;34m.\u001b[0m\u001b[0mget\u001b[0m\u001b[0;34m(\u001b[0m\u001b[0;34m'text'\u001b[0m\u001b[0;34m)\u001b[0m\u001b[0;34m\u001b[0m\u001b[0;34m\u001b[0m\u001b[0m\n\u001b[1;32m    241\u001b[0m             \u001b[0;32mraise\u001b[0m \u001b[0mexception_class\u001b[0m\u001b[0;34m(\u001b[0m\u001b[0mmessage\u001b[0m\u001b[0;34m,\u001b[0m \u001b[0mscreen\u001b[0m\u001b[0;34m,\u001b[0m \u001b[0mstacktrace\u001b[0m\u001b[0;34m,\u001b[0m \u001b[0malert_text\u001b[0m\u001b[0;34m)\u001b[0m\u001b[0;34m\u001b[0m\u001b[0;34m\u001b[0m\u001b[0m\n\u001b[0;32m--> 242\u001b[0;31m         \u001b[0;32mraise\u001b[0m \u001b[0mexception_class\u001b[0m\u001b[0;34m(\u001b[0m\u001b[0mmessage\u001b[0m\u001b[0;34m,\u001b[0m \u001b[0mscreen\u001b[0m\u001b[0;34m,\u001b[0m \u001b[0mstacktrace\u001b[0m\u001b[0;34m)\u001b[0m\u001b[0;34m\u001b[0m\u001b[0;34m\u001b[0m\u001b[0m\n\u001b[0m\u001b[1;32m    243\u001b[0m \u001b[0;34m\u001b[0m\u001b[0m\n\u001b[1;32m    244\u001b[0m     \u001b[0;32mdef\u001b[0m \u001b[0m_value_or_default\u001b[0m\u001b[0;34m(\u001b[0m\u001b[0mself\u001b[0m\u001b[0;34m,\u001b[0m \u001b[0mobj\u001b[0m\u001b[0;34m,\u001b[0m \u001b[0mkey\u001b[0m\u001b[0;34m,\u001b[0m \u001b[0mdefault\u001b[0m\u001b[0;34m)\u001b[0m\u001b[0;34m:\u001b[0m\u001b[0;34m\u001b[0m\u001b[0;34m\u001b[0m\u001b[0m\n",
      "\u001b[0;31mElementNotInteractableException\u001b[0m: Message: element not interactable\n  (Session info: chrome=91.0.4472.106)\n"
     ]
    }
   ],
   "source": [
    "\n",
    "\n",
    "\n",
    "\n",
    "\n",
    "\n",
    "\n",
    "F_SEARCH_2(driver,target)\n",
    "\n",
    "F_SEARCH_2(driver,target2)\n",
    "F_SINGLE_SEND(driver,'hi aahana')\n",
    "F_DOCUMENT_SEND(driver,'document',randomfile)\n",
    "\n",
    "F_SEARCH_2(driver,target)\n",
    "F_SINGLE_SEND(driver,'hi aman')\n",
    "F_DOCUMENT_SEND(driver,'image',randomimage)"
   ]
  },
  {
   "cell_type": "code",
   "execution_count": null,
   "id": "74590d5b",
   "metadata": {},
   "outputs": [],
   "source": []
  },
  {
   "cell_type": "code",
   "execution_count": 10,
   "id": "de118ad4",
   "metadata": {},
   "outputs": [],
   "source": [
    "mission = pd.read_csv('./input/send_test.csv')"
   ]
  },
  {
   "cell_type": "code",
   "execution_count": 11,
   "id": "8bef3022",
   "metadata": {},
   "outputs": [
    {
     "name": "stdout",
     "output_type": "stream",
     "text": [
      "1\n",
      "1\n",
      "D__Search Chat Header__ : Trying Unfocussed\n",
      "D__Search Chat Header__ : Unfocussed failed, trying focussed;\n",
      "D__Search Chat Header__ :  Length of Chat Header Div => 1\n",
      "1\n",
      "1\n",
      "1\n",
      "D__Search Chat Header__ : Trying Unfocussed\n",
      "D__Search Chat Header__ : Unfocussed failed, trying focussed;\n",
      "D__Search Chat Header__ :  Length of Chat Header Div => 1\n",
      "1\n",
      "1\n",
      "1\n",
      "D__Search Chat Header__ : Trying Unfocussed\n",
      "D__Search Chat Header__ :  Length of Chat Header Div => 1\n",
      "1\n",
      "1\n",
      "1\n",
      "Your Selected Operation is attach-image\n",
      "[1] D__Search Page Buttons__: Scraping Button List \n",
      "[2] D__Filter Page Buttons__: SUCCESS : Button Found\n",
      "[3] D__Search Attach Inner Buttons__: Scraping Button List \n",
      "Inner Button Listing Found\n",
      "5\n",
      "Identified Button : attach-image\n",
      "d [<selenium.webdriver.remote.webelement.WebElement (session=\"59aea68c84d2f2f7535411e5bcff88d9\", element=\"5294be2a-86f8-4a6d-a2b6-176d892f35b8\")>]\n"
     ]
    },
    {
     "ename": "InvalidArgumentException",
     "evalue": "Message: invalid argument: File not found : '/Users/smngi20/CORE/tpc/waAuto/main/Screenshot 2021-06-17 at 4.31.01 PM.png'\n  (Session info: chrome=91.0.4472.106)\n",
     "output_type": "error",
     "traceback": [
      "\u001b[0;31m---------------------------------------------------------------------------\u001b[0m",
      "\u001b[0;31mInvalidArgumentException\u001b[0m                  Traceback (most recent call last)",
      "\u001b[0;32m<ipython-input-11-f7255335a430>\u001b[0m in \u001b[0;36m<module>\u001b[0;34m\u001b[0m\n\u001b[1;32m     10\u001b[0m     \u001b[0;32mif\u001b[0m \u001b[0mmainoperation\u001b[0m \u001b[0;34m==\u001b[0m \u001b[0;34m'image'\u001b[0m\u001b[0;34m:\u001b[0m\u001b[0;34m\u001b[0m\u001b[0;34m\u001b[0m\u001b[0m\n\u001b[1;32m     11\u001b[0m         \u001b[0mF_SEARCH_2\u001b[0m\u001b[0;34m(\u001b[0m\u001b[0mdriver\u001b[0m\u001b[0;34m,\u001b[0m\u001b[0mtarget\u001b[0m\u001b[0;34m)\u001b[0m\u001b[0;34m\u001b[0m\u001b[0;34m\u001b[0m\u001b[0m\n\u001b[0;32m---> 12\u001b[0;31m         \u001b[0mF_DOCUMENT_SEND\u001b[0m\u001b[0;34m(\u001b[0m\u001b[0mdriver\u001b[0m\u001b[0;34m,\u001b[0m\u001b[0;34m'image'\u001b[0m\u001b[0;34m,\u001b[0m\u001b[0mcontent\u001b[0m\u001b[0;34m)\u001b[0m\u001b[0;34m\u001b[0m\u001b[0;34m\u001b[0m\u001b[0m\n\u001b[0m\u001b[1;32m     13\u001b[0m \u001b[0;34m\u001b[0m\u001b[0m\n\u001b[1;32m     14\u001b[0m     \u001b[0;32mif\u001b[0m \u001b[0mmainoperation\u001b[0m \u001b[0;34m==\u001b[0m \u001b[0;34m'document'\u001b[0m\u001b[0;34m:\u001b[0m\u001b[0;34m\u001b[0m\u001b[0;34m\u001b[0m\u001b[0m\n",
      "\u001b[0;32m<ipython-input-9-869480aa8e9c>\u001b[0m in \u001b[0;36mF_DOCUMENT_SEND\u001b[0;34m(driverVar, op, absolute_path)\u001b[0m\n\u001b[1;32m     66\u001b[0m         \u001b[0;32mif\u001b[0m \u001b[0;34m(\u001b[0m\u001b[0midentified\u001b[0m \u001b[0;34m==\u001b[0m \u001b[0moperation\u001b[0m\u001b[0;34m)\u001b[0m\u001b[0;34m:\u001b[0m\u001b[0;34m\u001b[0m\u001b[0;34m\u001b[0m\u001b[0m\n\u001b[1;32m     67\u001b[0m             \u001b[0mtime\u001b[0m\u001b[0;34m.\u001b[0m\u001b[0msleep\u001b[0m\u001b[0;34m(\u001b[0m\u001b[0;36m2\u001b[0m\u001b[0;34m)\u001b[0m\u001b[0;34m\u001b[0m\u001b[0;34m\u001b[0m\u001b[0m\n\u001b[0;32m---> 68\u001b[0;31m             \u001b[0mInputElement\u001b[0m\u001b[0;34m[\u001b[0m\u001b[0;36m0\u001b[0m\u001b[0;34m]\u001b[0m\u001b[0;34m.\u001b[0m\u001b[0msend_keys\u001b[0m\u001b[0;34m(\u001b[0m\u001b[0mabsolute_path\u001b[0m\u001b[0;34m)\u001b[0m\u001b[0;34m\u001b[0m\u001b[0;34m\u001b[0m\u001b[0m\n\u001b[0m\u001b[1;32m     69\u001b[0m             \u001b[0;32mbreak\u001b[0m\u001b[0;34m\u001b[0m\u001b[0;34m\u001b[0m\u001b[0m\n\u001b[1;32m     70\u001b[0m             \u001b[0mtime\u001b[0m\u001b[0;34m.\u001b[0m\u001b[0msleep\u001b[0m\u001b[0;34m(\u001b[0m\u001b[0;36m2\u001b[0m\u001b[0;34m)\u001b[0m\u001b[0;34m\u001b[0m\u001b[0;34m\u001b[0m\u001b[0m\n",
      "\u001b[0;32m/usr/local/Caskroom/miniconda/base/envs/whatsappAuto/lib/python3.8/site-packages/selenium/webdriver/remote/webelement.py\u001b[0m in \u001b[0;36msend_keys\u001b[0;34m(self, *value)\u001b[0m\n\u001b[1;32m    475\u001b[0m                 \u001b[0mvalue\u001b[0m \u001b[0;34m=\u001b[0m \u001b[0mself\u001b[0m\u001b[0;34m.\u001b[0m\u001b[0m_upload\u001b[0m\u001b[0;34m(\u001b[0m\u001b[0mlocal_file\u001b[0m\u001b[0;34m)\u001b[0m\u001b[0;34m\u001b[0m\u001b[0;34m\u001b[0m\u001b[0m\n\u001b[1;32m    476\u001b[0m \u001b[0;34m\u001b[0m\u001b[0m\n\u001b[0;32m--> 477\u001b[0;31m         self._execute(Command.SEND_KEYS_TO_ELEMENT,\n\u001b[0m\u001b[1;32m    478\u001b[0m                       {'text': \"\".join(keys_to_typing(value)),\n\u001b[1;32m    479\u001b[0m                        'value': keys_to_typing(value)})\n",
      "\u001b[0;32m/usr/local/Caskroom/miniconda/base/envs/whatsappAuto/lib/python3.8/site-packages/selenium/webdriver/remote/webelement.py\u001b[0m in \u001b[0;36m_execute\u001b[0;34m(self, command, params)\u001b[0m\n\u001b[1;32m    631\u001b[0m             \u001b[0mparams\u001b[0m \u001b[0;34m=\u001b[0m \u001b[0;34m{\u001b[0m\u001b[0;34m}\u001b[0m\u001b[0;34m\u001b[0m\u001b[0;34m\u001b[0m\u001b[0m\n\u001b[1;32m    632\u001b[0m         \u001b[0mparams\u001b[0m\u001b[0;34m[\u001b[0m\u001b[0;34m'id'\u001b[0m\u001b[0;34m]\u001b[0m \u001b[0;34m=\u001b[0m \u001b[0mself\u001b[0m\u001b[0;34m.\u001b[0m\u001b[0m_id\u001b[0m\u001b[0;34m\u001b[0m\u001b[0;34m\u001b[0m\u001b[0m\n\u001b[0;32m--> 633\u001b[0;31m         \u001b[0;32mreturn\u001b[0m \u001b[0mself\u001b[0m\u001b[0;34m.\u001b[0m\u001b[0m_parent\u001b[0m\u001b[0;34m.\u001b[0m\u001b[0mexecute\u001b[0m\u001b[0;34m(\u001b[0m\u001b[0mcommand\u001b[0m\u001b[0;34m,\u001b[0m \u001b[0mparams\u001b[0m\u001b[0;34m)\u001b[0m\u001b[0;34m\u001b[0m\u001b[0;34m\u001b[0m\u001b[0m\n\u001b[0m\u001b[1;32m    634\u001b[0m \u001b[0;34m\u001b[0m\u001b[0m\n\u001b[1;32m    635\u001b[0m     \u001b[0;32mdef\u001b[0m \u001b[0mfind_element\u001b[0m\u001b[0;34m(\u001b[0m\u001b[0mself\u001b[0m\u001b[0;34m,\u001b[0m \u001b[0mby\u001b[0m\u001b[0;34m=\u001b[0m\u001b[0mBy\u001b[0m\u001b[0;34m.\u001b[0m\u001b[0mID\u001b[0m\u001b[0;34m,\u001b[0m \u001b[0mvalue\u001b[0m\u001b[0;34m=\u001b[0m\u001b[0;32mNone\u001b[0m\u001b[0;34m)\u001b[0m\u001b[0;34m:\u001b[0m\u001b[0;34m\u001b[0m\u001b[0;34m\u001b[0m\u001b[0m\n",
      "\u001b[0;32m/usr/local/Caskroom/miniconda/base/envs/whatsappAuto/lib/python3.8/site-packages/selenium/webdriver/remote/webdriver.py\u001b[0m in \u001b[0;36mexecute\u001b[0;34m(self, driver_command, params)\u001b[0m\n\u001b[1;32m    319\u001b[0m         \u001b[0mresponse\u001b[0m \u001b[0;34m=\u001b[0m \u001b[0mself\u001b[0m\u001b[0;34m.\u001b[0m\u001b[0mcommand_executor\u001b[0m\u001b[0;34m.\u001b[0m\u001b[0mexecute\u001b[0m\u001b[0;34m(\u001b[0m\u001b[0mdriver_command\u001b[0m\u001b[0;34m,\u001b[0m \u001b[0mparams\u001b[0m\u001b[0;34m)\u001b[0m\u001b[0;34m\u001b[0m\u001b[0;34m\u001b[0m\u001b[0m\n\u001b[1;32m    320\u001b[0m         \u001b[0;32mif\u001b[0m \u001b[0mresponse\u001b[0m\u001b[0;34m:\u001b[0m\u001b[0;34m\u001b[0m\u001b[0;34m\u001b[0m\u001b[0m\n\u001b[0;32m--> 321\u001b[0;31m             \u001b[0mself\u001b[0m\u001b[0;34m.\u001b[0m\u001b[0merror_handler\u001b[0m\u001b[0;34m.\u001b[0m\u001b[0mcheck_response\u001b[0m\u001b[0;34m(\u001b[0m\u001b[0mresponse\u001b[0m\u001b[0;34m)\u001b[0m\u001b[0;34m\u001b[0m\u001b[0;34m\u001b[0m\u001b[0m\n\u001b[0m\u001b[1;32m    322\u001b[0m             response['value'] = self._unwrap_value(\n\u001b[1;32m    323\u001b[0m                 response.get('value', None))\n",
      "\u001b[0;32m/usr/local/Caskroom/miniconda/base/envs/whatsappAuto/lib/python3.8/site-packages/selenium/webdriver/remote/errorhandler.py\u001b[0m in \u001b[0;36mcheck_response\u001b[0;34m(self, response)\u001b[0m\n\u001b[1;32m    240\u001b[0m                 \u001b[0malert_text\u001b[0m \u001b[0;34m=\u001b[0m \u001b[0mvalue\u001b[0m\u001b[0;34m[\u001b[0m\u001b[0;34m'alert'\u001b[0m\u001b[0;34m]\u001b[0m\u001b[0;34m.\u001b[0m\u001b[0mget\u001b[0m\u001b[0;34m(\u001b[0m\u001b[0;34m'text'\u001b[0m\u001b[0;34m)\u001b[0m\u001b[0;34m\u001b[0m\u001b[0;34m\u001b[0m\u001b[0m\n\u001b[1;32m    241\u001b[0m             \u001b[0;32mraise\u001b[0m \u001b[0mexception_class\u001b[0m\u001b[0;34m(\u001b[0m\u001b[0mmessage\u001b[0m\u001b[0;34m,\u001b[0m \u001b[0mscreen\u001b[0m\u001b[0;34m,\u001b[0m \u001b[0mstacktrace\u001b[0m\u001b[0;34m,\u001b[0m \u001b[0malert_text\u001b[0m\u001b[0;34m)\u001b[0m\u001b[0;34m\u001b[0m\u001b[0;34m\u001b[0m\u001b[0m\n\u001b[0;32m--> 242\u001b[0;31m         \u001b[0;32mraise\u001b[0m \u001b[0mexception_class\u001b[0m\u001b[0;34m(\u001b[0m\u001b[0mmessage\u001b[0m\u001b[0;34m,\u001b[0m \u001b[0mscreen\u001b[0m\u001b[0;34m,\u001b[0m \u001b[0mstacktrace\u001b[0m\u001b[0;34m)\u001b[0m\u001b[0;34m\u001b[0m\u001b[0;34m\u001b[0m\u001b[0m\n\u001b[0m\u001b[1;32m    243\u001b[0m \u001b[0;34m\u001b[0m\u001b[0m\n\u001b[1;32m    244\u001b[0m     \u001b[0;32mdef\u001b[0m \u001b[0m_value_or_default\u001b[0m\u001b[0;34m(\u001b[0m\u001b[0mself\u001b[0m\u001b[0;34m,\u001b[0m \u001b[0mobj\u001b[0m\u001b[0;34m,\u001b[0m \u001b[0mkey\u001b[0m\u001b[0;34m,\u001b[0m \u001b[0mdefault\u001b[0m\u001b[0;34m)\u001b[0m\u001b[0;34m:\u001b[0m\u001b[0;34m\u001b[0m\u001b[0;34m\u001b[0m\u001b[0m\n",
      "\u001b[0;31mInvalidArgumentException\u001b[0m: Message: invalid argument: File not found : '/Users/smngi20/CORE/tpc/waAuto/main/Screenshot 2021-06-17 at 4.31.01 PM.png'\n  (Session info: chrome=91.0.4472.106)\n"
     ]
    }
   ],
   "source": [
    "for row in mission.itertuples():\n",
    "    target = row.number\n",
    "    mainoperation = row.operation\n",
    "    content = row.content\n",
    "    \n",
    "    if mainoperation == 'message':\n",
    "        F_SEARCH_2(driver,target)\n",
    "        F_SINGLE_SEND(driver,content)\n",
    "    \n",
    "    if mainoperation == 'image':\n",
    "        F_SEARCH_2(driver,target)\n",
    "        F_DOCUMENT_SEND(driver,'image',content)\n",
    "        \n",
    "    if mainoperation == 'document':\n",
    "        F_SEARCH_2(driver,target)\n",
    "        F_DOCUMENT_SEND(driver,'document',content)\n",
    "        \n",
    "\n",
    "        "
   ]
  },
  {
   "cell_type": "code",
   "execution_count": null,
   "id": "fe332ff1",
   "metadata": {},
   "outputs": [],
   "source": []
  },
  {
   "cell_type": "code",
   "execution_count": null,
   "id": "4ab3dc97",
   "metadata": {},
   "outputs": [],
   "source": []
  },
  {
   "cell_type": "code",
   "execution_count": null,
   "id": "8e98ca95",
   "metadata": {},
   "outputs": [],
   "source": []
  }
 ],
 "metadata": {
  "kernelspec": {
   "display_name": "Python 3 (ipykernel)",
   "language": "python",
   "name": "python3"
  },
  "language_info": {
   "codemirror_mode": {
    "name": "ipython",
    "version": 3
   },
   "file_extension": ".py",
   "mimetype": "text/x-python",
   "name": "python",
   "nbconvert_exporter": "python",
   "pygments_lexer": "ipython3",
   "version": "3.7.11"
  }
 },
 "nbformat": 4,
 "nbformat_minor": 5
}

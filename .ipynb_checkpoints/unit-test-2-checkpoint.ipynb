{
 "cells": [
  {
   "cell_type": "markdown",
   "id": "59670ad7",
   "metadata": {},
   "source": [
    "# Testing Attachment Read and Firebase Sync "
   ]
  },
  {
   "cell_type": "code",
   "execution_count": 1,
   "id": "cdb2f617",
   "metadata": {},
   "outputs": [],
   "source": [
    "# Firebase Imports \n",
    "import firebase_admin\n",
    "from firebase_admin import credentials\n",
    "from firebase_admin import firestore\n",
    "import threading\n",
    "from google.api_core.datetime_helpers import DatetimeWithNanoseconds\n",
    "\n",
    "# Selenium Imports \n",
    "from selenium import webdriver\n",
    "from selenium.webdriver.common.keys import Keys\n",
    "from selenium.webdriver.support.ui import WebDriverWait\n",
    "from selenium.webdriver.support.ui import Select\n",
    "from selenium.webdriver.common.by import By\n",
    "from selenium.webdriver.common.keys import Keys\n",
    "from selenium.webdriver.chrome.options import Options\n",
    "from webdriver_manager.chrome import ChromeDriverManager\n",
    "from selenium.webdriver.common.action_chains import ActionChains\n",
    "\n",
    "# Utility Imports\n",
    "import copy\n",
    "from urllib.parse import urlparse\n",
    "import numpy as np\n",
    "import pandas as pd\n",
    "import re \n",
    "from pathlib import Path\n",
    "import os\n",
    "import time\n",
    "from datetime import date\n",
    "from datetime import timedelta\n",
    "from datetime import datetime\n",
    "import dateutil.parser as parser\n",
    "import urllib.request\n",
    "import random\n",
    "from dateutil.parser import parse\n",
    "\n",
    "import time\n",
    "\n",
    "today = date.today()\n",
    "cwd = os.getcwd()"
   ]
  },
  {
   "cell_type": "code",
   "execution_count": 86,
   "id": "2208854e",
   "metadata": {},
   "outputs": [],
   "source": [
    "from functions_utils import *\n",
    "from functions_fb import * \n",
    "from functions_wa import * "
   ]
  },
  {
   "cell_type": "code",
   "execution_count": 3,
   "id": "ecf0f611",
   "metadata": {},
   "outputs": [],
   "source": [
    "CLIENT_ID = u'YIJ3bLzUXlubsxnDPnDR' # ID of client \n",
    "PROJECT_ID = u'BOuyALnDYmDHSBW7kAZm' # ID of the project \n",
    "RESET_NO = '9953674770' # Number Used to search functionality"
   ]
  },
  {
   "cell_type": "code",
   "execution_count": 4,
   "id": "2f482303",
   "metadata": {},
   "outputs": [],
   "source": [
    "firebase_project_id = 'tpc-dev-5330f'\n",
    "# Use the application default credentials\n",
    "cred = firebase_admin.credentials.Certificate('./secret/tpc-dev-5330f-firebase-adminsdk-2p698-e13719db26.json')\n",
    "\n",
    "firebase_admin.initialize_app(cred, {\n",
    "  'projectId': firebase_project_id,\n",
    "})\n",
    "\n",
    "db = firestore.client()"
   ]
  },
  {
   "cell_type": "code",
   "execution_count": 5,
   "id": "83585d64",
   "metadata": {},
   "outputs": [
    {
     "name": "stderr",
     "output_type": "stream",
     "text": [
      "[WDM] - \n",
      "\n",
      "[WDM] - ====== WebDriver manager ======\n",
      "[WDM] - Current google-chrome version is 101.0.4951\n",
      "[WDM] - Get LATEST driver version for 101.0.4951\n",
      "[WDM] - Driver [/Users/flipflops/.wdm/drivers/chromedriver/mac64/101.0.4951.41/chromedriver] found in cache\n",
      "/usr/local/Caskroom/miniconda/base/envs/tpc-wa/lib/python3.7/site-packages/ipykernel_launcher.py:5: DeprecationWarning: executable_path has been deprecated, please pass in a Service object\n",
      "  \"\"\"\n"
     ]
    }
   ],
   "source": [
    "# Starting the selenium webserver and getting whatsapp \n",
    "userprofile = 'samarth'\n",
    "options = webdriver.ChromeOptions()\n",
    "options.add_argument(f\"user-data-dir={cwd}/.\"+userprofile+\"UserProfile\")\n",
    "driver = webdriver.Chrome(ChromeDriverManager().install() , options=options)\n",
    "driver.get(\"https://web.whatsapp.com/\")"
   ]
  },
  {
   "cell_type": "markdown",
   "id": "43e75996",
   "metadata": {},
   "source": [
    "## 1.1 Open Gallery Reliably\n",
    "\n",
    "> 1. Open any CONTACT (in whatsapp)\n",
    "> 2. Run the following cell \n",
    "> 3. Repeat\n",
    "\n",
    "- Tasks \n",
    "    - Check if gallery tab opens consistently \n",
    "    - Check if gallery does not open consistently (What does it do with the various downloaded/not downloaded images) "
   ]
  },
  {
   "cell_type": "code",
   "execution_count": 88,
   "id": "aa7fb6ed",
   "metadata": {},
   "outputs": [
    {
     "name": "stdout",
     "output_type": "stream",
     "text": [
      "Open Gallery, Trial : 1\n",
      "Found Modal\n"
     ]
    },
    {
     "data": {
      "text/plain": [
       "True"
      ]
     },
     "execution_count": 88,
     "metadata": {},
     "output_type": "execute_result"
    }
   ],
   "source": [
    "OpenGallery2(driver,0,0)"
   ]
  },
  {
   "cell_type": "markdown",
   "id": "53b7d2be",
   "metadata": {},
   "source": [
    "## 1.2 Download From Gallery Reliably "
   ]
  },
  {
   "cell_type": "code",
   "execution_count": 107,
   "id": "87a790e5",
   "metadata": {},
   "outputs": [
    {
     "data": {
      "text/plain": [
       "'Steve\\n4/25/2022 at 3:53 PM'"
      ]
     },
     "execution_count": 107,
     "metadata": {},
     "output_type": "execute_result"
    }
   ],
   "source": [
    "# Check if in gallery \n",
    "STACK = ''\n",
    "\n",
    "modal_component = head_component.find_elements(By.XPATH,f\".//div[@data-testid='media-viewer-modal']\")\n",
    "if len(modal_component) == 1 :\n",
    "    print('in Gallery')\n",
    "else:\n",
    "    return False\n",
    "\n",
    "STACK = \n",
    "\n",
    "# get current file info\n",
    "head_component = driver.find_elements(By.XPATH,f\"//div[@id='app']\")[0]\n",
    "\n",
    "\n",
    "\n",
    "modal_component[0].text"
   ]
  },
  {
   "cell_type": "code",
   "execution_count": 100,
   "id": "c37a0e4f",
   "metadata": {},
   "outputs": [],
   "source": [
    "head_component = driver.find_elements(By.XPATH,f\"//div[@id='app']\")[0]\n",
    "left_clicker = head_component.find_elements(By.XPATH,f\".//div[@aria-label='Previous']\")"
   ]
  },
  {
   "cell_type": "code",
   "execution_count": 101,
   "id": "7d0f1f65",
   "metadata": {},
   "outputs": [
    {
     "data": {
      "text/plain": [
       "[<selenium.webdriver.remote.webelement.WebElement (session=\"8955776a76a957d0512c160c0ed37edb\", element=\"874ff3ec-54cf-41cd-b87c-0c20634f2fd0\")>]"
      ]
     },
     "execution_count": 101,
     "metadata": {},
     "output_type": "execute_result"
    }
   ],
   "source": [
    "left_clicker"
   ]
  },
  {
   "cell_type": "code",
   "execution_count": 102,
   "id": "f5632512",
   "metadata": {},
   "outputs": [],
   "source": [
    "if len(left_clicker)==1:\n",
    "    left_clicker[0].click()\n",
    "\n"
   ]
  },
  {
   "cell_type": "code",
   "execution_count": null,
   "id": "9be22863",
   "metadata": {},
   "outputs": [],
   "source": []
  }
 ],
 "metadata": {
  "kernelspec": {
   "display_name": "Python 3 (ipykernel)",
   "language": "python",
   "name": "python3"
  },
  "language_info": {
   "codemirror_mode": {
    "name": "ipython",
    "version": 3
   },
   "file_extension": ".py",
   "mimetype": "text/x-python",
   "name": "python",
   "nbconvert_exporter": "python",
   "pygments_lexer": "ipython3",
   "version": "3.7.11"
  }
 },
 "nbformat": 4,
 "nbformat_minor": 5
}

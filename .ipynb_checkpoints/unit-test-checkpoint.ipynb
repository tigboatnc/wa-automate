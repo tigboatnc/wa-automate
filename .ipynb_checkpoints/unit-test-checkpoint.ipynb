{
 "cells": [
  {
   "cell_type": "markdown",
   "id": "c86060f9",
   "metadata": {},
   "source": [
    "# 1.0 Import Essentials"
   ]
  },
  {
   "cell_type": "code",
   "execution_count": 1,
   "id": "2c662441",
   "metadata": {},
   "outputs": [],
   "source": [
    "\n",
    "# Firebase Imports \n",
    "import firebase_admin\n",
    "from firebase_admin import credentials\n",
    "from firebase_admin import firestore\n",
    "import threading\n",
    "from google.api_core.datetime_helpers import DatetimeWithNanoseconds\n",
    "\n",
    "# Selenium Imports \n",
    "from selenium import webdriver\n",
    "from selenium.webdriver.common.keys import Keys\n",
    "from selenium.webdriver.support.ui import WebDriverWait\n",
    "from selenium.webdriver.support.ui import Select\n",
    "from selenium.webdriver.common.by import By\n",
    "from selenium.webdriver.common.keys import Keys\n",
    "from selenium.webdriver.chrome.options import Options\n",
    "from webdriver_manager.chrome import ChromeDriverManager\n",
    "from selenium.webdriver.common.action_chains import ActionChains\n",
    "\n",
    "# Utility Imports\n",
    "import copy\n",
    "from urllib.parse import urlparse\n",
    "import numpy as np\n",
    "import pandas as pd\n",
    "import re \n",
    "from pathlib import Path\n",
    "import os\n",
    "import time\n",
    "from datetime import date\n",
    "from datetime import timedelta\n",
    "from datetime import datetime\n",
    "import dateutil.parser as parser\n",
    "import urllib.request\n",
    "import random\n",
    "from dateutil.parser import parse\n",
    "\n",
    "import time\n",
    "from functions_utils import *\n",
    "from functions_fb import * \n",
    "from functions_wa import * \n",
    "today = date.today()\n",
    "cwd = os.getcwd()"
   ]
  },
  {
   "cell_type": "markdown",
   "id": "0743034b",
   "metadata": {},
   "source": [
    "# 2.0 ENV VARIABLES + INIT"
   ]
  },
  {
   "cell_type": "code",
   "execution_count": 2,
   "id": "f7918e92",
   "metadata": {},
   "outputs": [],
   "source": [
    "CLIENT_ID = u'YIJ3bLzUXlubsxnDPnDR' # ID of client \n",
    "PROJECT_ID = u'BOuyALnDYmDHSBW7kAZm' # ID of the project \n",
    "RESET_NO = '9953674770' # Number Used to search functionality"
   ]
  },
  {
   "cell_type": "code",
   "execution_count": 3,
   "id": "da98e1cf",
   "metadata": {},
   "outputs": [],
   "source": [
    "firebase_project_id = 'tpc-dev-5330f'\n",
    "# Use the application default credentials\n",
    "cred = firebase_admin.credentials.Certificate('./secret/tpc-dev-5330f-firebase-adminsdk-2p698-e13719db26.json')\n",
    "\n",
    "firebase_admin.initialize_app(cred, {\n",
    "  'projectId': firebase_project_id,\n",
    "})\n",
    "\n",
    "db = firestore.client()"
   ]
  },
  {
   "cell_type": "code",
   "execution_count": 4,
   "id": "95a83b4a",
   "metadata": {},
   "outputs": [
    {
     "name": "stderr",
     "output_type": "stream",
     "text": [
      "[WDM] - \n",
      "\n",
      "[WDM] - ====== WebDriver manager ======\n",
      "[WDM] - Current google-chrome version is 101.0.4951\n",
      "[WDM] - Get LATEST driver version for 101.0.4951\n",
      "[WDM] - Driver [/Users/flipflops/.wdm/drivers/chromedriver/mac64/101.0.4951.41/chromedriver] found in cache\n",
      "/usr/local/Caskroom/miniconda/base/envs/tpc-wa/lib/python3.7/site-packages/ipykernel_launcher.py:5: DeprecationWarning: executable_path has been deprecated, please pass in a Service object\n",
      "  \"\"\"\n"
     ]
    }
   ],
   "source": [
    "# Starting the selenium webserver and getting whatsapp \n",
    "userprofile = 'samarth'\n",
    "options = webdriver.ChromeOptions()\n",
    "options.add_argument(f\"user-data-dir={cwd}/.\"+userprofile+\"UserProfile\")\n",
    "driver = webdriver.Chrome(ChromeDriverManager().install() , options=options)\n",
    "driver.get(\"https://web.whatsapp.com/\")"
   ]
  },
  {
   "cell_type": "markdown",
   "id": "04dd971a",
   "metadata": {},
   "source": [
    "# TESTBENCH"
   ]
  },
  {
   "cell_type": "markdown",
   "id": "ead5737b",
   "metadata": {},
   "source": [
    "## 3.2 Firebase "
   ]
  },
  {
   "cell_type": "code",
   "execution_count": 18,
   "id": "ec886234",
   "metadata": {},
   "outputs": [
    {
     "name": "stdout",
     "output_type": "stream",
     "text": [
      "<function FBASE_getCommandQueue at 0x7fad19568ef0> : Received new command queue with 1 commands\n"
     ]
    }
   ],
   "source": [
    "comQueue = FBASE_getCommandQueue(db,CLIENT_ID,PROJECT_ID)\n",
    "# comQueue = FBASE_commandQueueVerification(CLIENT_ID,PROJECT_ID,comQueue)"
   ]
  },
  {
   "cell_type": "code",
   "execution_count": 19,
   "id": "e92e4b93",
   "metadata": {},
   "outputs": [
    {
     "data": {
      "text/plain": [
       "[{'attachment': '',\n",
       "  'type': 'send',\n",
       "  'createdAt': DatetimeWithNanoseconds(2022, 5, 7, 8, 58, 25, 123000, tzinfo=datetime.timezone.utc),\n",
       "  'guestId': 'f54PXl4nxrTAk3bQSxgP',\n",
       "  'contactPhone': '9953674770',\n",
       "  'messageContent': 'yolo',\n",
       "  'clientId': 'YIJ3bLzUXlubsxnDPnDR',\n",
       "  'processed': False,\n",
       "  'DOCUMENT_ID': '2TH5h3gZbEyLu5OhXXEl'}]"
      ]
     },
     "execution_count": 19,
     "metadata": {},
     "output_type": "execute_result"
    }
   ],
   "source": [
    "comQueue"
   ]
  },
  {
   "cell_type": "markdown",
   "id": "755ce79e",
   "metadata": {},
   "source": [
    "## 3.3 Automation"
   ]
  },
  {
   "cell_type": "code",
   "execution_count": 20,
   "id": "a534ac20",
   "metadata": {},
   "outputs": [
    {
     "name": "stdout",
     "output_type": "stream",
     "text": [
      "Yes we are in contact info page: Verified\n",
      "+91 97110 96888\n",
      "~A\n"
     ]
    },
    {
     "data": {
      "text/plain": [
       "('A', '+91 97110 96888')"
      ]
     },
     "execution_count": 20,
     "metadata": {},
     "output_type": "execute_result"
    }
   ],
   "source": [
    "# Get current user details from OPEN user\n",
    "WA_PROFILE_VIEWER(driver)"
   ]
  },
  {
   "cell_type": "code",
   "execution_count": 12,
   "id": "e62f4224",
   "metadata": {},
   "outputs": [
    {
     "data": {
      "text/plain": [
       "[{'time': '6:11 PM', 'msg': 'see ya', 'type': 'mi', 'date': 'SUNDAY'},\n",
       " {'time': '6:05 PM', 'msg': 'Ya', 'type': 'mi', 'date': 'SUNDAY'},\n",
       " {'time': '5:43 PM',\n",
       "  'msg': 'Gym tmr 10 \\nLeg day\\nIn or not',\n",
       "  'type': 'mi',\n",
       "  'date': 'SUNDAY'},\n",
       " {'time': '4:26 PM',\n",
       "  'msg': 'But all the rice are cooked in the same way',\n",
       "  'type': 'mi',\n",
       "  'date': 'SUNDAY'},\n",
       " {'time': '4:26 PM',\n",
       "  'msg': 'You\\nI ordered from Seoul spice\\nThen that should be sushi rice',\n",
       "  'type': 'mi',\n",
       "  'date': 'SUNDAY'},\n",
       " {'time': '4:25 PM',\n",
       "  'msg': \"Thought you'd know\",\n",
       "  'type': 'mi',\n",
       "  'date': 'SUNDAY'},\n",
       " {'time': '4:25 PM',\n",
       "  'msg': 'I ordered from Seoul spice',\n",
       "  'type': 'mi',\n",
       "  'date': 'SUNDAY'},\n",
       " {'time': '4:24 PM', 'msg': '', 'type': 'mi', 'date': 'SUNDAY'},\n",
       " {'time': '4:24 PM',\n",
       "  'msg': 'Cuz the name for China’s rice is called rice',\n",
       "  'type': 'mi',\n",
       "  'date': 'SUNDAY'},\n",
       " {'time': '4:24 PM', 'msg': 'Lol', 'type': 'mi', 'date': 'SUNDAY'},\n",
       " {'time': '4:23 PM',\n",
       "  'msg': \"You\\nI see you've been learning from me\\nAt how good my tips are\",\n",
       "  'type': 'mi',\n",
       "  'date': 'SUNDAY'},\n",
       " {'time': '4:23 PM',\n",
       "  'msg': \"You\\nI see you've been learning from me\\nLike how bruh\",\n",
       "  'type': 'mi',\n",
       "  'date': 'SUNDAY'},\n",
       " {'time': '4:23 PM',\n",
       "  'msg': 'Notify if u see this car',\n",
       "  'type': 'mi',\n",
       "  'date': 'SUNDAY'},\n",
       " {'time': '4:23 PM',\n",
       "  'msg': 'Strongman George\\nYou know what is this?\\nChild kidnapped',\n",
       "  'type': 'mi',\n",
       "  'date': 'SUNDAY'},\n",
       " {'time': '4:22 PM',\n",
       "  'msg': \"I see you've been learning from me\",\n",
       "  'type': 'mi',\n",
       "  'date': 'SUNDAY'},\n",
       " {'time': '4:22 PM', 'msg': 'Okay great help', 'type': 'mi', 'date': 'SUNDAY'},\n",
       " {'time': '4:22 PM', 'msg': 'Lol', 'type': 'mi', 'date': 'SUNDAY'},\n",
       " {'time': '4:22 PM',\n",
       "  'msg': 'Name is the other one which is not called sushi rice',\n",
       "  'type': 'mi',\n",
       "  'date': 'SUNDAY'},\n",
       " {'time': '4:21 PM',\n",
       "  'msg': 'One type from China',\n",
       "  'type': 'mi',\n",
       "  'date': 'SUNDAY'},\n",
       " {'time': '4:21 PM',\n",
       "  'msg': 'One from Japan called sushi rice',\n",
       "  'type': 'mi',\n",
       "  'date': 'SUNDAY'},\n",
       " {'time': '4:21 PM',\n",
       "  'msg': 'So here they have two types of rice I think',\n",
       "  'type': 'mi',\n",
       "  'date': 'SUNDAY'},\n",
       " {'time': '4:21 PM',\n",
       "  'msg': 'Steam rice I think',\n",
       "  'type': 'mi',\n",
       "  'date': 'SUNDAY'},\n",
       " {'time': '4:21 PM', 'msg': 'Rice name', 'type': 'mi', 'date': 'SUNDAY'},\n",
       " {'time': '4:21 PM', 'msg': 'Nono', 'type': 'mi', 'date': 'SUNDAY'},\n",
       " {'time': '4:21 PM',\n",
       "  'msg': 'What is this rice called',\n",
       "  'type': 'mi',\n",
       "  'date': 'SUNDAY'},\n",
       " {'time': '4:21 PM',\n",
       "  'msg': 'Oh put some water in it just some then put it in the microwave for 1-2 mins',\n",
       "  'type': 'mi',\n",
       "  'date': 'SUNDAY'},\n",
       " {'time': '4:20 PM',\n",
       "  'msg': 'No how do I manufacture this rice at home',\n",
       "  'type': 'mi',\n",
       "  'date': 'SUNDAY'},\n",
       " {'time': '4:20 PM', 'msg': 'Bug?', 'type': 'mi', 'date': 'SUNDAY'},\n",
       " {'time': '4:20 PM',\n",
       "  'msg': 'You\\nPhoto\\nWhat?',\n",
       "  'type': 'mi',\n",
       "  'date': 'SUNDAY'},\n",
       " {'time': '4:19 PM',\n",
       "  'msg': 'You know what is this?',\n",
       "  'type': 'mi',\n",
       "  'date': 'SUNDAY'},\n",
       " {'time': '4:16 PM', 'msg': '', 'type': 'mi', 'date': 'SUNDAY'},\n",
       " {'time': '4:16 PM',\n",
       "  'msg': 'I got a super important question.',\n",
       "  'type': 'mi',\n",
       "  'date': 'SUNDAY'},\n",
       " {'time': '4:16 PM', 'msg': 'Yo', 'type': 'mi', 'date': 'SUNDAY'},\n",
       " {'time': '12:37 PM',\n",
       "  'msg': 'You\\ni also think we have no plan\\nYeah that’s what I’m worried. Let’s see what we get tmr',\n",
       "  'type': 'mi',\n",
       "  'date': 'SUNDAY'},\n",
       " {'time': '12:34 PM',\n",
       "  'msg': 'i also think we have no plan',\n",
       "  'type': 'mi',\n",
       "  'date': 'SUNDAY'},\n",
       " {'time': '12:33 PM', 'msg': 'i get it', 'type': 'mi', 'date': 'SUNDAY'},\n",
       " {'time': '12:33 PM', 'msg': 'but tbf', 'type': 'mi', 'date': 'SUNDAY'},\n",
       " {'time': '12:33 PM', 'msg': 'trust trust', 'type': 'mi', 'date': 'SUNDAY'},\n",
       " {'time': '12:33 PM',\n",
       "  'msg': 'i can do no wrong',\n",
       "  'type': 'mi',\n",
       "  'date': 'SUNDAY'},\n",
       " {'time': '12:33 PM', 'msg': 'i have a 100', 'type': 'mi', 'date': 'SUNDAY'},\n",
       " {'time': '12:33 PM',\n",
       "  'msg': 'Nvm let’s see what we can get after talking to the prof',\n",
       "  'type': 'mi',\n",
       "  'date': 'SUNDAY'},\n",
       " {'time': '12:33 PM',\n",
       "  'msg': 'Cuz what I’m concerned is that the grader is not professor right, it is that hardworking guy. So his view is also need to be considered',\n",
       "  'type': 'mi',\n",
       "  'date': 'SUNDAY'},\n",
       " {'time': '12:32 PM',\n",
       "  'msg': 'When I find a solid one',\n",
       "  'type': 'mi',\n",
       "  'date': 'SUNDAY'},\n",
       " {'time': '12:31 PM',\n",
       "  'msg': 'You\\nwhat is plan b?\\nI’ll text you',\n",
       "  'type': 'mi',\n",
       "  'date': 'SUNDAY'},\n",
       " {'time': '12:29 PM',\n",
       "  'msg': 'what is plan b?',\n",
       "  'type': 'mi',\n",
       "  'date': 'SUNDAY'},\n",
       " {'time': '12:29 PM',\n",
       "  'msg': 'For PhD I need to take gre test I think',\n",
       "  'type': 'mi',\n",
       "  'date': 'SUNDAY'},\n",
       " {'time': '12:28 PM',\n",
       "  'msg': 'You\\ntext me if you need more help\\nCuz I think I need to improve the writing skills',\n",
       "  'type': 'mi',\n",
       "  'date': 'SUNDAY'},\n",
       " {'time': '12:27 PM',\n",
       "  'msg': 'aisihuoer@gmail.com',\n",
       "  'type': 'mi',\n",
       "  'date': 'SUNDAY'},\n",
       " {'time': '12:27 PM', 'msg': '0:24', 'type': 'mi', 'date': 'SUNDAY'},\n",
       " {'time': '12:27 PM', 'msg': 'git email ?', 'type': 'mi', 'date': 'SUNDAY'},\n",
       " {'time': '12:26 PM', 'msg': 'btw', 'type': 'mi', 'date': 'SUNDAY'},\n",
       " {'time': '12:26 PM',\n",
       "  'msg': 'text me if you need more help',\n",
       "  'type': 'mi',\n",
       "  'date': 'SUNDAY'},\n",
       " {'time': '12:26 PM', 'msg': 'i gotchu', 'type': 'mi', 'date': 'SUNDAY'},\n",
       " {'time': '12:26 PM', 'msg': 'ya', 'type': 'mi', 'date': 'SUNDAY'},\n",
       " {'time': '12:26 PM',\n",
       "  'msg': 'You\\nstudy english for 12 years\\nThanks for your “good” advice',\n",
       "  'type': 'mi',\n",
       "  'date': 'SUNDAY'},\n",
       " {'time': '12:25 PM',\n",
       "  'msg': 'study english for 12 years',\n",
       "  'type': 'mi',\n",
       "  'date': 'SUNDAY'},\n",
       " {'time': '12:25 PM',\n",
       "  'msg': 'Bruh  how you improve your English vocabulary',\n",
       "  'type': 'mi',\n",
       "  'date': 'SUNDAY'},\n",
       " {'time': '10:59 AM', 'msg': 'npnp', 'type': 'mi', 'date': 'SUNDAY'},\n",
       " {'time': '10:57 AM',\n",
       "  'msg': 'And Google code',\n",
       "  'type': 'mi',\n",
       "  'date': 'SUNDAY'},\n",
       " {'time': '10:57 AM',\n",
       "  'msg': \"2pm dot you'll have cleaned dataset\",\n",
       "  'type': 'mi',\n",
       "  'date': 'SUNDAY'},\n",
       " {'time': '10:57 AM', 'msg': 'Pls', 'type': 'mi', 'date': 'SUNDAY'},\n",
       " {'time': '10:57 AM', 'msg': '3h', 'type': 'mi', 'date': 'SUNDAY'},\n",
       " {'time': '10:57 AM', 'msg': '?', 'type': 'mi', 'date': 'SUNDAY'},\n",
       " {'time': '10:57 AM',\n",
       "  'msg': 'or it is on your github>',\n",
       "  'type': 'mi',\n",
       "  'date': 'SUNDAY'},\n",
       " {'time': '10:56 AM',\n",
       "  'msg': 'bruh can you send me the code for google scraping and news scraping',\n",
       "  'type': 'mi',\n",
       "  'date': 'SUNDAY'},\n",
       " {'time': '3:53 PM', 'msg': 'Where u at', 'type': 'mi', 'date': 'SUNDAY'},\n",
       " {'time': '3:53 PM', 'msg': 'I’m coming down', 'type': 'mi', 'date': 'SUNDAY'},\n",
       " {'time': '3:47 PM', 'msg': \"Don't think so\", 'type': 'mi', 'date': 'SUNDAY'},\n",
       " {'time': '3:47 PM',\n",
       "  'msg': 'Should I bring laptop today',\n",
       "  'type': 'mi',\n",
       "  'date': 'SUNDAY'},\n",
       " {'time': '3:45 PM',\n",
       "  'msg': 'Key no work ill meet u outside',\n",
       "  'type': 'mi',\n",
       "  'date': 'SUNDAY'},\n",
       " {'time': '3:45 PM', 'msg': \"I'm outside\", 'type': 'mi', 'date': 'SUNDAY'},\n",
       " {'time': '3:45 PM',\n",
       "  'msg': 'Caught in the traffic',\n",
       "  'type': 'mi',\n",
       "  'date': 'SUNDAY'},\n",
       " {'time': '3:45 PM', 'msg': '7 mins', 'type': 'mi', 'date': 'SUNDAY'},\n",
       " {'time': '3:34 PM', 'msg': 'U in your room?', 'type': 'mi', 'date': 'SUNDAY'},\n",
       " {'time': '2:56 PM',\n",
       "  'msg': 'I’ll change the address',\n",
       "  'type': 'mi',\n",
       "  'date': 'SUNDAY'},\n",
       " {'time': '2:56 PM', 'msg': 'Oh okok', 'type': 'mi', 'date': 'SUNDAY'},\n",
       " {'time': '2:34 PM', 'msg': 'Ill see u in 40', 'type': 'mi', 'date': 'SUNDAY'},\n",
       " {'time': '2:34 PM', 'msg': 'Got a lift', 'type': 'mi', 'date': 'SUNDAY'},\n",
       " {'time': '2:34 PM', 'msg': 'Never mind', 'type': 'mi', 'date': 'SUNDAY'},\n",
       " {'time': '2:34 PM', 'msg': 'Never-ending', 'type': 'mi', 'date': 'SUNDAY'},\n",
       " {'time': '2:28 PM', 'msg': 'Domain', 'type': 'mi', 'date': 'SUNDAY'},\n",
       " {'time': '2:28 PM', 'msg': 'Domai.', 'type': 'mi', 'date': 'SUNDAY'},\n",
       " {'time': '2:28 PM', 'msg': 'Which subway', 'type': 'mi', 'date': 'SUNDAY'},\n",
       " {'time': '2:28 PM',\n",
       "  'msg': 'U know subway right',\n",
       "  'type': 'mi',\n",
       "  'date': 'SUNDAY'},\n",
       " {'time': '2:28 PM', 'msg': 'Thanks', 'type': 'mi', 'date': 'SUNDAY'},\n",
       " {'time': '2:27 PM', 'msg': 'I gotu', 'type': 'mi', 'date': 'SUNDAY'},\n",
       " {'time': '2:27 PM', 'msg': '36', 'type': 'mi', 'date': 'SUNDAY'},\n",
       " {'time': '2:27 PM',\n",
       "  'msg': 'How long it gonna take ?',\n",
       "  'type': 'mi',\n",
       "  'date': 'SUNDAY'},\n",
       " {'time': '2:27 PM', 'msg': \"I'm at subway\", 'type': 'mi', 'date': 'SUNDAY'},\n",
       " {'time': '2:27 PM', 'msg': 'Cannot find it', 'type': 'mi', 'date': 'SUNDAY'},\n",
       " {'time': '2:27 PM',\n",
       "  'msg': 'Send me address one more time',\n",
       "  'type': 'mi',\n",
       "  'date': 'SUNDAY'},\n",
       " {'time': '2:26 PM',\n",
       "  'msg': 'Can u pick me up ??',\n",
       "  'type': 'mi',\n",
       "  'date': 'SUNDAY'},\n",
       " {'time': '2:26 PM', 'msg': 'Way home', 'type': 'mi', 'date': 'SUNDAY'},\n",
       " {'time': '2:25 PM', 'msg': 'Baltimore', 'type': 'mi', 'date': 'SUNDAY'},\n",
       " {'time': '2:23 PM', 'msg': 'Where', 'type': 'mi', 'date': 'SUNDAY'},\n",
       " {'time': '8:23 AM', 'msg': 'Foff', 'type': 'mi', 'date': 'SUNDAY'},\n",
       " {'time': '8:22 AM',\n",
       "  'msg': 'I was gonna get an Amazon package in the morning so I was patiently waiting with beer bottles',\n",
       "  'type': 'mi',\n",
       "  'date': 'SUNDAY'},\n",
       " {'time': '8:22 AM',\n",
       "  'msg': 'I was gonna get an Amazon package in the morning so I was patiently waiting',\n",
       "  'type': 'mi',\n",
       "  'date': 'SUNDAY'},\n",
       " {'time': '8:21 AM', 'msg': 'Hhhhhhh', 'type': 'mi', 'date': 'SUNDAY'},\n",
       " {'time': '8:21 AM', 'msg': 'Death over life', 'type': 'mi', 'date': 'SUNDAY'},\n",
       " {'time': '8:21 AM', 'msg': 'Body over mind', 'type': 'mi', 'date': 'SUNDAY'},\n",
       " {'time': '8:21 AM',\n",
       "  'msg': 'Sleep is for the weak',\n",
       "  'type': 'mi',\n",
       "  'date': 'SUNDAY'},\n",
       " {'time': '8:21 AM',\n",
       "  'msg': 'I thought you just get up',\n",
       "  'type': 'mi',\n",
       "  'date': 'SUNDAY'},\n",
       " {'time': '8:20 AM',\n",
       "  'msg': 'So you don’t sleep last night?',\n",
       "  'type': 'mi',\n",
       "  'date': 'SUNDAY'},\n",
       " {'time': '8:20 AM',\n",
       "  'msg': 'bro im so drunk its funny',\n",
       "  'type': 'mi',\n",
       "  'date': 'SUNDAY'},\n",
       " {'time': '8:20 AM', 'msg': 'reference', 'type': 'mi', 'date': 'SUNDAY'},\n",
       " {'time': '8:20 AM', 'msg': 'reg', 'type': 'mi', 'date': 'SUNDAY'},\n",
       " {'time': '8:17 AM',\n",
       "  'msg': 'but every nft which has a good price has to have a good rating here',\n",
       "  'type': 'mi',\n",
       "  'date': 'SUNDAY'},\n",
       " {'time': '8:16 AM',\n",
       "  'msg': 'noone can tell potential price',\n",
       "  'type': 'mi',\n",
       "  'date': 'SUNDAY'},\n",
       " {'time': '8:16 AM', 'msg': 'nah', 'type': 'mi', 'date': 'SUNDAY'},\n",
       " {'time': '8:16 AM',\n",
       "  'msg': 'a priliminary check',\n",
       "  'type': 'mi',\n",
       "  'date': 'SUNDAY'},\n",
       " {'time': '8:16 AM',\n",
       "  'msg': 'Oh test the potential price?',\n",
       "  'type': 'mi',\n",
       "  'date': 'SUNDAY'},\n",
       " {'time': '8:16 AM',\n",
       "  'msg': 'to see if it has been implemented correctl',\n",
       "  'type': 'mi',\n",
       "  'date': 'SUNDAY'},\n",
       " {'time': '8:16 AM', 'msg': 'Why test?', 'type': 'mi', 'date': 'SUNDAY'},\n",
       " {'time': '8:16 AM', 'msg': 'l', 'type': 'mi', 'date': 'SUNDAY'},\n",
       " {'time': '8:16 AM',\n",
       "  'msg': 'all nfts are real lo',\n",
       "  'type': 'mi',\n",
       "  'date': 'SUNDAY'},\n",
       " {'time': '8:16 AM',\n",
       "  'msg': 'You\\nhttps://checkmynft.com/?address=0x5c61afa47570ab2b562606fa578221305b12c307&id=1\\nTo test the NFT is real or not?',\n",
       "  'type': 'mi',\n",
       "  'date': 'SUNDAY'},\n",
       " {'time': '8:15 AM',\n",
       "  'msg': 'You\\nstroke\\nLol',\n",
       "  'type': 'mi',\n",
       "  'date': 'SUNDAY'},\n",
       " {'time': '8:15 AM',\n",
       "  'msg': 'You\\nyu8ashja9iospfkas]pfdksof\\\\\\nstroke',\n",
       "  'type': 'mi',\n",
       "  'date': 'SUNDAY'},\n",
       " {'time': '8:15 AM',\n",
       "  'msg': 'Dhehhshdhee free kcbnxnwkdnz',\n",
       "  'type': 'mi',\n",
       "  'date': 'SUNDAY'},\n",
       " {'time': '8:15 AM',\n",
       "  'msg': 'use this site to check when u buy nfts',\n",
       "  'type': 'mi',\n",
       "  'date': 'SUNDAY'},\n",
       " {'time': '8:15 AM',\n",
       "  'msg': 'You\\nyu8ashja9iospfkas]pfdksof\\\\\\nWhat’s this',\n",
       "  'type': 'mi',\n",
       "  'date': 'SUNDAY'},\n",
       " {'time': '8:15 AM',\n",
       "  'msg': 'checkmynft.com\\nhttps://checkmynft.com/?address=0x5c61afa47570ab2b562606fa578221305b12c307&id=1\\ncheckmynft.com\\nhttps://checkmynft.com/?address=0x5c61afa47570ab2b562606fa578221305b12c307&id=1',\n",
       "  'type': 'mi',\n",
       "  'date': 'SUNDAY'},\n",
       " {'time': '8:15 AM', 'msg': 'btw', 'type': 'mi', 'date': 'SUNDAY'},\n",
       " {'time': '8:14 AM',\n",
       "  'msg': 'yu8ashja9iospfkas]pfdksof\\\\',\n",
       "  'type': 'mi',\n",
       "  'date': 'SUNDAY'},\n",
       " {'time': '8:14 AM',\n",
       "  'msg': 'wow its not a test u can leave a q',\n",
       "  'type': 'mi',\n",
       "  'date': 'SUNDAY'},\n",
       " {'time': '8:14 AM',\n",
       "  'msg': 'So they released 2000',\n",
       "  'type': 'mi',\n",
       "  'date': 'SUNDAY'},\n",
       " {'time': '8:14 AM',\n",
       "  'msg': 'You\\nthis says there can be more than 1 copy\\nYes more than one copy',\n",
       "  'type': 'mi',\n",
       "  'date': 'SUNDAY'},\n",
       " {'time': '8:14 AM', 'msg': 'Yes', 'type': 'mi', 'date': 'SUNDAY'},\n",
       " {'time': '8:14 AM',\n",
       "  'msg': 'You\\n?is 500px well known in china\\nThe photographer website?',\n",
       "  'type': 'mi',\n",
       "  'date': 'SUNDAY'},\n",
       " {'time': '8:13 AM',\n",
       "  'msg': 'Sry passed out yesterday',\n",
       "  'type': 'mi',\n",
       "  'date': 'SUNDAY'},\n",
       " {'time': '1:02 AM', 'msg': 'how', 'type': 'mi', 'date': 'SUNDAY'},\n",
       " {'time': '1:02 AM',\n",
       "  'msg': 'this says there can be more than 1 copy',\n",
       "  'type': 'mi',\n",
       "  'date': 'SUNDAY'},\n",
       " {'time': '1:01 AM',\n",
       "  'msg': 'yuan.500px.com.cn\\nhttps://yuan.500px.com.cn/artist/8761916393041\\nyuan.500px.com.cn\\nhttps://yuan.500px.com.cn/artist/8761916393041',\n",
       "  'type': 'mi',\n",
       "  'date': 'SUNDAY'},\n",
       " {'time': '1:01 AM', 'msg': 'im confused tho', 'type': 'mi', 'date': 'SUNDAY'},\n",
       " {'time': '12:53 AM', 'msg': 'fun history', 'type': 'mi', 'date': 'SUNDAY'},\n",
       " {'time': '12:46 AM',\n",
       "  'msg': '?is 500px well known in china',\n",
       "  'type': 'mi',\n",
       "  'date': 'SUNDAY'},\n",
       " {'time': '12:42 AM',\n",
       "  'msg': 'It should be digital collection',\n",
       "  'type': 'mi',\n",
       "  'date': 'SUNDAY'},\n",
       " {'time': '12:42 AM',\n",
       "  'msg': 'I think this one technically is not NFT',\n",
       "  'type': 'mi',\n",
       "  'date': 'SUNDAY'},\n",
       " {'time': '12:41 AM',\n",
       "  'msg': 'https://yuan.500px.com.cn/',\n",
       "  'type': 'mi',\n",
       "  'date': 'SUNDAY'},\n",
       " {'time': '12:41 AM', 'msg': 'Nice one', 'type': 'mi', 'date': 'SUNDAY'},\n",
       " {'time': '12:41 AM',\n",
       "  'msg': 'You\\nhttps://opensea.io/collection/buymydebts\\nLmao',\n",
       "  'type': 'mi',\n",
       "  'date': 'SUNDAY'},\n",
       " {'time': '12:40 AM',\n",
       "  'msg': 'hahahahahahahshdfhasfouiabsfoiasf',\n",
       "  'type': 'mi',\n",
       "  'date': 'SUNDAY'},\n",
       " {'time': '12:40 AM',\n",
       "  'msg': 'opensea.io\\nhttps://opensea.io/collection/buymydebts\\nopensea.io\\nhttps://opensea.io/collection/buymydebts',\n",
       "  'type': 'mi',\n",
       "  'date': 'SUNDAY'},\n",
       " {'time': '12:40 AM', 'msg': 'They do', 'type': 'mi', 'date': 'SUNDAY'}]"
      ]
     },
     "execution_count": 12,
     "metadata": {},
     "output_type": "execute_result"
    }
   ],
   "source": [
    "# Read the TEXT messages on a page\n",
    "WA_messageTextParser(driver)"
   ]
  },
  {
   "cell_type": "code",
   "execution_count": null,
   "id": "366198e8",
   "metadata": {},
   "outputs": [],
   "source": [
    "# Read all NEW BUBBLE chats and get the output\n",
    "WA_manageNewMessages(driver)"
   ]
  },
  {
   "cell_type": "code",
   "execution_count": 25,
   "id": "39395a03",
   "metadata": {},
   "outputs": [
    {
     "name": "stdout",
     "output_type": "stream",
     "text": [
      "<function WA_SEARCH_2 at 0x7fad1956cb90>: ======== PROCESS STARTING : Parameter : 9953674770 ========\n",
      "Yes we are in contact info page: Verified\n",
      "+91 97110 96888\n",
      "~A\n",
      "Yes we are in contact info page: Verified\n",
      "+91 99536 74770\n",
      "~Syam\n"
     ]
    }
   ],
   "source": [
    "# Search for a user\n",
    "WA_SEARCH_2(driver,'9953674770')"
   ]
  },
  {
   "cell_type": "code",
   "execution_count": 26,
   "id": "a7d5185c",
   "metadata": {},
   "outputs": [
    {
     "name": "stdout",
     "output_type": "stream",
     "text": [
      "<function WA_SINGLE_SEND at 0x7fad1956cc20>: ======== PROCESS STARTING : Parameter : hello ========\n",
      "<function reporting at 0x7fad19541320>: Trying Unfocussed\n",
      "<function reporting at 0x7fad19541320>: Length of Chat Header Div => 1\n",
      "1\n"
     ]
    }
   ],
   "source": [
    "# Send a single message \n",
    "WA_SINGLE_SEND(driver,'hello')"
   ]
  },
  {
   "cell_type": "markdown",
   "id": "1424e33a",
   "metadata": {},
   "source": [
    "## Ver 2"
   ]
  },
  {
   "cell_type": "code",
   "execution_count": 28,
   "id": "a8bdf6ed",
   "metadata": {},
   "outputs": [],
   "source": [
    "msg = WA_messageTextParser(driver)"
   ]
  },
  {
   "cell_type": "code",
   "execution_count": 31,
   "id": "9a65d2b3",
   "metadata": {},
   "outputs": [
    {
     "data": {
      "text/plain": [
       "[{'time': '5:00 AM', 'msg': 'hello', 'type': 'mi', 'date': 'TODAY'},\n",
       " {'time': '3:05 PM', 'msg': '', 'type': 'mi', 'date': 'WEDNESDAY'},\n",
       " {'time': '5:18 PM',\n",
       "  'msg': 'paulson2018.pdf\\n64 pagesPDF980 kB',\n",
       "  'type': 'mi',\n",
       "  'date': 'WEDNESDAY'},\n",
       " {'time': '11:14 PM', 'msg': 'hello', 'type': 'mi', 'date': '4/11/2022'},\n",
       " {'time': '11:22 PM',\n",
       "  'msg': '51694.pdf\\n1 pagePDF192 kB',\n",
       "  'type': 'mi',\n",
       "  'date': '3/23/2022'},\n",
       " {'time': '11:21 PM',\n",
       "  'msg': 'asfasfafafafs',\n",
       "  'type': 'mi',\n",
       "  'date': '3/23/2022'},\n",
       " {'time': '9:57 PM', 'msg': 'tolottl', 'type': 'mi', 'date': '3/23/2022'},\n",
       " {'time': '9:46 PM',\n",
       "  'msg': '24782.pdf\\n1 pagePDF192 kB',\n",
       "  'type': 'mi',\n",
       "  'date': '3/23/2022'},\n",
       " {'time': '9:43 PM', 'msg': 'hi', 'type': 'mi', 'date': '3/23/2022'},\n",
       " {'time': '9:42 PM',\n",
       "  'msg': 'You deleted this message',\n",
       "  'type': 'mi',\n",
       "  'date': '3/23/2022'},\n",
       " {'time': '9:30 PM', 'msg': 'hi', 'type': 'mi', 'date': '3/23/2022'},\n",
       " {'time': '8:34 PM',\n",
       "  'msg': '128 kB\\n8:22 PM\\n128 kB\\n8:28 PM\\n128 kB\\n8:29 PM\\n128 kB',\n",
       "  'type': 'mi',\n",
       "  'date': '3/23/2022'},\n",
       " {'time': '8:07 PM', 'msg': '128 kB', 'type': 'mi', 'date': '3/23/2022'},\n",
       " {'time': '6:00 PM',\n",
       "  'msg': 'Mwssage 49 from shivam : parsed on the 15th December',\n",
       "  'type': 'mi',\n",
       "  'date': '3/14/2022'},\n",
       " {'time': '5:58 PM',\n",
       "  'msg': 'Low quality systemativ 59',\n",
       "  'type': 'mi',\n",
       "  'date': '3/14/2022'},\n",
       " {'time': '5:55 PM',\n",
       "  'msg': 'Media incoming in 50',\n",
       "  'type': 'mi',\n",
       "  'date': '3/14/2022'},\n",
       " {'time': '5:55 PM',\n",
       "  'msg': 'Twst me snw d40 wuw9',\n",
       "  'type': 'mi',\n",
       "  'date': '3/14/2022'},\n",
       " {'time': '5:55 PM',\n",
       "  'msg': 'Vertebra shiiepsl',\n",
       "  'type': 'mi',\n",
       "  'date': '3/14/2022'},\n",
       " {'time': '5:54 PM',\n",
       "  'msg': 'Vista sosisysbs sis sis',\n",
       "  'type': 'mi',\n",
       "  'date': '3/14/2022'},\n",
       " {'time': '5:54 PM',\n",
       "  'msg': 'Technologies id 50 sh e',\n",
       "  'type': 'mi',\n",
       "  'date': '3/14/2022'},\n",
       " {'time': '5:54 PM',\n",
       "  'msg': 'Welcome to sulovi tech ogres',\n",
       "  'type': 'mi',\n",
       "  'date': '3/14/2022'},\n",
       " {'time': '5:53 PM',\n",
       "  'msg': 'This is a. Test message of me',\n",
       "  'type': 'mi',\n",
       "  'date': '3/14/2022'},\n",
       " {'time': '5:34 PM',\n",
       "  'msg': 'You deleted this message',\n",
       "  'type': 'mi',\n",
       "  'date': '3/11/2022'},\n",
       " {'time': '10:01 PM',\n",
       "  'msg': 'http://sujeet.me/CYK/parser.html?example=1',\n",
       "  'type': 'mi',\n",
       "  'date': '2/28/2022'},\n",
       " {'time': '5:22 PM',\n",
       "  'msg': 'Phone detected as single ticket on',\n",
       "  'type': 'mi',\n",
       "  'date': '2/26/2022'},\n",
       " {'time': '5:21 PM',\n",
       "  'msg': 'Needed in time',\n",
       "  'type': 'mi',\n",
       "  'date': '2/26/2022'},\n",
       " {'time': '5:21 PM',\n",
       "  'msg': 'This is q test message',\n",
       "  'type': 'mi',\n",
       "  'date': '2/26/2022'},\n",
       " {'time': '7:08 AM', 'msg': '94 kB', 'type': 'mi', 'date': '2/25/2022'},\n",
       " {'time': '2:58 AM', 'msg': 'asfaosf', 'type': 'mi', 'date': '2/7/2022'},\n",
       " {'time': '2:58 AM', 'msg': 'sdfosidfsdf', 'type': 'mi', 'date': '2/7/2022'},\n",
       " {'time': '2:58 AM',\n",
       "  'msg': 'asfaoisn oasnfias',\n",
       "  'type': 'mi',\n",
       "  'date': '2/7/2022'},\n",
       " {'time': '2:58 AM',\n",
       "  'msg': 'tes*asiufbasf*',\n",
       "  'type': 'mi',\n",
       "  'date': '2/7/2022'},\n",
       " {'time': '2:57 AM', 'msg': 'mop', 'type': 'mi', 'date': '2/7/2022'},\n",
       " {'time': '9:06 PM', 'msg': 'hey', 'type': 'mi', 'date': '2/6/2022'},\n",
       " {'time': '9:42 AM',\n",
       "  'msg': 'this is also a message',\n",
       "  'type': 'mi',\n",
       "  'date': '1/31/2022'},\n",
       " {'time': '9:41 AM', 'msg': 'ho help me', 'type': 'mi', 'date': '1/31/2022'},\n",
       " {'time': '9:40 AM', 'msg': 'nononon', 'type': 'mi', 'date': '1/31/2022'},\n",
       " {'time': '1:03 PM', 'msg': '335 kB', 'type': 'mi', 'date': '1/30/2022'}]"
      ]
     },
     "execution_count": 31,
     "metadata": {},
     "output_type": "execute_result"
    }
   ],
   "source": [
    "msg"
   ]
  },
  {
   "cell_type": "code",
   "execution_count": 32,
   "id": "8a985e42",
   "metadata": {},
   "outputs": [],
   "source": [
    "from datetime import datetime, timedelta\n",
    "today = datetime.today()\n",
    "yesterday = today - timedelta(days=1)\n",
    "one_week_ago = today - timedelta(days=7)\n",
    "thirty_days_ago = today - timedelta(days=30)\n",
    "from datetime.parser import parse"
   ]
  },
  {
   "cell_type": "code",
   "execution_count": 78,
   "id": "8e0ac779",
   "metadata": {},
   "outputs": [],
   "source": [
    "DATELIST = ['MONDAY','TUESDAY','WEDNESDAY','THURSDAY','FRIDAY','SATURDAY','SUNDAY']\n",
    "today = datetime.today()\n",
    "\n",
    "for message in msg:\n",
    "    DATE = message['date']\n",
    "    CONTENT = message['msg']\n",
    "    TIME = parse(message['time'])\n",
    "    \n",
    "    if DATE == 'TODAY':\n",
    "        DATE_P = today\n",
    "    elif DATE == 'YESTERDAY':\n",
    "        DATE_P = today - timedelta(days=1)\n",
    "    elif '/' in DATE:\n",
    "        DATE_P = parse(DATE)\n",
    "    else: \n",
    "        dateIndex = DATELIST.index(DATE)\n",
    "        timeDelta = today.weekday() - dateIndex\n",
    "        DATE_P = today - timedelta(days=timeDelta)\n",
    "    \n",
    "    hour = TIME.hour\n",
    "    minute = TIME.minute\n",
    "    \n",
    "    \n",
    "    "
   ]
  },
  {
   "cell_type": "code",
   "execution_count": 87,
   "id": "c5b17256",
   "metadata": {},
   "outputs": [],
   "source": [
    "a = parse(TIME)"
   ]
  },
  {
   "cell_type": "code",
   "execution_count": 88,
   "id": "601b88d4",
   "metadata": {},
   "outputs": [
    {
     "ename": "AttributeError",
     "evalue": "attribute 'hour' of 'datetime.datetime' objects is not writable",
     "output_type": "error",
     "traceback": [
      "\u001b[0;31m---------------------------------------------------------------------------\u001b[0m",
      "\u001b[0;31mAttributeError\u001b[0m                            Traceback (most recent call last)",
      "\u001b[0;32m/var/folders/66/w1588p9n1654b1yky4q5nz580000gn/T/ipykernel_1177/1917641575.py\u001b[0m in \u001b[0;36m<module>\u001b[0;34m\u001b[0m\n\u001b[0;32m----> 1\u001b[0;31m \u001b[0ma\u001b[0m\u001b[0;34m.\u001b[0m\u001b[0mhour\u001b[0m \u001b[0;34m=\u001b[0m \u001b[0mparse\u001b[0m\u001b[0;34m(\u001b[0m\u001b[0mTIME\u001b[0m\u001b[0;34m)\u001b[0m\u001b[0;34m.\u001b[0m\u001b[0mhour\u001b[0m\u001b[0;34m\u001b[0m\u001b[0;34m\u001b[0m\u001b[0m\n\u001b[0m",
      "\u001b[0;31mAttributeError\u001b[0m: attribute 'hour' of 'datetime.datetime' objects is not writable"
     ]
    }
   ],
   "source": [
    "a.hour = newdate = date.replace(hour=11, minute=59)"
   ]
  },
  {
   "cell_type": "code",
   "execution_count": 85,
   "id": "6aa1c44d",
   "metadata": {},
   "outputs": [
    {
     "data": {
      "text/plain": [
       "3"
      ]
     },
     "execution_count": 85,
     "metadata": {},
     "output_type": "execute_result"
    }
   ],
   "source": [
    "parse(TIME).minute"
   ]
  },
  {
   "cell_type": "code",
   "execution_count": 64,
   "id": "7269b072",
   "metadata": {},
   "outputs": [
    {
     "data": {
      "text/plain": [
       "0"
      ]
     },
     "execution_count": 64,
     "metadata": {},
     "output_type": "execute_result"
    }
   ],
   "source": []
  },
  {
   "cell_type": "code",
   "execution_count": 55,
   "id": "fdc51e64",
   "metadata": {},
   "outputs": [],
   "source": []
  },
  {
   "cell_type": "code",
   "execution_count": 54,
   "id": "cb4e232e",
   "metadata": {},
   "outputs": [
    {
     "data": {
      "text/plain": [
       "7"
      ]
     },
     "execution_count": 54,
     "metadata": {},
     "output_type": "execute_result"
    }
   ],
   "source": [
    "a[-1 % len(a)] "
   ]
  },
  {
   "cell_type": "code",
   "execution_count": null,
   "id": "f8f83c62",
   "metadata": {},
   "outputs": [],
   "source": []
  }
 ],
 "metadata": {
  "kernelspec": {
   "display_name": "Python 3 (ipykernel)",
   "language": "python",
   "name": "python3"
  },
  "language_info": {
   "codemirror_mode": {
    "name": "ipython",
    "version": 3
   },
   "file_extension": ".py",
   "mimetype": "text/x-python",
   "name": "python",
   "nbconvert_exporter": "python",
   "pygments_lexer": "ipython3",
   "version": "3.7.11"
  }
 },
 "nbformat": 4,
 "nbformat_minor": 5
}

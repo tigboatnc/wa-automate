{
 "cells": [
  {
   "cell_type": "markdown",
   "id": "c86060f9",
   "metadata": {},
   "source": [
    "# 1.0 Import Essentials"
   ]
  },
  {
   "cell_type": "code",
   "execution_count": 1,
   "id": "2c662441",
   "metadata": {},
   "outputs": [],
   "source": [
    "\n",
    "# Firebase Imports \n",
    "import firebase_admin\n",
    "from firebase_admin import credentials\n",
    "from firebase_admin import firestore\n",
    "import threading\n",
    "from google.api_core.datetime_helpers import DatetimeWithNanoseconds\n",
    "\n",
    "# Selenium Imports \n",
    "from selenium import webdriver\n",
    "from selenium.webdriver.common.keys import Keys\n",
    "from selenium.webdriver.support.ui import WebDriverWait\n",
    "from selenium.webdriver.support.ui import Select\n",
    "from selenium.webdriver.common.by import By\n",
    "from selenium.webdriver.common.keys import Keys\n",
    "from selenium.webdriver.chrome.options import Options\n",
    "from webdriver_manager.chrome import ChromeDriverManager\n",
    "from selenium.webdriver.common.action_chains import ActionChains\n",
    "\n",
    "# Utility Imports\n",
    "import copy\n",
    "from urllib.parse import urlparse\n",
    "import numpy as np\n",
    "import pandas as pd\n",
    "import re \n",
    "from pathlib import Path\n",
    "import os\n",
    "import time\n",
    "from datetime import date\n",
    "from datetime import timedelta\n",
    "from datetime import datetime\n",
    "import dateutil.parser as parser\n",
    "import urllib.request\n",
    "import random\n",
    "from dateutil.parser import parse\n",
    "\n",
    "import time\n",
    "from functions_utils import *\n",
    "from functions_fb import * \n",
    "from functions_wa import * \n",
    "today = date.today()\n",
    "cwd = os.getcwd()"
   ]
  },
  {
   "cell_type": "markdown",
   "id": "0743034b",
   "metadata": {},
   "source": [
    "# 2.0 ENV VARIABLES + INIT"
   ]
  },
  {
   "cell_type": "code",
   "execution_count": 2,
   "id": "f7918e92",
   "metadata": {},
   "outputs": [],
   "source": [
    "CLIENT_ID = u'YIJ3bLzUXlubsxnDPnDR' # ID of client \n",
    "PROJECT_ID = u'BOuyALnDYmDHSBW7kAZm' # ID of the project \n",
    "RESET_NO = '9953674770' # Number Used to search functionality"
   ]
  },
  {
   "cell_type": "code",
   "execution_count": 3,
   "id": "da98e1cf",
   "metadata": {},
   "outputs": [],
   "source": [
    "firebase_project_id = 'tpc-dev-5330f'\n",
    "# Use the application default credentials\n",
    "cred = firebase_admin.credentials.Certificate('./secret/tpc-dev-5330f-firebase-adminsdk-2p698-e13719db26.json')\n",
    "\n",
    "firebase_admin.initialize_app(cred, {\n",
    "  'projectId': firebase_project_id,\n",
    "})\n",
    "\n",
    "db = firestore.client()"
   ]
  },
  {
   "cell_type": "code",
   "execution_count": 5,
   "id": "95a83b4a",
   "metadata": {},
   "outputs": [
    {
     "name": "stderr",
     "output_type": "stream",
     "text": [
      "[WDM] - \n",
      "\n",
      "[WDM] - ====== WebDriver manager ======\n",
      "[WDM] - Current google-chrome version is 101.0.4951\n",
      "[WDM] - Get LATEST driver version for 101.0.4951\n",
      "[WDM] - Get LATEST driver version for 101.0.4951\n",
      "[WDM] - Trying to download new driver from https://chromedriver.storage.googleapis.com/101.0.4951.41/chromedriver_mac64.zip\n",
      "[WDM] - Driver has been saved in cache [/Users/flipflops/.wdm/drivers/chromedriver/mac64/101.0.4951.41]\n",
      "/usr/local/Caskroom/miniconda/base/envs/tpc-wa/lib/python3.7/site-packages/ipykernel_launcher.py:5: DeprecationWarning: executable_path has been deprecated, please pass in a Service object\n",
      "  \"\"\"\n"
     ]
    }
   ],
   "source": [
    "# Starting the selenium webserver and getting whatsapp \n",
    "userprofile = 'samarth'\n",
    "options = webdriver.ChromeOptions()\n",
    "options.add_argument(f\"user-data-dir={cwd}/.\"+userprofile+\"UserProfile\")\n",
    "driver = webdriver.Chrome(ChromeDriverManager().install() , options=options)\n",
    "driver.get(\"https://web.whatsapp.com/\")"
   ]
  },
  {
   "cell_type": "markdown",
   "id": "04dd971a",
   "metadata": {},
   "source": [
    "# TESTBENCH"
   ]
  },
  {
   "cell_type": "markdown",
   "id": "ead5737b",
   "metadata": {},
   "source": [
    "## 3.2 Firebase "
   ]
  },
  {
   "cell_type": "code",
   "execution_count": 18,
   "id": "ec886234",
   "metadata": {},
   "outputs": [
    {
     "name": "stdout",
     "output_type": "stream",
     "text": [
      "<function FBASE_getCommandQueue at 0x7fad19568ef0> : Received new command queue with 1 commands\n"
     ]
    }
   ],
   "source": [
    "comQueue = FBASE_getCommandQueue(db,CLIENT_ID,PROJECT_ID)\n",
    "# comQueue = FBASE_commandQueueVerification(CLIENT_ID,PROJECT_ID,comQueue)"
   ]
  },
  {
   "cell_type": "code",
   "execution_count": 19,
   "id": "41cf1e90",
   "metadata": {},
   "outputs": [
    {
     "data": {
      "text/plain": [
       "[{'attachment': '',\n",
       "  'type': 'send',\n",
       "  'createdAt': DatetimeWithNanoseconds(2022, 5, 7, 8, 58, 25, 123000, tzinfo=datetime.timezone.utc),\n",
       "  'guestId': 'f54PXl4nxrTAk3bQSxgP',\n",
       "  'contactPhone': '9953674770',\n",
       "  'messageContent': 'yolo',\n",
       "  'clientId': 'YIJ3bLzUXlubsxnDPnDR',\n",
       "  'processed': False,\n",
       "  'DOCUMENT_ID': '2TH5h3gZbEyLu5OhXXEl'}]"
      ]
     },
     "execution_count": 19,
     "metadata": {},
     "output_type": "execute_result"
    }
   ],
   "source": [
    "comQueue"
   ]
  },
  {
   "cell_type": "markdown",
   "id": "755ce79e",
   "metadata": {},
   "source": [
    "## 3.3 Automation"
   ]
  },
  {
   "cell_type": "code",
   "execution_count": 20,
   "id": "a534ac20",
   "metadata": {},
   "outputs": [
    {
     "name": "stdout",
     "output_type": "stream",
     "text": [
      "Yes we are in contact info page: Verified\n",
      "+91 97110 96888\n",
      "~A\n"
     ]
    },
    {
     "data": {
      "text/plain": [
       "('A', '+91 97110 96888')"
      ]
     },
     "execution_count": 20,
     "metadata": {},
     "output_type": "execute_result"
    }
   ],
   "source": [
    "# Get current user details from OPEN user\n",
    "WA_PROFILE_VIEWER(driver)"
   ]
  },
  {
   "cell_type": "code",
   "execution_count": 113,
   "id": "e62f4224",
   "metadata": {},
   "outputs": [
    {
     "data": {
      "text/plain": [
       "[{'time': '5:32 AM', 'msg': 'You\\nthanks\\nJi', 'type': 'mi', 'date': 'TODAY'},\n",
       " {'time': '5:31 AM', 'msg': 'this works', 'type': 'mi', 'date': 'TODAY'},\n",
       " {'time': '5:31 AM', 'msg': 'thanks', 'type': 'mi', 'date': 'TODAY'},\n",
       " {'time': '5:31 AM', 'msg': 'no', 'type': 'mi', 'date': 'TODAY'},\n",
       " {'time': '5:15 AM', 'msg': 'call kru??', 'type': 'mi', 'date': 'TODAY'},\n",
       " {'time': '5:14 AM',\n",
       "  'msg': 'export enum WhatsappType {\\n  Send = \"send\",\\n  Sent = \"sent\",\\n  Sync = \"sync\",\\n  Init = \"init\",\\n  Read = \"tabread\",\\n}',\n",
       "  'type': 'mi',\n",
       "  'date': 'TODAY'},\n",
       " {'time': '5:14 AM',\n",
       "  'msg': 'export interface Conversations {\\n  msg?: string;\\n  type?: WhatsappType;\\n  context?: string;\\n  attachment?: string;\\n  recieved?: boolean;\\n  createdAt: firebase.default.firestore.Timestamp;\\n}',\n",
       "  'type': 'mi',\n",
       "  'date': 'TODAY'},\n",
       " {'time': '5:13 AM',\n",
       "  'msg': 'This message was deleted',\n",
       "  'type': 'mi',\n",
       "  'date': 'TODAY'},\n",
       " {'time': '5:13 AM',\n",
       "  'msg': 'Ji m soch rha hoon ki..',\n",
       "  'type': 'mi',\n",
       "  'date': 'TODAY'},\n",
       " {'time': '5:08 AM',\n",
       "  'msg': 'This message was deleted',\n",
       "  'type': 'mi',\n",
       "  'date': 'TODAY'},\n",
       " {'time': '5:07 AM',\n",
       "  'msg': 'This message was deleted',\n",
       "  'type': 'mi',\n",
       "  'date': 'TODAY'},\n",
       " {'time': '5:05 AM',\n",
       "  'msg': 'Shivam\\nCall kr lijiye.\\n.',\n",
       "  'type': 'mi',\n",
       "  'date': 'TODAY'},\n",
       " {'time': '5:05 AM', 'msg': 'Smjha ni m', 'type': 'mi', 'date': 'TODAY'},\n",
       " {'time': '5:05 AM', 'msg': 'for this', 'type': 'mi', 'date': 'TODAY'},\n",
       " {'time': '5:05 AM', 'msg': 'Call kr lijiye.', 'type': 'mi', 'date': 'TODAY'},\n",
       " {'time': '5:04 AM',\n",
       "  'msg': 'user conversation',\n",
       "  'type': 'mi',\n",
       "  'date': 'TODAY'},\n",
       " {'time': '5:04 AM', 'msg': 'can u send ?', 'type': 'mi', 'date': 'TODAY'},\n",
       " {'time': '5:04 AM', 'msg': 'Ji', 'type': 'mi', 'date': 'TODAY'},\n",
       " {'time': '5:04 AM',\n",
       "  'msg': 'do u have the schema for conversation ?',\n",
       "  'type': 'mi',\n",
       "  'date': 'TODAY'},\n",
       " {'time': '5:04 AM', 'msg': 'Ji', 'type': 'mi', 'date': 'TODAY'},\n",
       " {'time': '5:04 AM', 'msg': 'are u up ?', 'type': 'mi', 'date': 'TODAY'},\n",
       " {'time': '5:49 AM',\n",
       "  'msg': 'Notification Examples:\\n\\n1. Msg (No attachment) -> /clients/YIJ3bLzUXlubsxnDPnDR/projects/MS3fNQfXZdLx3gNkcDUP/wa-queue/pNYtXb8dgyh0b8w65wTk\\n2. Attachment (No msg) -> /clients/YIJ3bLzUXlubsxnDPnDR/projects/MS3fNQfXZdLx3gNkcDUP/wa-queue/wLW9e31E6DMLMQoKEcb3\\n3. Msg with file -> /clients/YIJ3bLzUXlubsxnDPnDR/projects/MS3fNQfXZdLx3gNkcDUP/wa-queue/3lhIEiDVH6cNZB7bFFBm',\n",
       "  'type': 'mi',\n",
       "  'date': 'THURSDAY'},\n",
       " {'time': '11:12 AM',\n",
       "  'msg': 'Ji free ho aap?',\n",
       "  'type': 'mi',\n",
       "  'date': 'THURSDAY'},\n",
       " {'time': '3:14 AM',\n",
       "  'msg': 'Ji free ho aap?',\n",
       "  'type': 'mi',\n",
       "  'date': 'WEDNESDAY'},\n",
       " {'time': '11:42 PM', 'msg': 'Ji m uth gya.', 'type': 'mi', 'date': 'TUESDAY'},\n",
       " {'time': '10:03 PM', 'msg': 'Textegen up', 'type': 'mi', 'date': 'TUESDAY'},\n",
       " {'time': '10:03 PM', 'msg': \"I'm free now\", 'type': 'mi', 'date': 'TUESDAY'},\n",
       " {'time': '12:49 PM',\n",
       "  'msg': 'Please call me if you are free..',\n",
       "  'type': 'mi',\n",
       "  'date': 'TUESDAY'},\n",
       " {'time': '12:48 PM',\n",
       "  'msg': 'Good Morning ji',\n",
       "  'type': 'mi',\n",
       "  'date': 'TUESDAY'},\n",
       " {'time': '5:12 AM',\n",
       "  'msg': 'You\\ngood work looks pretty\\nthanks.',\n",
       "  'type': 'mi',\n",
       "  'date': '4/28/2022'},\n",
       " {'time': '5:11 AM',\n",
       "  'msg': 'good work looks pretty',\n",
       "  'type': 'mi',\n",
       "  'date': '4/28/2022'},\n",
       " {'time': '5:04 AM', 'msg': '0:57', 'type': 'mi', 'date': '4/28/2022'},\n",
       " {'time': '4:48 AM',\n",
       "  'msg': 'Good Afternoon. How are you??',\n",
       "  'type': 'mi',\n",
       "  'date': '4/28/2022'},\n",
       " {'time': '11:18 AM',\n",
       "  'msg': 'Low priority p rkhenge sb functional tasks finish hone k baad krenge divide.',\n",
       "  'type': 'mi',\n",
       "  'date': '4/19/2022'},\n",
       " {'time': '11:13 AM',\n",
       "  'msg': 'Shivam\\nJi 1200 lines ka components, jonny bhya ne code kiya h kya?\\nI think so',\n",
       "  'type': 'mi',\n",
       "  'date': '4/19/2022'},\n",
       " {'time': '9:02 AM',\n",
       "  'msg': 'Ji 1200 lines ka components, jonny bhya ne code kiya h kya?',\n",
       "  'type': 'mi',\n",
       "  'date': '4/18/2022'},\n",
       " {'time': '12:42 PM',\n",
       "  'msg': 'You\\nThanks\\nAre aap thanks kyu bol rhe hn mujhe bolna chahiye aapko.',\n",
       "  'type': 'mi',\n",
       "  'date': '4/15/2022'},\n",
       " {'time': '12:42 PM', 'msg': 'Thanks', 'type': 'mi', 'date': '4/15/2022'},\n",
       " {'time': '9:10 AM',\n",
       "  'msg': 'WhatsappQueue, Conversation pipe-lining done',\n",
       "  'type': 'mi',\n",
       "  'date': '4/15/2022'},\n",
       " {'time': '9:10 AM',\n",
       "  'msg': 'Ji Good Evening.',\n",
       "  'type': 'mi',\n",
       "  'date': '4/15/2022'}]"
      ]
     },
     "execution_count": 113,
     "metadata": {},
     "output_type": "execute_result"
    }
   ],
   "source": [
    "# Read the TEXT messages on a page\n",
    "WA_messageTextParser(driver)"
   ]
  },
  {
   "cell_type": "code",
   "execution_count": null,
   "id": "366198e8",
   "metadata": {},
   "outputs": [],
   "source": [
    "# Read all NEW BUBBLE chats and get the output\n",
    "WA_manageNewMessages(driver)"
   ]
  },
  {
   "cell_type": "code",
   "execution_count": 25,
   "id": "39395a03",
   "metadata": {},
   "outputs": [
    {
     "name": "stdout",
     "output_type": "stream",
     "text": [
      "<function WA_SEARCH_2 at 0x7fad1956cb90>: ======== PROCESS STARTING : Parameter : 9953674770 ========\n",
      "Yes we are in contact info page: Verified\n",
      "+91 97110 96888\n",
      "~A\n",
      "Yes we are in contact info page: Verified\n",
      "+91 99536 74770\n",
      "~Syam\n"
     ]
    }
   ],
   "source": [
    "# Search for a user\n",
    "WA_SEARCH_2(driver,'9953674770')"
   ]
  },
  {
   "cell_type": "code",
   "execution_count": 26,
   "id": "a7d5185c",
   "metadata": {},
   "outputs": [
    {
     "name": "stdout",
     "output_type": "stream",
     "text": [
      "<function WA_SINGLE_SEND at 0x7fad1956cc20>: ======== PROCESS STARTING : Parameter : hello ========\n",
      "<function reporting at 0x7fad19541320>: Trying Unfocussed\n",
      "<function reporting at 0x7fad19541320>: Length of Chat Header Div => 1\n",
      "1\n"
     ]
    }
   ],
   "source": [
    "# Send a single message \n",
    "WA_SINGLE_SEND(driver,'hello')"
   ]
  },
  {
   "cell_type": "markdown",
   "id": "2e501281",
   "metadata": {},
   "source": [
    "# Testing Document Parsing"
   ]
  },
  {
   "cell_type": "code",
   "execution_count": 7,
   "id": "8e60fd05",
   "metadata": {},
   "outputs": [],
   "source": [
    "# Enter Date and Time of Last Contact \n"
   ]
  },
  {
   "cell_type": "code",
   "execution_count": 49,
   "id": "b6e9cb98",
   "metadata": {},
   "outputs": [],
   "source": [
    "chat_component = driver.find_elements(By.XPATH,f\"//div[@role='region']\")[0]\n",
    "\n",
    "# Scrolling To Get More Messages\n",
    "driver.execute_script(\"arguments[0].scrollIntoView();\", chat_component)\n",
    "time.sleep(2)\n",
    "driver.execute_script(\"arguments[0].scrollIntoView();\", chat_component)\n",
    "time.sleep(2)\n",
    "driver.execute_script(\"arguments[0].scrollIntoView();\", chat_component)\n",
    "time.sleep(2)\n",
    "\n",
    "# Getting the corpus \n",
    "onlyimg = []\n",
    "CORPUS = [] \n",
    "chat_component = driver.find_elements(By.XPATH,f\"//div[@role='region']\")[0]\n",
    "chat_children = chat_component.find_elements(By.XPATH,'./*')\n",
    "for child in chat_children:\n",
    "    \n",
    "    child_child = child.find_elements(By.XPATH,'.//img')\n",
    "    if len(child_child) > 0 :\n",
    "        onlyimg.append (child_child)\n",
    "        \n",
    "    if child.get_attribute('class'):\n",
    "        attrlist = child.get_attribute('class').split(' ')\n",
    "        if 'message-in' in attrlist:\n",
    "            CORPUS.append({\n",
    "                'text':child.text,\n",
    "                'type':'mi'\n",
    "            })\n",
    "        elif 'message-out' in attrlist:\n",
    "            CORPUS.append({\n",
    "                'text':child.text,\n",
    "                'type':'mo'\n",
    "            })\n",
    "        elif 'focusable-list-item' in attrlist:\n",
    "            CORPUS.append({\n",
    "                'text':child.text,\n",
    "                'type':'fli'\n",
    "            })\n",
    "            "
   ]
  },
  {
   "cell_type": "code",
   "execution_count": 63,
   "id": "d699dd3c",
   "metadata": {},
   "outputs": [
    {
     "data": {
      "text/plain": [
       "[<selenium.webdriver.remote.webelement.WebElement (session=\"d79e4a348401eb154bdef6ea704fb793\", element=\"c003d2da-f3e2-49f9-969e-a9bc3c5067be\")>,\n",
       " <selenium.webdriver.remote.webelement.WebElement (session=\"d79e4a348401eb154bdef6ea704fb793\", element=\"ec2c7e69-9250-453b-b3df-303eca2c8b8d\")>,\n",
       " <selenium.webdriver.remote.webelement.WebElement (session=\"d79e4a348401eb154bdef6ea704fb793\", element=\"8a3c5434-c810-457f-81ac-9b56d0a1642b\")>,\n",
       " <selenium.webdriver.remote.webelement.WebElement (session=\"d79e4a348401eb154bdef6ea704fb793\", element=\"7e4344bc-5504-4419-a99c-f0be63e6f0dd\")>]"
      ]
     },
     "execution_count": 63,
     "metadata": {},
     "output_type": "execute_result"
    }
   ],
   "source": [
    "onlyimg[0]"
   ]
  },
  {
   "cell_type": "code",
   "execution_count": 64,
   "id": "58d9173f",
   "metadata": {},
   "outputs": [
    {
     "name": "stdout",
     "output_type": "stream",
     "text": [
      "Click no work \n",
      "Click no work \n",
      "Found Mediia Page\n",
      "Click no work \n",
      "Click no work \n",
      "Click no work \n",
      "Click no work \n",
      "Click no work \n",
      "Click no work \n",
      "Click no work \n",
      "Click no work \n",
      "Click no work \n",
      "Click no work \n",
      "Click no work \n",
      "Click no work \n",
      "Click no work \n",
      "Click no work \n",
      "Click no work \n",
      "Click no work \n",
      "Click no work \n",
      "Click no work \n"
     ]
    }
   ],
   "source": [
    "def openImageModal(driver,onlyimg)\n",
    "\n",
    "    # Flag to check if gallery open \n",
    "    clicked_flag = 0\n",
    "    chat_component = -1\n",
    "    media_modal = -1 \n",
    "\n",
    "    for img_maybe in onlyimg[::-1]:\n",
    "        try:\n",
    "\n",
    "            for rec in img_maybe:\n",
    "                try:\n",
    "                    rec.click()\n",
    "\n",
    "                    chat_component = driver.find_elements(By.XPATH,f\".//div[@id='app']\")\n",
    "\n",
    "                    if len(chat_component) == 1:\n",
    "                        chat_component = chat_component[0]\n",
    "\n",
    "                        media_modal = chat_component.find_elements(By.XPATH,f\".//div[@data-testid='media-viewer-modal']\")\n",
    "\n",
    "                        if len(media_modal) == 1 :\n",
    "                            media_modal = media_modal[0]\n",
    "                            print('Found Mediia Page')\n",
    "                            clicked_flag = 1 \n",
    "                            return \n",
    "\n",
    "                        else:\n",
    "                            print('Misinformed Structure: [MEDIA MODAL DIV] ')\n",
    "\n",
    "\n",
    "                    else:\n",
    "                        print('Misinformed Structure: [APP DIV] ')\n",
    "                except Exception:\n",
    "                    print('Click no work ')\n",
    "\n",
    "\n",
    "\n",
    "\n",
    "\n",
    "        except Exception:\n",
    "            print('Clicked with error')\n",
    "\n",
    "    if clicked_flag == 0 :\n",
    "        print('----NO FOUND ')"
   ]
  },
  {
   "cell_type": "code",
   "execution_count": 59,
   "id": "8b0cb025",
   "metadata": {},
   "outputs": [
    {
     "name": "stdout",
     "output_type": "stream",
     "text": [
      "Found Mediia Page\n"
     ]
    }
   ],
   "source": [
    "chat_component = driver.find_elements(By.XPATH,f\".//div[@id='app']\")\n",
    "\n",
    "if len(chat_component) == 1:\n",
    "    chat_component = chat_component[0]\n",
    "\n",
    "    media_modal = chat_component.find_elements(By.XPATH,f\".//div[@data-testid='media-viewer-modal']\")\n",
    "\n",
    "    if len(media_modal) == 1 :\n",
    "        media_modal = media_modal[0]\n",
    "        print('Found Mediia Page')\n",
    "        clicked_flag = 1 \n",
    "\n",
    "\n",
    "    else:\n",
    "        print('Misinformed Structure: [MEDIA MODAL DIV] ')\n",
    "\n",
    "\n",
    "else:\n",
    "    print('Misinformed Structure: [APP DIV] ')\n"
   ]
  },
  {
   "cell_type": "markdown",
   "id": "bc509b13",
   "metadata": {},
   "source": [
    "## Ver 2"
   ]
  },
  {
   "cell_type": "code",
   "execution_count": 5,
   "id": "c38ebfeb",
   "metadata": {},
   "outputs": [],
   "source": [
    "msg = WA_messageTextParser(driver)"
   ]
  },
  {
   "cell_type": "code",
   "execution_count": 6,
   "id": "0b5b2060",
   "metadata": {},
   "outputs": [],
   "source": [
    "from dateutil.parser import parse"
   ]
  },
  {
   "cell_type": "code",
   "execution_count": 7,
   "id": "89f808fd",
   "metadata": {},
   "outputs": [
    {
     "data": {
      "text/plain": [
       "[{'time': '5:32 AM', 'msg': 'You\\nthanks\\nJi', 'type': 'mi', 'date': 'TODAY'},\n",
       " {'time': '5:31 AM', 'msg': 'this works', 'type': 'mi', 'date': 'TODAY'},\n",
       " {'time': '5:31 AM', 'msg': 'thanks', 'type': 'mi', 'date': 'TODAY'},\n",
       " {'time': '5:31 AM', 'msg': 'no', 'type': 'mi', 'date': 'TODAY'},\n",
       " {'time': '5:15 AM', 'msg': 'call kru??', 'type': 'mi', 'date': 'TODAY'},\n",
       " {'time': '5:14 AM',\n",
       "  'msg': 'export enum WhatsappType {\\n  Send = \"send\",\\n  Sent = \"sent\",\\n  Sync = \"sync\",\\n  Init = \"init\",\\n  Read = \"tabread\",\\n}',\n",
       "  'type': 'mi',\n",
       "  'date': 'TODAY'},\n",
       " {'time': '5:14 AM',\n",
       "  'msg': 'export interface Conversations {\\n  msg?: string;\\n  type?: WhatsappType;\\n  context?: string;\\n  attachment?: string;\\n  recieved?: boolean;\\n  createdAt: firebase.default.firestore.Timestamp;\\n}',\n",
       "  'type': 'mi',\n",
       "  'date': 'TODAY'},\n",
       " {'time': '5:13 AM',\n",
       "  'msg': 'This message was deleted',\n",
       "  'type': 'mi',\n",
       "  'date': 'TODAY'},\n",
       " {'time': '5:13 AM',\n",
       "  'msg': 'Ji m soch rha hoon ki..',\n",
       "  'type': 'mi',\n",
       "  'date': 'TODAY'},\n",
       " {'time': '5:08 AM',\n",
       "  'msg': 'This message was deleted',\n",
       "  'type': 'mi',\n",
       "  'date': 'TODAY'},\n",
       " {'time': '5:07 AM',\n",
       "  'msg': 'This message was deleted',\n",
       "  'type': 'mi',\n",
       "  'date': 'TODAY'},\n",
       " {'time': '5:05 AM',\n",
       "  'msg': 'Shivam\\nCall kr lijiye.\\n.',\n",
       "  'type': 'mi',\n",
       "  'date': 'TODAY'},\n",
       " {'time': '5:05 AM', 'msg': 'Smjha ni m', 'type': 'mi', 'date': 'TODAY'},\n",
       " {'time': '5:05 AM', 'msg': 'for this', 'type': 'mi', 'date': 'TODAY'},\n",
       " {'time': '5:05 AM', 'msg': 'Call kr lijiye.', 'type': 'mi', 'date': 'TODAY'},\n",
       " {'time': '5:04 AM',\n",
       "  'msg': 'user conversation',\n",
       "  'type': 'mi',\n",
       "  'date': 'TODAY'},\n",
       " {'time': '5:04 AM', 'msg': 'can u send ?', 'type': 'mi', 'date': 'TODAY'},\n",
       " {'time': '5:04 AM', 'msg': 'Ji', 'type': 'mi', 'date': 'TODAY'},\n",
       " {'time': '5:04 AM',\n",
       "  'msg': 'do u have the schema for conversation ?',\n",
       "  'type': 'mi',\n",
       "  'date': 'TODAY'},\n",
       " {'time': '5:04 AM', 'msg': 'Ji', 'type': 'mi', 'date': 'TODAY'},\n",
       " {'time': '5:04 AM', 'msg': 'are u up ?', 'type': 'mi', 'date': 'TODAY'},\n",
       " {'time': '5:49 AM',\n",
       "  'msg': 'Notification Examples:\\n\\n1. Msg (No attachment) -> /clients/YIJ3bLzUXlubsxnDPnDR/projects/MS3fNQfXZdLx3gNkcDUP/wa-queue/pNYtXb8dgyh0b8w65wTk\\n2. Attachment (No msg) -> /clients/YIJ3bLzUXlubsxnDPnDR/projects/MS3fNQfXZdLx3gNkcDUP/wa-queue/wLW9e31E6DMLMQoKEcb3\\n3. Msg with file -> /clients/YIJ3bLzUXlubsxnDPnDR/projects/MS3fNQfXZdLx3gNkcDUP/wa-queue/3lhIEiDVH6cNZB7bFFBm',\n",
       "  'type': 'mi',\n",
       "  'date': 'THURSDAY'},\n",
       " {'time': '11:12 AM',\n",
       "  'msg': 'Ji free ho aap?',\n",
       "  'type': 'mi',\n",
       "  'date': 'THURSDAY'},\n",
       " {'time': '3:14 AM',\n",
       "  'msg': 'Ji free ho aap?',\n",
       "  'type': 'mi',\n",
       "  'date': 'WEDNESDAY'},\n",
       " {'time': '11:42 PM', 'msg': 'Ji m uth gya.', 'type': 'mi', 'date': 'TUESDAY'},\n",
       " {'time': '10:03 PM', 'msg': 'Textegen up', 'type': 'mi', 'date': 'TUESDAY'},\n",
       " {'time': '10:03 PM', 'msg': \"I'm free now\", 'type': 'mi', 'date': 'TUESDAY'},\n",
       " {'time': '12:49 PM',\n",
       "  'msg': 'Please call me if you are free..',\n",
       "  'type': 'mi',\n",
       "  'date': 'TUESDAY'},\n",
       " {'time': '12:48 PM',\n",
       "  'msg': 'Good Morning ji',\n",
       "  'type': 'mi',\n",
       "  'date': 'TUESDAY'},\n",
       " {'time': '5:12 AM',\n",
       "  'msg': 'You\\ngood work looks pretty\\nthanks.',\n",
       "  'type': 'mi',\n",
       "  'date': '4/28/2022'},\n",
       " {'time': '5:11 AM',\n",
       "  'msg': 'good work looks pretty',\n",
       "  'type': 'mi',\n",
       "  'date': '4/28/2022'},\n",
       " {'time': '5:04 AM', 'msg': '0:57', 'type': 'mi', 'date': '4/28/2022'},\n",
       " {'time': '4:48 AM',\n",
       "  'msg': 'Good Afternoon. How are you??',\n",
       "  'type': 'mi',\n",
       "  'date': '4/28/2022'},\n",
       " {'time': '11:18 AM',\n",
       "  'msg': 'Low priority p rkhenge sb functional tasks finish hone k baad krenge divide.',\n",
       "  'type': 'mi',\n",
       "  'date': '4/19/2022'},\n",
       " {'time': '11:13 AM',\n",
       "  'msg': 'Shivam\\nJi 1200 lines ka components, jonny bhya ne code kiya h kya?\\nI think so',\n",
       "  'type': 'mi',\n",
       "  'date': '4/19/2022'},\n",
       " {'time': '9:02 AM',\n",
       "  'msg': 'Ji 1200 lines ka components, jonny bhya ne code kiya h kya?',\n",
       "  'type': 'mi',\n",
       "  'date': '4/18/2022'},\n",
       " {'time': '12:42 PM',\n",
       "  'msg': 'You\\nThanks\\nAre aap thanks kyu bol rhe hn mujhe bolna chahiye aapko.',\n",
       "  'type': 'mi',\n",
       "  'date': '4/15/2022'},\n",
       " {'time': '12:42 PM', 'msg': 'Thanks', 'type': 'mi', 'date': '4/15/2022'},\n",
       " {'time': '9:10 AM',\n",
       "  'msg': 'WhatsappQueue, Conversation pipe-lining done',\n",
       "  'type': 'mi',\n",
       "  'date': '4/15/2022'},\n",
       " {'time': '9:10 AM',\n",
       "  'msg': 'Ji Good Evening.',\n",
       "  'type': 'mi',\n",
       "  'date': '4/15/2022'},\n",
       " {'time': '4:26 AM',\n",
       "  'msg': 'latest-filter-ui.mp4\\nMP4207 kB',\n",
       "  'type': 'mi',\n",
       "  'date': '4/12/2022'},\n",
       " {'time': '7:52 AM',\n",
       "  'msg': 'This message was deleted',\n",
       "  'type': 'mi',\n",
       "  'date': '4/11/2022'},\n",
       " {'time': '6:20 AM',\n",
       "  'msg': 'lgta h pagination or use krna pdega because data wrna kaafi saara aa jaega. Or infinite scroll b use krna pdega i think.',\n",
       "  'type': 'mi',\n",
       "  'date': '4/11/2022'},\n",
       " {'time': '4:57 AM',\n",
       "  'msg': 'Mene home page k liye condition lga di h notification button ni aaega.\\n\\nmark as read ka function bna diya hai.',\n",
       "  'type': 'mi',\n",
       "  'date': '4/11/2022'},\n",
       " {'time': '4:56 AM',\n",
       "  'msg': 'Aap reply kyu ni krte ho??',\n",
       "  'type': 'mi',\n",
       "  'date': '4/11/2022'},\n",
       " {'time': '9:31 AM',\n",
       "  'msg': 'Ji kuch jageh p ts nocheck dependency thi woh mene remove krdi hai.',\n",
       "  'type': 'mi',\n",
       "  'date': '4/10/2022'},\n",
       " {'time': '12:53 PM',\n",
       "  'msg': 'Subha khraab krne k liye please sorry.',\n",
       "  'type': 'mi',\n",
       "  'date': '4/8/2022'},\n",
       " {'time': '9:57 AM',\n",
       "  'msg': 'Navbar of NotifyMenu',\n",
       "  'type': 'mi',\n",
       "  'date': '4/8/2022'},\n",
       " {'time': '9:28 AM',\n",
       "  'msg': 'meet.google.com\\nhttps://meet.google.com/kpz-ownf-axr\\nmeet.google.com\\nhttps://meet.google.com/kpz-ownf-axr',\n",
       "  'type': 'mi',\n",
       "  'date': '4/8/2022'},\n",
       " {'time': '9:26 AM', 'msg': 'Meet.', 'type': 'mi', 'date': '4/8/2022'},\n",
       " {'time': '9:26 AM',\n",
       "  'msg': 'Phone or Google meet ?',\n",
       "  'type': 'mi',\n",
       "  'date': '4/8/2022'},\n",
       " {'time': '8:51 AM', 'msg': 'Now', 'type': 'mi', 'date': '4/8/2022'},\n",
       " {'time': '8:51 AM', 'msg': 'Jut woke up', 'type': 'mi', 'date': '4/8/2022'},\n",
       " {'time': '8:51 AM', 'msg': '30 mins', 'type': 'mi', 'date': '4/8/2022'},\n",
       " {'time': '8:51 AM', 'msg': 'Call please', 'type': 'mi', 'date': '4/8/2022'},\n",
       " {'time': '8:51 AM', 'msg': 'Morning', 'type': 'mi', 'date': '4/8/2022'},\n",
       " {'time': '8:26 AM', 'msg': 'Ji..??', 'type': 'mi', 'date': '4/8/2022'},\n",
       " {'time': '2:11 AM',\n",
       "  'msg': 'Ji I need your help to checkout pipeline flow of redux.',\n",
       "  'type': 'mi',\n",
       "  'date': '4/8/2022'},\n",
       " {'time': '2:10 AM',\n",
       "  'msg': 'Ji Good Morning.',\n",
       "  'type': 'mi',\n",
       "  'date': '4/8/2022'},\n",
       " {'time': '12:30 PM',\n",
       "  'msg': 'Shivam\\nNotification schema:\\nid:bigint\\ntemplate: string\\nheader: string\\nremark: string\\nisRead:boolean, default false\\ncreatedAt: t\\nupdatedAt: t\\nFinal',\n",
       "  'type': 'mi',\n",
       "  'date': '4/5/2022'},\n",
       " {'time': '12:30 PM',\n",
       "  'msg': 'Shivam\\nNotification schema:\\nid:bigint\\ntemplate: string\\nheader: string\\nremark: string\\nisRead:boolean, default false\\ncreatedAt: t\\nupdatedAt: t\\n.',\n",
       "  'type': 'mi',\n",
       "  'date': '4/5/2022'},\n",
       " {'time': '12:29 PM', 'msg': 'Date', 'type': 'mi', 'date': '4/5/2022'},\n",
       " {'time': '12:29 PM', 'msg': 'Remark', 'type': 'mi', 'date': '4/5/2022'},\n",
       " {'time': '12:28 PM', 'msg': 'header', 'type': 'mi', 'date': '4/5/2022'},\n",
       " {'time': '12:28 PM', 'msg': 'isRead', 'type': 'mi', 'date': '4/5/2022'},\n",
       " {'time': '12:28 PM', 'msg': 'nType', 'type': 'mi', 'date': '4/5/2022'},\n",
       " {'time': '12:27 PM',\n",
       "  'msg': 'Shivam\\nPhoto\\n.',\n",
       "  'type': 'mi',\n",
       "  'date': '4/5/2022'},\n",
       " {'time': '12:26 PM',\n",
       "  'msg': 'type,isRead,type,header,remark',\n",
       "  'type': 'mi',\n",
       "  'date': '4/5/2022'},\n",
       " {'time': '12:24 PM', 'msg': '', 'type': 'mi', 'date': '4/5/2022'},\n",
       " {'time': '12:18 PM',\n",
       "  'msg': 'Notification schema:\\nid:bigint\\ntemplate: string\\nheader: string\\nremark: string\\nisRead:boolean, default false\\ncreatedAt: t\\nupdatedAt: t',\n",
       "  'type': 'mi',\n",
       "  'date': '4/5/2022'},\n",
       " {'time': '12:16 PM',\n",
       "  'msg': 'Can i modify schema from my own choice??',\n",
       "  'type': 'mi',\n",
       "  'date': '4/5/2022'},\n",
       " {'time': '12:16 PM',\n",
       "  'msg': 'I have these enum values.',\n",
       "  'type': 'mi',\n",
       "  'date': '4/5/2022'},\n",
       " {'time': '9:59 AM',\n",
       "  'msg': 'Shivam\\ncreate-guest.mp4\\nThis is nice',\n",
       "  'type': 'mi',\n",
       "  'date': '4/5/2022'},\n",
       " {'time': '6:09 AM',\n",
       "  'msg': 'Yee cheez laravel m 5 minute m ho jaati hai',\n",
       "  'type': 'mi',\n",
       "  'date': '4/5/2022'},\n",
       " {'time': '6:01 AM',\n",
       "  'msg': 'create-guest.mp4\\nMP4773 kB',\n",
       "  'type': 'mi',\n",
       "  'date': '4/5/2022'},\n",
       " {'time': '5:41 AM',\n",
       "  'msg': 'This message was deleted',\n",
       "  'type': 'mi',\n",
       "  'date': '4/5/2022'},\n",
       " {'time': '12:51 PM', 'msg': '', 'type': 'mi', 'date': '3/23/2022'},\n",
       " {'time': '4:37 AM', 'msg': 'Ji', 'type': 'mi', 'date': '3/20/2022'},\n",
       " {'time': '4:37 AM',\n",
       "  'msg': 'sorry could not get back to you sooner',\n",
       "  'type': 'mi',\n",
       "  'date': '3/20/2022'},\n",
       " {'time': '4:37 AM', 'msg': 'Great', 'type': 'mi', 'date': '3/20/2022'},\n",
       " {'time': '4:18 AM',\n",
       "  'msg': 'How are you Samarth ji??',\n",
       "  'type': 'mi',\n",
       "  'date': '3/19/2022'},\n",
       " {'time': '3:45 PM',\n",
       "  'msg': 'npm i html-react-parser ye package sahi h ya deprecated h??',\n",
       "  'type': 'mi',\n",
       "  'date': '3/15/2022'},\n",
       " {'time': '12:20 AM', 'msg': '', 'type': 'mi', 'date': '3/15/2022'}]"
      ]
     },
     "execution_count": 7,
     "metadata": {},
     "output_type": "execute_result"
    }
   ],
   "source": [
    "msg"
   ]
  },
  {
   "cell_type": "code",
   "execution_count": 8,
   "id": "bb5d033d",
   "metadata": {},
   "outputs": [],
   "source": [
    "from datetime import datetime, timedelta\n",
    "import pandas as pd\n",
    "\n",
    "today = datetime.today()\n",
    "yesterday = today - timedelta(days=1)\n",
    "one_week_ago = today - timedelta(days=7)\n",
    "thirty_days_ago = today - timedelta(days=30)\n"
   ]
  },
  {
   "cell_type": "code",
   "execution_count": 9,
   "id": "35c4b2e3",
   "metadata": {},
   "outputs": [],
   "source": [
    "DATELIST = ['MONDAY','TUESDAY','WEDNESDAY','THURSDAY','FRIDAY','SATURDAY','SUNDAY']\n",
    "today = datetime.today()\n",
    "MSG_LIST = []\n",
    "for message in msg:\n",
    "    DATE = message['date']\n",
    "    CONTENT = message['msg']\n",
    "    TIME = parse(message['time'])\n",
    "    \n",
    "    if DATE == 'TODAY':\n",
    "        DATE_P = today\n",
    "    elif DATE == 'YESTERDAY':\n",
    "        DATE_P = today - timedelta(days=1)\n",
    "    elif '/' in DATE:\n",
    "        DATE_P = parse(DATE)\n",
    "    else: \n",
    "        dateIndex = DATELIST.index(DATE)\n",
    "        timeDelta = today.weekday() - dateIndex\n",
    "        DATE_P = today - timedelta(days=timeDelta)\n",
    "    \n",
    "    hour = TIME.hour\n",
    "    minute = TIME.minute\n",
    "    DATE_P = DATE_P.replace(hour=hour, minute=minute,second = 0)\n",
    "    \n",
    "    \n",
    "    MSG_LIST.append ({\n",
    "        'TIMESTAMP' : DATE_P,\n",
    "        'CONTENT' : CONTENT,\n",
    "        'TYPE' : message['type'],\n",
    "        \n",
    "    })\n",
    "    "
   ]
  },
  {
   "cell_type": "code",
   "execution_count": 10,
   "id": "c3dc5093",
   "metadata": {},
   "outputs": [
    {
     "data": {
      "text/html": [
       "<div>\n",
       "<style scoped>\n",
       "    .dataframe tbody tr th:only-of-type {\n",
       "        vertical-align: middle;\n",
       "    }\n",
       "\n",
       "    .dataframe tbody tr th {\n",
       "        vertical-align: top;\n",
       "    }\n",
       "\n",
       "    .dataframe thead th {\n",
       "        text-align: right;\n",
       "    }\n",
       "</style>\n",
       "<table border=\"1\" class=\"dataframe\">\n",
       "  <thead>\n",
       "    <tr style=\"text-align: right;\">\n",
       "      <th></th>\n",
       "      <th>TIMESTAMP</th>\n",
       "      <th>CONTENT</th>\n",
       "      <th>TYPE</th>\n",
       "    </tr>\n",
       "  </thead>\n",
       "  <tbody>\n",
       "    <tr>\n",
       "      <th>0</th>\n",
       "      <td>2022-05-07 05:32:00.613641</td>\n",
       "      <td>You\\nthanks\\nJi</td>\n",
       "      <td>mi</td>\n",
       "    </tr>\n",
       "    <tr>\n",
       "      <th>1</th>\n",
       "      <td>2022-05-07 05:31:00.613641</td>\n",
       "      <td>this works</td>\n",
       "      <td>mi</td>\n",
       "    </tr>\n",
       "    <tr>\n",
       "      <th>2</th>\n",
       "      <td>2022-05-07 05:31:00.613641</td>\n",
       "      <td>thanks</td>\n",
       "      <td>mi</td>\n",
       "    </tr>\n",
       "    <tr>\n",
       "      <th>3</th>\n",
       "      <td>2022-05-07 05:31:00.613641</td>\n",
       "      <td>no</td>\n",
       "      <td>mi</td>\n",
       "    </tr>\n",
       "    <tr>\n",
       "      <th>4</th>\n",
       "      <td>2022-05-07 05:15:00.613641</td>\n",
       "      <td>call kru??</td>\n",
       "      <td>mi</td>\n",
       "    </tr>\n",
       "    <tr>\n",
       "      <th>...</th>\n",
       "      <td>...</td>\n",
       "      <td>...</td>\n",
       "      <td>...</td>\n",
       "    </tr>\n",
       "    <tr>\n",
       "      <th>78</th>\n",
       "      <td>2022-03-20 04:37:00.000000</td>\n",
       "      <td>sorry could not get back to you sooner</td>\n",
       "      <td>mi</td>\n",
       "    </tr>\n",
       "    <tr>\n",
       "      <th>79</th>\n",
       "      <td>2022-03-20 04:37:00.000000</td>\n",
       "      <td>Great</td>\n",
       "      <td>mi</td>\n",
       "    </tr>\n",
       "    <tr>\n",
       "      <th>80</th>\n",
       "      <td>2022-03-19 04:18:00.000000</td>\n",
       "      <td>How are you Samarth ji??</td>\n",
       "      <td>mi</td>\n",
       "    </tr>\n",
       "    <tr>\n",
       "      <th>81</th>\n",
       "      <td>2022-03-15 15:45:00.000000</td>\n",
       "      <td>npm i html-react-parser ye package sahi h ya d...</td>\n",
       "      <td>mi</td>\n",
       "    </tr>\n",
       "    <tr>\n",
       "      <th>82</th>\n",
       "      <td>2022-03-15 00:20:00.000000</td>\n",
       "      <td></td>\n",
       "      <td>mi</td>\n",
       "    </tr>\n",
       "  </tbody>\n",
       "</table>\n",
       "<p>83 rows × 3 columns</p>\n",
       "</div>"
      ],
      "text/plain": [
       "                    TIMESTAMP  \\\n",
       "0  2022-05-07 05:32:00.613641   \n",
       "1  2022-05-07 05:31:00.613641   \n",
       "2  2022-05-07 05:31:00.613641   \n",
       "3  2022-05-07 05:31:00.613641   \n",
       "4  2022-05-07 05:15:00.613641   \n",
       "..                        ...   \n",
       "78 2022-03-20 04:37:00.000000   \n",
       "79 2022-03-20 04:37:00.000000   \n",
       "80 2022-03-19 04:18:00.000000   \n",
       "81 2022-03-15 15:45:00.000000   \n",
       "82 2022-03-15 00:20:00.000000   \n",
       "\n",
       "                                              CONTENT TYPE  \n",
       "0                                     You\\nthanks\\nJi   mi  \n",
       "1                                          this works   mi  \n",
       "2                                              thanks   mi  \n",
       "3                                                  no   mi  \n",
       "4                                          call kru??   mi  \n",
       "..                                                ...  ...  \n",
       "78             sorry could not get back to you sooner   mi  \n",
       "79                                              Great   mi  \n",
       "80                           How are you Samarth ji??   mi  \n",
       "81  npm i html-react-parser ye package sahi h ya d...   mi  \n",
       "82                                                      mi  \n",
       "\n",
       "[83 rows x 3 columns]"
      ]
     },
     "execution_count": 10,
     "metadata": {},
     "output_type": "execute_result"
    }
   ],
   "source": [
    "pd.DataFrame(MSG_LIST)"
   ]
  },
  {
   "cell_type": "markdown",
   "id": "160971b1",
   "metadata": {},
   "source": [
    "# New Whatsapp Reader (Includes Attachments)"
   ]
  },
  {
   "cell_type": "code",
   "execution_count": 11,
   "id": "73a1f92b",
   "metadata": {},
   "outputs": [],
   "source": [
    "chat_component = driver.find_elements(By.XPATH,f\"//div[@role='region']\")[0]\n",
    "\n",
    "driver.execute_script(\"arguments[0].scrollIntoView();\", chat_component)\n",
    "time.sleep(2)\n",
    "driver.execute_script(\"arguments[0].scrollIntoView();\", chat_component)\n",
    "time.sleep(2)\n",
    "driver.execute_script(\"arguments[0].scrollIntoView();\", chat_component)\n",
    "time.sleep(2)"
   ]
  },
  {
   "cell_type": "code",
   "execution_count": 12,
   "id": "0677dc4d",
   "metadata": {},
   "outputs": [],
   "source": [
    "onlyimg = []\n",
    "CORPUS = [] \n",
    "chat_component = driver.find_elements(By.XPATH,f\"//div[@role='region']\")[0]\n",
    "chat_children = chat_component.find_elements(By.XPATH,'./*')\n",
    "for child in chat_children:\n",
    "    \n",
    "    child_child = child.find_elements(By.XPATH,'.//img')\n",
    "    if len(child_child) > 0 :\n",
    "        onlyimg.append (child_child)\n",
    "        \n",
    "    if child.get_attribute('class'):\n",
    "        attrlist = child.get_attribute('class').split(' ')\n",
    "        if 'message-in' in attrlist:\n",
    "            CORPUS.append({\n",
    "                'text':child.text,\n",
    "                'type':'mi'\n",
    "            })\n",
    "        elif 'message-out' in attrlist:\n",
    "            CORPUS.append({\n",
    "                'text':child.text,\n",
    "                'type':'mo'\n",
    "            })\n",
    "        elif 'focusable-list-item' in attrlist:\n",
    "            CORPUS.append({\n",
    "                'text':child.text,\n",
    "                'type':'fli'\n",
    "            })\n",
    "            "
   ]
  },
  {
   "cell_type": "code",
   "execution_count": 13,
   "id": "a81e581a",
   "metadata": {},
   "outputs": [],
   "source": [
    "onlyimg[0][1].click()"
   ]
  },
  {
   "cell_type": "code",
   "execution_count": 151,
   "id": "18d39f3c",
   "metadata": {},
   "outputs": [
    {
     "ename": "IndexError",
     "evalue": "list index out of range",
     "output_type": "error",
     "traceback": [
      "\u001b[0;31m---------------------------------------------------------------------------\u001b[0m",
      "\u001b[0;31mIndexError\u001b[0m                                Traceback (most recent call last)",
      "\u001b[0;32m/var/folders/66/w1588p9n1654b1yky4q5nz580000gn/T/ipykernel_1177/1168060151.py\u001b[0m in \u001b[0;36m<module>\u001b[0;34m\u001b[0m\n\u001b[0;32m----> 1\u001b[0;31m \u001b[0mchild_child\u001b[0m\u001b[0;34m[\u001b[0m\u001b[0;36m2\u001b[0m\u001b[0;34m]\u001b[0m\u001b[0;34m.\u001b[0m\u001b[0mclick\u001b[0m\u001b[0;34m(\u001b[0m\u001b[0;34m)\u001b[0m\u001b[0;34m\u001b[0m\u001b[0;34m\u001b[0m\u001b[0m\n\u001b[0m",
      "\u001b[0;31mIndexError\u001b[0m: list index out of range"
     ]
    }
   ],
   "source": [
    "img_doms.append()"
   ]
  },
  {
   "cell_type": "code",
   "execution_count": 152,
   "id": "c9b4f35c",
   "metadata": {},
   "outputs": [
    {
     "data": {
      "text/plain": [
       "71"
      ]
     },
     "execution_count": 152,
     "metadata": {},
     "output_type": "execute_result"
    }
   ],
   "source": [
    "len(chat_children)"
   ]
  },
  {
   "cell_type": "code",
   "execution_count": 54,
   "id": "bb43766c",
   "metadata": {},
   "outputs": [
    {
     "data": {
      "text/plain": [
       "7"
      ]
     },
     "execution_count": 54,
     "metadata": {},
     "output_type": "execute_result"
    }
   ],
   "source": [
    "\n",
    "\n",
    "\n",
    "\n",
    "PARSED_CORPUS = []\n",
    "TEMP_PUSH = []\n",
    "for division in CORPUS[::-1]:\n",
    "\n",
    "    if division['type']=='mi':\n",
    "        message = '\\n'.join(division['text'].split('\\n')[:len(division['text'].split('\\n'))-1])\n",
    "        timeSplit = division['text'].split('\\n')[::-1][0]\n",
    "        TEMP_PUSH.append({\n",
    "            'time' : timeSplit,\n",
    "            'msg':message,\n",
    "            'type':'mi'})\n",
    "\n",
    "\n",
    "    elif division['type']=='mo':\n",
    "        message = '\\n'.join(division['text'].split('\\n')[:len(division['text'].split('\\n'))-1])\n",
    "        timeSplit = division['text'].split('\\n')[::-1][0]\n",
    "        TEMP_PUSH.append({\n",
    "            'time' : timeSplit,\n",
    "            'msg':message,\n",
    "            'type':'mi'})\n",
    "\n",
    "    elif division['type']=='fli':\n",
    "        selected_date = -1\n",
    "        if division['text'] == 'TODAY': # Check if today \n",
    "            selected_date = division['text']\n",
    "\n",
    "        elif is_date(division['text']): # Check if date\n",
    "            selected_date = division['text']\n",
    "\n",
    "\n",
    "        if selected_date !=-1:\n",
    "            for push in TEMP_PUSH:\n",
    "                push['date']=selected_date\n",
    "\n",
    "                PARSED_CORPUS.append(push)\n",
    "\n",
    "            TEMP_PUSH = [] "
   ]
  },
  {
   "cell_type": "code",
   "execution_count": null,
   "id": "720140e4",
   "metadata": {},
   "outputs": [],
   "source": []
  }
 ],
 "metadata": {
  "kernelspec": {
   "display_name": "Python 3 (ipykernel)",
   "language": "python",
   "name": "python3"
  },
  "language_info": {
   "codemirror_mode": {
    "name": "ipython",
    "version": 3
   },
   "file_extension": ".py",
   "mimetype": "text/x-python",
   "name": "python",
   "nbconvert_exporter": "python",
   "pygments_lexer": "ipython3",
   "version": "3.7.11"
  }
 },
 "nbformat": 4,
 "nbformat_minor": 5
}

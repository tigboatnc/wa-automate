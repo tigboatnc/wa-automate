{
 "cells": [
  {
   "cell_type": "markdown",
   "id": "d170682a",
   "metadata": {},
   "source": [
    "# 1. Setup "
   ]
  },
  {
   "cell_type": "code",
   "execution_count": 1,
   "id": "f6960da2",
   "metadata": {},
   "outputs": [],
   "source": [
    "\n",
    "# Firebase Imports \n",
    "import firebase_admin\n",
    "from firebase_admin import credentials\n",
    "from firebase_admin import firestore\n",
    "import threading\n",
    "from google.api_core.datetime_helpers import DatetimeWithNanoseconds\n",
    "\n",
    "# Selenium Imports \n",
    "from selenium import webdriver\n",
    "from selenium.webdriver.common.keys import Keys\n",
    "from selenium.webdriver.support.ui import WebDriverWait\n",
    "from selenium.webdriver.support.ui import Select\n",
    "from selenium.webdriver.common.by import By\n",
    "from selenium.webdriver.common.keys import Keys\n",
    "from selenium.webdriver.chrome.options import Options\n",
    "from webdriver_manager.chrome import ChromeDriverManager\n",
    "from selenium.webdriver.common.action_chains import ActionChains\n",
    "\n",
    "# Utility Imports\n",
    "import copy\n",
    "from urllib.parse import urlparse\n",
    "import numpy as np\n",
    "import pandas as pd\n",
    "import re \n",
    "from pathlib import Path\n",
    "import os\n",
    "import time\n",
    "from datetime import date\n",
    "from datetime import timedelta\n",
    "from datetime import datetime\n",
    "import dateutil.parser as parser\n",
    "\n",
    "import time\n",
    "\n",
    "today = date.today()\n",
    "cwd = os.getcwd()"
   ]
  },
  {
   "cell_type": "markdown",
   "id": "f8389198",
   "metadata": {},
   "source": [
    "## 1.1 Set up technician variables "
   ]
  },
  {
   "cell_type": "code",
   "execution_count": 2,
   "id": "083f9090",
   "metadata": {},
   "outputs": [],
   "source": [
    "CLIENT_ID = u'YIJ3bLzUXlubsxnDPnDR' # ID of client \n",
    "PROJECT_ID = u'BOuyALnDYmDHSBW7kAZm' # ID of the project "
   ]
  },
  {
   "cell_type": "markdown",
   "id": "b745eb59",
   "metadata": {},
   "source": [
    "## 1.2 Set up `FIREBASEAGENT`"
   ]
  },
  {
   "cell_type": "code",
   "execution_count": 3,
   "id": "e1ed3ef3",
   "metadata": {},
   "outputs": [],
   "source": [
    "firebase_project_id = 'tpc-dev-5330f'\n",
    "# Use the application default credentials\n",
    "cred = firebase_admin.credentials.Certificate('./secret/tpc-dev-5330f-firebase-adminsdk-2p698-e13719db26.json')\n",
    "\n",
    "firebase_admin.initialize_app(cred, {\n",
    "  'projectId': firebase_project_id,\n",
    "})\n",
    "\n",
    "db = firestore.client()"
   ]
  },
  {
   "cell_type": "code",
   "execution_count": 4,
   "id": "8ab77eb0",
   "metadata": {},
   "outputs": [],
   "source": [
    "doc_ref = db.collection(u'clients').document(CLIENT_ID).collection(u'projects').document(PROJECT_ID).collection('wa-queue')"
   ]
  },
  {
   "cell_type": "code",
   "execution_count": 5,
   "id": "4e7a8f01",
   "metadata": {},
   "outputs": [],
   "source": [
    "# Create an Event for notifying main thread.\n",
    "callback_done = threading.Event()\n",
    "# MAIN VARIABLE : Clean after use \n",
    "FIREBASEAGENT = []\n",
    "\n",
    "# Create a callback on_snapshot function to capture changes\n",
    "def on_snapshot(col_snapshot, changes, read_time):\n",
    "    for doc in col_snapshot:\n",
    "#         print(f'{doc.id}')\n",
    "        FIREBASEAGENT.append(doc.id)\n",
    "    callback_done.set()\n",
    "    \n",
    "\n",
    "col_query = db.collection(u'clients').document(u'YIJ3bLzUXlubsxnDPnDR').collection(u'projects').document(u'BOuyALnDYmDHSBW7kAZm').collection('wa-queue').where(u'processed', u'==', False)\n",
    "\n",
    "# Watch the collection query\n",
    "query_watch = col_query.on_snapshot(on_snapshot)\n"
   ]
  },
  {
   "cell_type": "markdown",
   "id": "a5d9f288",
   "metadata": {},
   "source": [
    "## 1.3 Set up `PHONEBOOKAGENT`"
   ]
  },
  {
   "cell_type": "code",
   "execution_count": 6,
   "id": "2b24319a",
   "metadata": {},
   "outputs": [],
   "source": [
    "guest_reference = []\n",
    "guests = db.collection(u'clients').document(CLIENT_ID).collection(u'projects').document(PROJECT_ID).collection('guests').document(PROJECT_ID).collection('guest-data').stream()\n",
    "\n",
    "for doc in guests:\n",
    "    current = doc.to_dict()\n",
    "    current['id'] = doc.id\n",
    "    \n",
    "    guest_reference.append(current)\n",
    "    \n",
    "PHONEBOOKAGENT = pd.DataFrame(guest_reference)\n",
    "\n"
   ]
  },
  {
   "cell_type": "markdown",
   "id": "9bb87f6c",
   "metadata": {},
   "source": [
    "## Set up CHROMEDRIVER "
   ]
  },
  {
   "cell_type": "code",
   "execution_count": 7,
   "id": "9f900fb9",
   "metadata": {},
   "outputs": [
    {
     "name": "stderr",
     "output_type": "stream",
     "text": [
      "[WDM] - \n",
      "\n",
      "[WDM] - ====== WebDriver manager ======\n",
      "[WDM] - Current google-chrome version is 99.0.4844\n",
      "[WDM] - Get LATEST driver version for 99.0.4844\n",
      "[WDM] - Driver [/Users/flipflops/.wdm/drivers/chromedriver/mac64/99.0.4844.51/chromedriver] found in cache\n",
      "/usr/local/Caskroom/miniconda/base/envs/tpc-wa/lib/python3.7/site-packages/ipykernel_launcher.py:5: DeprecationWarning: executable_path has been deprecated, please pass in a Service object\n",
      "  \"\"\"\n"
     ]
    }
   ],
   "source": [
    "# Starting the selenium webserver and getting whatsapp \n",
    "userprofile = 'samarth'\n",
    "options = webdriver.ChromeOptions()\n",
    "options.add_argument(f\"user-data-dir={cwd}/.\"+userprofile+\"UserProfile\")\n",
    "driver = webdriver.Chrome(ChromeDriverManager().install() , options=options)\n",
    "driver.get(\"https://web.whatsapp.com/\")"
   ]
  },
  {
   "cell_type": "markdown",
   "id": "a4d6c9c8",
   "metadata": {},
   "source": [
    "# 2.0 RUNTIME"
   ]
  },
  {
   "cell_type": "markdown",
   "id": "2788475b",
   "metadata": {},
   "source": [
    "## 2.1 Define automation functions"
   ]
  },
  {
   "cell_type": "code",
   "execution_count": 110,
   "id": "7a86e983",
   "metadata": {},
   "outputs": [],
   "source": [
    "\n",
    "\n",
    "# Default getter functions \n",
    "def F_SEARCH_2(driverVar,contact_number):\n",
    "\n",
    "    driverVar.find_element(By.CSS_SELECTOR, \"body\").send_keys(Keys.CONTROL + Keys.COMMAND + '//')\n",
    "    time.sleep(1)\n",
    "\n",
    "\n",
    "    FORM_HEADER_CLASS = '_1Jn3C' # Label Class\n",
    "    FORM_CLASS = '_13NKt copyable-text selectable-text'\n",
    "\n",
    "    formHeadingClassList = driverVar.find_elements(By.XPATH,f\"//label[@class='{FORM_HEADER_CLASS}']\")\n",
    "\n",
    "    print(len(formHeadingClassList))\n",
    "\n",
    "\n",
    "    if len(formHeadingClassList)==1:\n",
    "        formHeadingClass = formHeadingClassList[0]\n",
    "        formElementsList = formHeadingClass.find_elements(By.XPATH,f\".//div[@class='{FORM_CLASS}']\")\n",
    "\n",
    "        print(len(formElementsList))\n",
    "\n",
    "        if len(formElementsList)>0:\n",
    "            formElement = formElementsList[0]\n",
    "            formElement.click();\n",
    "            formElement.clear();\n",
    "            formElement.send_keys(f'{contact_number}')\n",
    "            time.sleep(4)\n",
    "            formElement.send_keys(Keys.RETURN)   \n",
    "\n",
    "            \n",
    "def F_SINGLE_SEND(driverVar,text_message):\n",
    "    CHAT_HEADER_CLASS = '_1UWac _1LbR4'\n",
    "    ALT_CHAT_HEADER_CLASS = '_1UWac _1LbR4 focused'\n",
    "    CHAT_CLASS = '_13NKt copyable-text selectable-text'\n",
    "\n",
    "    print('Trying Unfocussed')\n",
    "    chatHeadingClassList = driverVar.find_elements(By.XPATH,f\"//div[@class='{CHAT_HEADER_CLASS}']\")\n",
    "    if len(chatHeadingClassList)==0:\n",
    "        print('Unfocussed failed, trying focussed;')\n",
    "        chatHeadingClassList = driverVar.find_elements(By.XPATH,f\"//div[@class='{ALT_CHAT_HEADER_CLASS}']\")\n",
    "    print(f'Length of Chat Header Div => {len(chatHeadingClassList)}')\n",
    "\n",
    "    if len(chatHeadingClassList)==1:\n",
    "        chatHeadingClass = chatHeadingClassList[0]\n",
    "        chatElementsList = chatHeadingClass.find_elements(By.XPATH,f\".//div[@class='{CHAT_CLASS}']\")\n",
    "        print(len(chatElementsList))\n",
    "        if len(chatElementsList)>0:\n",
    "            chatElement = chatElementsList[0]\n",
    "            chatElement.click();\n",
    "            time.sleep(1)\n",
    "            chatElement.clear();\n",
    "            chatElement.send_keys(f'{text_message}')\n",
    "            time.sleep(2)\n",
    "            chatElement.send_keys(Keys.RETURN)\n",
    "            \n",
    "def F_GET_NEW_MSG(driver):\n",
    "    NEW_MESSAGE_BUBBLE_DIV = '_1pJ9J'\n",
    "    \n",
    "    \n",
    "    BubbleList = driver.find_elements(By.XPATH,f\"//div[@class='{NEW_MESSAGE_BUBBLE_DIV}']\")\n",
    "\n",
    "    OUTPUT = []\n",
    "\n",
    "    for bubble in BubbleList:\n",
    "    #   Click bubble to activate chat \n",
    "        bubble.click()\n",
    "    #   Read message for current open user \n",
    "    \n",
    "    #   Get user phon number and details \n",
    "        try:\n",
    "            name,number = F_PROFILE_VIEWER(driver)\n",
    "        except Exception:\n",
    "            try:\n",
    "                name,number = F_PROFILE_VIEWER(driver)\n",
    "            except Exception:\n",
    "                print('Error Resolving Name')\n",
    "    \n",
    "    #   Filter messages to only get unread messages \n",
    "    #   Return message list \n",
    "\n",
    "\n",
    "def F_PROFILE_VIEWER(driver):\n",
    "    headers = driver.find_elements(By.XPATH,f\"//header\")\n",
    "    for header in headers:\n",
    "        header.click()\n",
    "        time.sleep(1)\n",
    "\n",
    "    headers = driver.find_elements(By.XPATH,f\"//header\")\n",
    "\n",
    "    # validates if Contact Info page is open is open \n",
    "    headerValidator = [] \n",
    "    for header in headers:\n",
    "        headerValidator.append(header.text)\n",
    "\n",
    "    if 'Contact info' in headerValidator:\n",
    "        print('Yes we are in contact info page: Verified')\n",
    "\n",
    "    sections = driver.find_elements(By.XPATH,f\"//section\")\n",
    "\n",
    "    if len(sections)>1:\n",
    "        print('something is off') \n",
    "        return('ERROR: Section not synced with tested ')\n",
    "\n",
    "    # First section under section \n",
    "    name_section = sections[0].find_elements(By.XPATH,f\".//*\")\n",
    "    sectionTEXT = name_section[0].text\n",
    "    print(sectionTEXT)\n",
    "    time.sleep(3)\n",
    "    sectionTEXT2 = sectionTEXT.split('\\n')\n",
    "    time.sleep(1)\n",
    "    name = sectionTEXT2[1][1:]\n",
    "    number = sectionTEXT2[0]\n",
    "    \n",
    "\n",
    "    actions = ActionChains(driver)\n",
    "    actions.send_keys(Keys.ESCAPE)\n",
    "    time.sleep(1)\n",
    "    actions.perform()\n",
    "    \n",
    "    \n",
    "    return name,number\n",
    "\n",
    "    "
   ]
  },
  {
   "cell_type": "code",
   "execution_count": null,
   "id": "e6f124ed",
   "metadata": {},
   "outputs": [],
   "source": []
  },
  {
   "cell_type": "code",
   "execution_count": null,
   "id": "c98e3d95",
   "metadata": {},
   "outputs": [],
   "source": []
  },
  {
   "cell_type": "code",
   "execution_count": null,
   "id": "9668a8e9",
   "metadata": {},
   "outputs": [],
   "source": []
  },
  {
   "cell_type": "code",
   "execution_count": null,
   "id": "0fbf3b59",
   "metadata": {},
   "outputs": [],
   "source": []
  },
  {
   "cell_type": "code",
   "execution_count": null,
   "id": "35b85f40",
   "metadata": {},
   "outputs": [],
   "source": []
  }
 ],
 "metadata": {
  "kernelspec": {
   "display_name": "Python 3 (ipykernel)",
   "language": "python",
   "name": "python3"
  },
  "language_info": {
   "codemirror_mode": {
    "name": "ipython",
    "version": 3
   },
   "file_extension": ".py",
   "mimetype": "text/x-python",
   "name": "python",
   "nbconvert_exporter": "python",
   "pygments_lexer": "ipython3",
   "version": "3.7.11"
  }
 },
 "nbformat": 4,
 "nbformat_minor": 5
}

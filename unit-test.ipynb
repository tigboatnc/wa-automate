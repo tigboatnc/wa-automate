{
 "cells": [
  {
   "cell_type": "markdown",
   "id": "c86060f9",
   "metadata": {},
   "source": [
    "# 1.0 Import Essentials"
   ]
  },
  {
   "cell_type": "code",
   "execution_count": 1,
   "id": "2c662441",
   "metadata": {},
   "outputs": [],
   "source": [
    "\n",
    "# Firebase Imports \n",
    "import firebase_admin\n",
    "from firebase_admin import credentials\n",
    "from firebase_admin import firestore\n",
    "import threading\n",
    "from google.api_core.datetime_helpers import DatetimeWithNanoseconds\n",
    "\n",
    "# Selenium Imports \n",
    "from selenium import webdriver\n",
    "from selenium.webdriver.common.keys import Keys\n",
    "from selenium.webdriver.support.ui import WebDriverWait\n",
    "from selenium.webdriver.support.ui import Select\n",
    "from selenium.webdriver.common.by import By\n",
    "from selenium.webdriver.common.keys import Keys\n",
    "from selenium.webdriver.chrome.options import Options\n",
    "from webdriver_manager.chrome import ChromeDriverManager\n",
    "from selenium.webdriver.common.action_chains import ActionChains\n",
    "\n",
    "# Utility Imports\n",
    "import copy\n",
    "from urllib.parse import urlparse\n",
    "import numpy as np\n",
    "import pandas as pd\n",
    "import re \n",
    "from pathlib import Path\n",
    "import os\n",
    "import time\n",
    "from datetime import date\n",
    "from datetime import timedelta\n",
    "from datetime import datetime\n",
    "import dateutil.parser as parser\n",
    "import urllib.request\n",
    "import random\n",
    "from dateutil.parser import parse\n",
    "\n",
    "import time\n",
    "from functions_utils import *\n",
    "from functions_fb import * \n",
    "from functions_wa import * \n",
    "today = date.today()\n",
    "cwd = os.getcwd()"
   ]
  },
  {
   "cell_type": "markdown",
   "id": "0743034b",
   "metadata": {},
   "source": [
    "# 2.0 ENV VARIABLES + INIT"
   ]
  },
  {
   "cell_type": "code",
   "execution_count": 2,
   "id": "f7918e92",
   "metadata": {},
   "outputs": [],
   "source": [
    "CLIENT_ID = u'YIJ3bLzUXlubsxnDPnDR' # ID of client \n",
    "PROJECT_ID = u'BOuyALnDYmDHSBW7kAZm' # ID of the project \n",
    "RESET_NO = '9953674770' # Number Used to search functionality"
   ]
  },
  {
   "cell_type": "code",
   "execution_count": 3,
   "id": "da98e1cf",
   "metadata": {},
   "outputs": [],
   "source": [
    "firebase_project_id = 'tpc-dev-5330f'\n",
    "# Use the application default credentials\n",
    "cred = firebase_admin.credentials.Certificate('./secret/tpc-dev-5330f-firebase-adminsdk-2p698-e13719db26.json')\n",
    "\n",
    "firebase_admin.initialize_app(cred, {\n",
    "  'projectId': firebase_project_id,\n",
    "})\n",
    "\n",
    "db = firestore.client()"
   ]
  },
  {
   "cell_type": "code",
   "execution_count": 4,
   "id": "95a83b4a",
   "metadata": {},
   "outputs": [
    {
     "name": "stderr",
     "output_type": "stream",
     "text": [
      "[WDM] - \n",
      "\n",
      "[WDM] - ====== WebDriver manager ======\n",
      "[WDM] - Current google-chrome version is 100.0.4896\n",
      "[WDM] - Get LATEST driver version for 100.0.4896\n",
      "[WDM] - Driver [/Users/flipflops/.wdm/drivers/chromedriver/mac64/100.0.4896.60/chromedriver] found in cache\n",
      "/usr/local/Caskroom/miniconda/base/envs/tpc-wa/lib/python3.7/site-packages/ipykernel_launcher.py:5: DeprecationWarning: executable_path has been deprecated, please pass in a Service object\n",
      "  \"\"\"\n"
     ]
    }
   ],
   "source": [
    "# Starting the selenium webserver and getting whatsapp \n",
    "userprofile = 'samarth'\n",
    "options = webdriver.ChromeOptions()\n",
    "options.add_argument(f\"user-data-dir={cwd}/.\"+userprofile+\"UserProfile\")\n",
    "driver = webdriver.Chrome(ChromeDriverManager().install() , options=options)\n",
    "driver.get(\"https://web.whatsapp.com/\")"
   ]
  },
  {
   "cell_type": "markdown",
   "id": "04dd971a",
   "metadata": {},
   "source": [
    "# TESTBENCH"
   ]
  },
  {
   "cell_type": "markdown",
   "id": "ead5737b",
   "metadata": {},
   "source": [
    "## 3.2 Firebase "
   ]
  },
  {
   "cell_type": "code",
   "execution_count": 5,
   "id": "ec886234",
   "metadata": {},
   "outputs": [],
   "source": [
    "# comQueue = FBASE_getCommandQueue(db,CLIENT_ID,PROJECT_ID)\n",
    "# comQueue = FBASE_commandQueueVerification(CLIENT_ID,PROJECT_ID,comQueue)"
   ]
  },
  {
   "cell_type": "markdown",
   "id": "755ce79e",
   "metadata": {},
   "source": [
    "## 3.3 Automation"
   ]
  },
  {
   "cell_type": "code",
   "execution_count": null,
   "id": "a534ac20",
   "metadata": {},
   "outputs": [],
   "source": [
    "# Get current user details from OPEN user\n",
    "WA_PROFILE_VIEWER(driver)"
   ]
  },
  {
   "cell_type": "code",
   "execution_count": null,
   "id": "e62f4224",
   "metadata": {},
   "outputs": [],
   "source": [
    "# Read the TEXT messages on a page\n",
    "WA_messageTextParser(driver)"
   ]
  },
  {
   "cell_type": "code",
   "execution_count": null,
   "id": "366198e8",
   "metadata": {},
   "outputs": [],
   "source": [
    "# Read all NEW BUBBLE chats and get the output\n",
    "WA_manageNewMessages(driver)"
   ]
  },
  {
   "cell_type": "code",
   "execution_count": 36,
   "id": "39395a03",
   "metadata": {},
   "outputs": [
    {
     "name": "stdout",
     "output_type": "stream",
     "text": [
      "<function WA_SEARCH_2 at 0x7f8840a35050>: ======== PROCESS STARTING : Parameter : 9953674770 ========\n",
      "<function WA_PROFILE_VIEWER at 0x7f88405e1200> : Some error, maybe not in a user page\n",
      "Yes we are in contact info page: Verified\n",
      "+91 99536 74770\n",
      "~Syam\n"
     ]
    }
   ],
   "source": [
    "# Search for a user\n",
    "WA_SEARCH_2(driver,'9953674770')"
   ]
  },
  {
   "cell_type": "code",
   "execution_count": 38,
   "id": "a7d5185c",
   "metadata": {},
   "outputs": [
    {
     "ename": "NameError",
     "evalue": "name 'WA_SINGLE_SEND' is not defined",
     "output_type": "error",
     "traceback": [
      "\u001b[0;31m---------------------------------------------------------------------------\u001b[0m",
      "\u001b[0;31mNameError\u001b[0m                                 Traceback (most recent call last)",
      "\u001b[0;32m/var/folders/66/w1588p9n1654b1yky4q5nz580000gn/T/ipykernel_10313/1322584555.py\u001b[0m in \u001b[0;36m<module>\u001b[0;34m\u001b[0m\n\u001b[0;32m----> 1\u001b[0;31m \u001b[0mWA_SINGLE_SEND\u001b[0m\u001b[0;34m(\u001b[0m\u001b[0mdriver\u001b[0m\u001b[0;34m,\u001b[0m\u001b[0;34m'hello'\u001b[0m\u001b[0;34m)\u001b[0m\u001b[0;34m\u001b[0m\u001b[0;34m\u001b[0m\u001b[0m\n\u001b[0m",
      "\u001b[0;31mNameError\u001b[0m: name 'WA_SINGLE_SEND' is not defined"
     ]
    }
   ],
   "source": [
    "WA_SINGLE_SEND(driver,'hello')"
   ]
  },
  {
   "cell_type": "code",
   "execution_count": null,
   "id": "a9e69e45",
   "metadata": {},
   "outputs": [],
   "source": []
  }
 ],
 "metadata": {
  "kernelspec": {
   "display_name": "Python 3 (ipykernel)",
   "language": "python",
   "name": "python3"
  },
  "language_info": {
   "codemirror_mode": {
    "name": "ipython",
    "version": 3
   },
   "file_extension": ".py",
   "mimetype": "text/x-python",
   "name": "python",
   "nbconvert_exporter": "python",
   "pygments_lexer": "ipython3",
   "version": "3.7.11"
  }
 },
 "nbformat": 4,
 "nbformat_minor": 5
}

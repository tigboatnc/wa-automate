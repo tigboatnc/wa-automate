{
 "cells": [
  {
   "cell_type": "markdown",
   "id": "c86060f9",
   "metadata": {},
   "source": [
    "# 1.0 Import Essentials"
   ]
  },
  {
   "cell_type": "code",
   "execution_count": 1,
   "id": "2c662441",
   "metadata": {},
   "outputs": [],
   "source": [
    "\n",
    "# Firebase Imports \n",
    "import firebase_admin\n",
    "from firebase_admin import credentials\n",
    "from firebase_admin import firestore\n",
    "import threading\n",
    "from google.api_core.datetime_helpers import DatetimeWithNanoseconds\n",
    "\n",
    "# Selenium Imports \n",
    "from selenium import webdriver\n",
    "from selenium.webdriver.common.keys import Keys\n",
    "from selenium.webdriver.support.ui import WebDriverWait\n",
    "from selenium.webdriver.support.ui import Select\n",
    "from selenium.webdriver.common.by import By\n",
    "from selenium.webdriver.common.keys import Keys\n",
    "from selenium.webdriver.chrome.options import Options\n",
    "from webdriver_manager.chrome import ChromeDriverManager\n",
    "from selenium.webdriver.common.action_chains import ActionChains\n",
    "\n",
    "# Utility Imports\n",
    "import copy\n",
    "from urllib.parse import urlparse\n",
    "import numpy as np\n",
    "import pandas as pd\n",
    "import re \n",
    "from pathlib import Path\n",
    "import os\n",
    "import time\n",
    "from datetime import date\n",
    "from datetime import timedelta\n",
    "from datetime import datetime\n",
    "import dateutil.parser as parser\n",
    "import urllib.request\n",
    "import random\n",
    "from dateutil.parser import parse\n",
    "\n",
    "import time\n",
    "\n",
    "today = date.today()\n",
    "cwd = os.getcwd()"
   ]
  },
  {
   "cell_type": "markdown",
   "id": "0743034b",
   "metadata": {},
   "source": [
    "# 2.0 ENV VARIABLES + INIT"
   ]
  },
  {
   "cell_type": "code",
   "execution_count": 2,
   "id": "f7918e92",
   "metadata": {},
   "outputs": [],
   "source": [
    "CLIENT_ID = u'YIJ3bLzUXlubsxnDPnDR' # ID of client \n",
    "PROJECT_ID = u'BOuyALnDYmDHSBW7kAZm' # ID of the project \n",
    "RESET_NO = '9953674770' # Number Used to search functionality"
   ]
  },
  {
   "cell_type": "code",
   "execution_count": 3,
   "id": "da98e1cf",
   "metadata": {},
   "outputs": [],
   "source": [
    "firebase_project_id = 'tpc-dev-5330f'\n",
    "# Use the application default credentials\n",
    "cred = firebase_admin.credentials.Certificate('./secret/tpc-dev-5330f-firebase-adminsdk-2p698-e13719db26.json')\n",
    "\n",
    "firebase_admin.initialize_app(cred, {\n",
    "  'projectId': firebase_project_id,\n",
    "})\n",
    "\n",
    "db = firestore.client()"
   ]
  },
  {
   "cell_type": "code",
   "execution_count": 4,
   "id": "95a83b4a",
   "metadata": {},
   "outputs": [
    {
     "name": "stderr",
     "output_type": "stream",
     "text": [
      "[WDM] - \n",
      "\n",
      "[WDM] - ====== WebDriver manager ======\n",
      "[WDM] - Current google-chrome version is 100.0.4896\n",
      "[WDM] - Get LATEST driver version for 100.0.4896\n",
      "[WDM] - Driver [/Users/flipflops/.wdm/drivers/chromedriver/mac64/100.0.4896.60/chromedriver] found in cache\n",
      "/usr/local/Caskroom/miniconda/base/envs/tpc-wa/lib/python3.7/site-packages/ipykernel_launcher.py:5: DeprecationWarning: executable_path has been deprecated, please pass in a Service object\n",
      "  \"\"\"\n"
     ]
    }
   ],
   "source": [
    "# Starting the selenium webserver and getting whatsapp \n",
    "userprofile = 'samarth'\n",
    "options = webdriver.ChromeOptions()\n",
    "options.add_argument(f\"user-data-dir={cwd}/.\"+userprofile+\"UserProfile\")\n",
    "driver = webdriver.Chrome(ChromeDriverManager().install() , options=options)\n",
    "driver.get(\"https://web.whatsapp.com/\")"
   ]
  },
  {
   "cell_type": "markdown",
   "id": "04dd971a",
   "metadata": {},
   "source": [
    "# 3.0 FUNCTIONS "
   ]
  },
  {
   "cell_type": "markdown",
   "id": "b5f6b0fb",
   "metadata": {},
   "source": [
    "## 3.0 Utilities"
   ]
  },
  {
   "cell_type": "code",
   "execution_count": 5,
   "id": "55f28a3e",
   "metadata": {},
   "outputs": [],
   "source": [
    "\n",
    "\n",
    "def is_date(string, fuzzy=False):\n",
    "    \"\"\"\n",
    "    Return whether the string can be interpreted as a date.\n",
    "\n",
    "    :param string: str, string to check for date\n",
    "    :param fuzzy: bool, ignore unknown tokens in string if True\n",
    "    \"\"\"\n",
    "    try: \n",
    "        parse(string, fuzzy=fuzzy)\n",
    "        return True\n",
    "\n",
    "    except ValueError:\n",
    "        return False"
   ]
  },
  {
   "cell_type": "markdown",
   "id": "79640106",
   "metadata": {},
   "source": [
    "## 3.1 Reporting and Statistics"
   ]
  },
  {
   "cell_type": "code",
   "execution_count": null,
   "id": "0097f4f6",
   "metadata": {},
   "outputs": [],
   "source": []
  },
  {
   "cell_type": "code",
   "execution_count": null,
   "id": "36e21fdd",
   "metadata": {},
   "outputs": [],
   "source": [
    "def reporting():\n",
    "    from inspect import currentframe, getframeinfo\n",
    "    caller = currentframe().f_back\n",
    "    func_name = getframeinfo(caller)[2]\n",
    "    caller = caller.f_back\n",
    "    from pprint import pprint\n",
    "    func = caller.f_locals.get(\n",
    "            func_name, caller.f_globals.get(\n",
    "                func_name\n",
    "        )\n",
    "    )\n",
    "\n",
    "    return func"
   ]
  },
  {
   "cell_type": "markdown",
   "id": "ead5737b",
   "metadata": {},
   "source": [
    "## 3.2 Firebase "
   ]
  },
  {
   "cell_type": "code",
   "execution_count": null,
   "id": "7e640800",
   "metadata": {},
   "outputs": [],
   "source": [
    "def FBASE_createNotification(CLIENT_ID,PROJECT_ID,notificationDoc):\n",
    "    # --------------------------------------\n",
    "    # Creates a notification for any {CLIENT_ID}, {PROJECT_ID}\n",
    "    # Return : True if document created\n",
    "    # Date : 04/01/2022\n",
    "    # --------------------------------------\n",
    "    \n",
    "    doc_ref = db.collection(u'clients').document(CLIENT_ID).collection(u'projects').document(PROJECT_ID).collection('notification').add(notificationDoc)\n",
    "    print(f'{str(reporting())} : Created a notification document at address { doc_ref[1].id}')\n",
    "    return 1\n",
    "\n",
    "\n",
    "def FBASE_getCommandQueue(CLIENT_ID,PROJECT_ID):\n",
    "    # --------------------------------------\n",
    "    # Gets the commands from wa-queue for any given {CLIENT_ID} and {PROJECT_ID}\n",
    "    # Return : list(dict)\n",
    "    # Date : 04/02/2022\n",
    "    # --------------------------------------\n",
    "    \n",
    "    comQueue = []\n",
    "    documents = db.collection(u'clients').document(CLIENT_ID).collection(u'projects').document(PROJECT_ID).collection('wa-queue').where(u'type', u'!=', 'tabread').stream()\n",
    "    for doc in documents:\n",
    "        cur_doc = doc.to_dict()\n",
    "        cur_doc['DOCUMENT_ID'] = doc.id\n",
    "        comQueue.append(cur_doc)\n",
    "    if len(comQueue) > 0 :\n",
    "        print(f'{str(reporting())} : Received new command queue with {len(comQueue)} commands')\n",
    "        return comQueue\n",
    "    else:\n",
    "        return -1 \n",
    "    \n",
    "def FBASE_commandQueueVerification(CLIENT_ID,PROJECT_ID,COMMAND_QUEUE):\n",
    "    # --------------------------------------\n",
    "    #   1.Verify a COMMAND_QUEUE for missing phone number \n",
    "    ## TODO   2.Remove bad entries from firebase \n",
    "    #   3.Create Notification\n",
    "    #   3.Return Correct Filtered List\n",
    "    # Return : list(dict)\n",
    "    # Date : 04/02/2022\n",
    "    # --------------------------------------\n",
    "    \n",
    "    filtered_command_queue = []\n",
    "    for command in COMMAND_QUEUE:\n",
    "        guest_id = command['guestId']    \n",
    "        command_id = command['DOCUMENT_ID']\n",
    "        if 'contactPhone' not in command.keys():\n",
    "            nMessage =  'Cannot find contact phone section'\n",
    "            nType = 'wa_error_phone_notFound' # Server error \n",
    "            nHeader = f\"Can't send message to {guest_id}\"   \n",
    "            print(f'{str(reporting())} : Dropped Command {command_id} due to wrong formatting : firebase error')\n",
    "        elif command['contactPhone'] == '':\n",
    "            print(f'{str(reporting())} : Dropped Command {command_id} due to wrong formatting : firebase error')\n",
    "        else:   \n",
    "            filtered_command_queue.append(command)\n",
    "    return filtered_command_queue\n",
    "        \n",
    "        \n",
    "        \n",
    "    \n",
    "def FBASE_deleteCommand(CLIENT_ID,PROJECT_ID,COMMAND_ID):\n",
    "    pass\n",
    "    "
   ]
  },
  {
   "cell_type": "code",
   "execution_count": null,
   "id": "ec886234",
   "metadata": {},
   "outputs": [],
   "source": [
    "comQueue = FBASE_getCommandQueue(CLIENT_ID,PROJECT_ID)\n",
    "comQueue = FBASE_commandQueueVerification(CLIENT_ID,PROJECT_ID,comQueue)"
   ]
  },
  {
   "cell_type": "code",
   "execution_count": null,
   "id": "ee4d7ce2",
   "metadata": {},
   "outputs": [],
   "source": [
    "comQueue"
   ]
  },
  {
   "cell_type": "markdown",
   "id": "755ce79e",
   "metadata": {},
   "source": [
    "## 3.3 Automation"
   ]
  },
  {
   "cell_type": "code",
   "execution_count": null,
   "id": "bd989619",
   "metadata": {},
   "outputs": [],
   "source": [
    "def WA_messageTextParser(driver):\n",
    "    # --------------------------------------\n",
    "    # Get all messages on current open page \n",
    "    # Updated on : 04/09/2022, Reference : {040322_bubblediv.png}\n",
    "    # Return : True\n",
    "    # Date : 04/02/2022\n",
    "    # --------------------------------------\n",
    "        \n",
    "    CORPUS = [] \n",
    "    chat_component = driver.find_elements(By.XPATH,f\"//div[@role='region']\")[0]\n",
    "    chat_children = chat_component.find_elements(By.XPATH,'.//*')\n",
    "    for child in chat_children:\n",
    "        if child.get_attribute('class'):\n",
    "            attrlist = child.get_attribute('class').split(' ')\n",
    "            if 'message-in' in attrlist:\n",
    "                CORPUS.append({\n",
    "                    'text':child.text,\n",
    "                    'type':'mi'\n",
    "                })\n",
    "            elif 'message-out' in attrlist:\n",
    "                CORPUS.append({\n",
    "                    'text':child.text,\n",
    "                    'type':'mo'\n",
    "                })\n",
    "            elif 'focusable-list-item' in attrlist:\n",
    "                CORPUS.append({\n",
    "                    'text':child.text,\n",
    "                    'type':'fli'\n",
    "                })\n",
    "\n",
    "\n",
    "    PARSED_CORPUS = []\n",
    "    TEMP_PUSH = []\n",
    "    for division in CORPUS[::-1]:\n",
    "\n",
    "        if division['type']=='mi':\n",
    "            message = '\\n'.join(division['text'].split('\\n')[:len(division['text'].split('\\n'))-1])\n",
    "            time = division['text'].split('\\n')[::-1][0]\n",
    "            TEMP_PUSH.append({\n",
    "                'time' : time,\n",
    "                'msg':message,\n",
    "                'type':'mi'})\n",
    "\n",
    "\n",
    "        elif division['type']=='mo':\n",
    "            message = '\\n'.join(division['text'].split('\\n')[:len(division['text'].split('\\n'))-1])\n",
    "            time = division['text'].split('\\n')[::-1][0]\n",
    "            TEMP_PUSH.append({\n",
    "                'time' : time,\n",
    "                'msg':message,\n",
    "                'type':'mi'})\n",
    "\n",
    "        elif division['type']=='fli':\n",
    "            selected_date = -1\n",
    "            if division['text'] == 'TODAY': # Check if today \n",
    "                selected_date = division['text']\n",
    "\n",
    "            elif is_date(division['text']): # Check if date\n",
    "                selected_date = division['text']\n",
    "\n",
    "\n",
    "            if selected_date !=-1:\n",
    "                for push in TEMP_PUSH:\n",
    "                    push['date']=selected_date\n",
    "\n",
    "                    PARSED_CORPUS.append(push)\n",
    "\n",
    "                TEMP_PUSH = [] \n",
    "\n",
    "\n",
    "\n",
    "    return PARSED_CORPUS\n",
    "    "
   ]
  },
  {
   "cell_type": "code",
   "execution_count": null,
   "id": "e1b6f9a0",
   "metadata": {},
   "outputs": [],
   "source": [
    "def WA_messageNewTextParser(driver):\n",
    "    # --------------------------------------\n",
    "    # Get all NEW messages on current open page \n",
    "    # Updated on : 04/09/2022, Reference : {040322_bubblediv.png}\n",
    "    # Return : True\n",
    "    # Date : 04/02/2022\n",
    "    # --------------------------------------\n",
    "    CORPUS = [] \n",
    "    chat_component = driver.find_elements(By.XPATH,f\"//div[@role='region']\")[0]\n",
    "    chat_children = chat_component.find_elements(By.XPATH,'.//*')\n",
    "    time.sleep(3)\n",
    "    for child in chat_children:\n",
    "        if child.get_attribute('class'):\n",
    "            attrlist = child.get_attribute('class').split(' ')\n",
    "            if 'message-in' in attrlist:\n",
    "                CORPUS.append({\n",
    "                    'text':child.text,\n",
    "                    'type':'mi'\n",
    "                })\n",
    "            elif 'message-out' in attrlist:\n",
    "                CORPUS.append({\n",
    "                    'text':child.text,\n",
    "                    'type':'mo'\n",
    "                })\n",
    "            elif 'focusable-list-item' in attrlist:\n",
    "                CORPUS.append({\n",
    "                    'text':child.text,\n",
    "                    'type':'fli'\n",
    "                })\n",
    "\n",
    "\n",
    "\n",
    "\n",
    "    PARSED_CORPUS = []\n",
    "    TEMP_PUSH = []\n",
    "    UNREAD_FOUND = 0 \n",
    "    for division in CORPUS[::-1]:\n",
    "\n",
    "        if division['type']=='mi' and UNREAD_FOUND==0:\n",
    "            message = '\\n'.join(division['text'].split('\\n')[:len(division['text'].split('\\n'))-1])\n",
    "            timeValue = division['text'].split('\\n')[::-1][0]\n",
    "            TEMP_PUSH.append({\n",
    "                'time' : timeValue,\n",
    "                'msg':message,\n",
    "                'type':'mi'})\n",
    "\n",
    "\n",
    "        elif division['type']=='mo' and UNREAD_FOUND==0:\n",
    "            message = '\\n'.join(division['text'].split('\\n')[:len(division['text'].split('\\n'))-1])\n",
    "            timeValue = division['text'].split('\\n')[::-1][0]\n",
    "            TEMP_PUSH.append({\n",
    "                'time' : timeValue,\n",
    "                'msg':message,\n",
    "                'type':'mi'})\n",
    "\n",
    "        elif division['type']=='fli':\n",
    "            selected_date = -1\n",
    "            if division['text'] == 'TODAY': # Check if today \n",
    "                selected_date = division['text']\n",
    "            elif is_date(division['text']): # Check if date\n",
    "                selected_date = division['text']\n",
    "            elif 'UNREAD' in division['text']:\n",
    "                UNREAD_FOUND = 1 \n",
    "\n",
    "            if selected_date !=-1 and UNREAD_FOUND==1:\n",
    "                for push in TEMP_PUSH:\n",
    "                    push['date']=selected_date\n",
    "\n",
    "                    PARSED_CORPUS.append(push)\n",
    "\n",
    "                TEMP_PUSH = [] \n",
    "\n",
    "\n",
    "    \n",
    "    return PARSED_CORPUS\n",
    "    "
   ]
  },
  {
   "cell_type": "code",
   "execution_count": null,
   "id": "a534ac20",
   "metadata": {},
   "outputs": [],
   "source": [
    "def WA_manageNewMessages(driver,CLIENT_ID,PROJECT_ID):\n",
    "    # --------------------------------------\n",
    "    # Manage New Messages Based on the bubble notifications.\n",
    "    # Updated on : 04/03/2022, Reference : {040922_region.png}\n",
    "    # Works on the basis that region is only one place in the document and contains all chat \n",
    "    # Then split based on message-in, message-out and focus\n",
    "    # Return : True\n",
    "    # Date : 04/02/2022\n",
    "    # --------------------------------------\n",
    "    \n",
    "    \n",
    "    \n",
    "    BUBBLE_CLASS = '_1pJ9J'\n",
    "    NEW_MESSAGES = 0 \n",
    "\n",
    "    while True:\n",
    "        bubbleList = driver.find_elements(By.XPATH,f\"//div[@class='{BUBBLE_CLASS}']\")\n",
    "        if len(bubbleList) == 0 :\n",
    "            break \n",
    "            \n",
    "        print(f'{str(reporting())} : Found {len(bubbleList)} new messages, processing')\n",
    "        bubbleList[0].click()\n",
    "        time.sleep(2)\n",
    "        NEW_MESSAGES = WA_messageNewTextParser(driver)\n",
    "        time.sleep(2)\n",
    "    \n",
    "    return NEW_MESSAGES\n",
    "    \n",
    "    \n",
    "    \n"
   ]
  },
  {
   "cell_type": "code",
   "execution_count": null,
   "id": "366198e8",
   "metadata": {},
   "outputs": [],
   "source": [
    "WA_manageNewMessages(driver,CLIENT_ID,PROJECT_ID)"
   ]
  },
  {
   "cell_type": "code",
   "execution_count": null,
   "id": "a4473fd2",
   "metadata": {},
   "outputs": [],
   "source": []
  },
  {
   "cell_type": "code",
   "execution_count": null,
   "id": "c8e869b2",
   "metadata": {},
   "outputs": [],
   "source": [
    "CORPUS"
   ]
  },
  {
   "cell_type": "code",
   "execution_count": null,
   "id": "ebb0fb68",
   "metadata": {},
   "outputs": [],
   "source": []
  },
  {
   "cell_type": "code",
   "execution_count": null,
   "id": "64916fbd",
   "metadata": {},
   "outputs": [],
   "source": []
  },
  {
   "cell_type": "code",
   "execution_count": null,
   "id": "25947b3b",
   "metadata": {},
   "outputs": [],
   "source": []
  },
  {
   "cell_type": "code",
   "execution_count": null,
   "id": "78db5ae2",
   "metadata": {},
   "outputs": [],
   "source": [
    "bubbleList = driver.find_elements(By.XPATH,f\"//div[@class='{BUBBLE_CLASS}']\")\n",
    "bubbleList\n",
    "\n",
    "bubbleList[0].click()"
   ]
  },
  {
   "cell_type": "code",
   "execution_count": null,
   "id": "bda0e8b1",
   "metadata": {},
   "outputs": [],
   "source": []
  },
  {
   "cell_type": "code",
   "execution_count": null,
   "id": "9bd4eefc",
   "metadata": {},
   "outputs": [],
   "source": [
    "MAIN_AREA_CLASS = 'conversation-panel-wrapper'\n",
    "mainArea = driver.find_elements(By.XPATH,f\"//div[@data-testid='{MAIN_AREA_CLASS}']\")[0]"
   ]
  },
  {
   "cell_type": "code",
   "execution_count": null,
   "id": "920f39a6",
   "metadata": {},
   "outputs": [],
   "source": []
  },
  {
   "cell_type": "code",
   "execution_count": null,
   "id": "52954b23",
   "metadata": {},
   "outputs": [],
   "source": []
  },
  {
   "cell_type": "code",
   "execution_count": null,
   "id": "1b203a08",
   "metadata": {},
   "outputs": [],
   "source": []
  },
  {
   "cell_type": "code",
   "execution_count": null,
   "id": "ba726622",
   "metadata": {},
   "outputs": [],
   "source": [
    "print(corpus)"
   ]
  },
  {
   "cell_type": "code",
   "execution_count": null,
   "id": "37c22900",
   "metadata": {},
   "outputs": [],
   "source": [
    "import re\n",
    "pattern = re.compile(time_pattern)\n",
    "pattern.match(')"
   ]
  },
  {
   "cell_type": "code",
   "execution_count": null,
   "id": "18ce051f",
   "metadata": {},
   "outputs": [],
   "source": [
    "re.findall(r\"/^(0?[1-9]|1[0-2]):([0-5]\\d)\\s?((?:A|P)\\.?M\\.?)\", ' 5:49PM ')"
   ]
  },
  {
   "cell_type": "code",
   "execution_count": null,
   "id": "e923692f",
   "metadata": {},
   "outputs": [],
   "source": [
    "nHeader | nMessage | nType \n",
    "Cant Send tms. | asiofasmf | isaoifas"
   ]
  },
  {
   "cell_type": "code",
   "execution_count": null,
   "id": "00462d94",
   "metadata": {},
   "outputs": [],
   "source": []
  }
 ],
 "metadata": {
  "kernelspec": {
   "display_name": "Python 3 (ipykernel)",
   "language": "python",
   "name": "python3"
  },
  "language_info": {
   "codemirror_mode": {
    "name": "ipython",
    "version": 3
   },
   "file_extension": ".py",
   "mimetype": "text/x-python",
   "name": "python",
   "nbconvert_exporter": "python",
   "pygments_lexer": "ipython3",
   "version": "3.7.11"
  }
 },
 "nbformat": 4,
 "nbformat_minor": 5
}

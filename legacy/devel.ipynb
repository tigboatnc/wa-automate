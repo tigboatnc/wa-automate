{
 "cells": [
  {
   "cell_type": "markdown",
   "id": "59a4379e",
   "metadata": {},
   "source": [
    "--------------------\n",
    "----------\n",
    "----------\n",
    "----------\n"
   ]
  },
  {
   "cell_type": "markdown",
   "id": "734a7eb9",
   "metadata": {},
   "source": [
    "# DEVELOPMENT"
   ]
  },
  {
   "cell_type": "markdown",
   "id": "5c0d21f9",
   "metadata": {},
   "source": [
    "# Issues \n",
    "1. Names like mausi lucknow are a bitch to deal with "
   ]
  },
  {
   "cell_type": "markdown",
   "id": "7971aae7",
   "metadata": {},
   "source": [
    "# Setting Up Selenium and Automation Functions "
   ]
  },
  {
   "cell_type": "code",
   "execution_count": 1,
   "id": "0f8aabf3",
   "metadata": {},
   "outputs": [],
   "source": [
    "from selenium import webdriver\n",
    "from selenium.webdriver.common.keys import Keys\n",
    "from selenium.webdriver.support.ui import WebDriverWait\n",
    "from selenium.webdriver.support.ui import Select\n",
    "from selenium.webdriver.common.by import By\n",
    "from selenium.webdriver.common.keys import Keys\n",
    "from selenium.webdriver.chrome.options import Options\n",
    "from webdriver_manager.chrome import ChromeDriverManager\n",
    "\n",
    "\n",
    "\n",
    "import copy\n",
    "\n",
    "from urllib.parse import urlparse\n",
    "import numpy as np\n",
    "import pandas as pd\n",
    "import re \n",
    "from pathlib import Path\n",
    "import os\n",
    "import time\n",
    "from datetime import date\n",
    "from datetime import timedelta\n",
    "from datetime import datetime\n",
    "import dateutil.parser as parser\n",
    "\n",
    "today = date.today()\n",
    "cwd = os.getcwd()"
   ]
  },
  {
   "cell_type": "code",
   "execution_count": 2,
   "id": "3d61c102",
   "metadata": {},
   "outputs": [
    {
     "name": "stderr",
     "output_type": "stream",
     "text": [
      "[WDM] - \n",
      "\n",
      "[WDM] - ====== WebDriver manager ======\n",
      "[WDM] - Current google-chrome version is 97.0.4692\n",
      "[WDM] - Get LATEST driver version for 97.0.4692\n",
      "[WDM] - Driver [/Users/flipflops/.wdm/drivers/chromedriver/mac64/97.0.4692.71/chromedriver] found in cache\n",
      "/usr/local/Caskroom/miniconda/base/envs/tpc-wa/lib/python3.7/site-packages/ipykernel_launcher.py:4: DeprecationWarning: executable_path has been deprecated, please pass in a Service object\n",
      "  after removing the cwd from sys.path.\n"
     ]
    }
   ],
   "source": [
    "userprofile = 'samarth'\n",
    "options = webdriver.ChromeOptions()\n",
    "options.add_argument(f\"user-data-dir={cwd}/.\"+userprofile+\"UserProfile\")\n",
    "driver = webdriver.Chrome(ChromeDriverManager().install() , options=options)\n",
    "driver.get(\"https://web.whatsapp.com/\")\n"
   ]
  },
  {
   "cell_type": "code",
   "execution_count": 3,
   "id": "925b3217",
   "metadata": {},
   "outputs": [],
   "source": [
    "def F_SEARCH_2(driverVar,contact_number):\n",
    "\n",
    "    driverVar.find_element(By.CSS_SELECTOR, \"body\").send_keys(Keys.CONTROL + Keys.COMMAND + '//')\n",
    "    time.sleep(1)\n",
    "\n",
    "\n",
    "    FORM_HEADER_CLASS = '_1Jn3C' # Label Class\n",
    "    FORM_CLASS = '_13NKt copyable-text selectable-text'\n",
    "\n",
    "    formHeadingClassList = driverVar.find_elements(By.XPATH,f\"//label[@class='{FORM_HEADER_CLASS}']\")\n",
    "\n",
    "    print(len(formHeadingClassList))\n",
    "\n",
    "\n",
    "    if len(formHeadingClassList)==1:\n",
    "        formHeadingClass = formHeadingClassList[0]\n",
    "        formElementsList = formHeadingClass.find_elements(By.XPATH,f\".//div[@class='{FORM_CLASS}']\")\n",
    "\n",
    "        print(len(formElementsList))\n",
    "\n",
    "        if len(formElementsList)>0:\n",
    "            formElement = formElementsList[0]\n",
    "            formElement.click();\n",
    "            formElement.clear();\n",
    "            formElement.send_keys(f'{contact_number}')\n",
    "            time.sleep(4)\n",
    "            formElement.send_keys(Keys.RETURN)   "
   ]
  },
  {
   "cell_type": "code",
   "execution_count": 4,
   "id": "3e8bd77b",
   "metadata": {},
   "outputs": [],
   "source": [
    "driverVar = driver \n",
    "\n",
    "CHAT_HEADER_CLASS = '_1UWac _1LbR4'\n",
    "ALT_CHAT_HEADER_CLASS = '_1UWac _1LbR4 focused'\n",
    "CHAT_CLASS = '_13NKt copyable-text selectable-text'"
   ]
  },
  {
   "cell_type": "code",
   "execution_count": 28,
   "id": "2d9085c0",
   "metadata": {},
   "outputs": [],
   "source": [
    "text_message = MESSAGE"
   ]
  },
  {
   "cell_type": "code",
   "execution_count": null,
   "id": "eb552848",
   "metadata": {},
   "outputs": [],
   "source": []
  },
  {
   "cell_type": "code",
   "execution_count": 29,
   "id": "61638f29",
   "metadata": {},
   "outputs": [
    {
     "name": "stdout",
     "output_type": "stream",
     "text": [
      "Trying Unfocussed\n",
      "Length of Chat Header Div => 1\n",
      "1\n"
     ]
    }
   ],
   "source": [
    "\n",
    "\n"
   ]
  },
  {
   "cell_type": "code",
   "execution_count": 6,
   "id": "f7d22689",
   "metadata": {},
   "outputs": [],
   "source": [
    "from selenium.webdriver.common.action_chains import ActionChains\n"
   ]
  },
  {
   "cell_type": "code",
   "execution_count": 7,
   "id": "eb5c7556",
   "metadata": {},
   "outputs": [],
   "source": [
    "answer = 'asfasf\\nasfasfas\\nasfasfasf\\n'"
   ]
  },
  {
   "cell_type": "code",
   "execution_count": null,
   "id": "257bd039",
   "metadata": {},
   "outputs": [],
   "source": []
  },
  {
   "cell_type": "code",
   "execution_count": 8,
   "id": "bcf3d773",
   "metadata": {},
   "outputs": [],
   "source": []
  },
  {
   "cell_type": "code",
   "execution_count": 9,
   "id": "c36155b5",
   "metadata": {},
   "outputs": [
    {
     "ename": "NameError",
     "evalue": "name 'chatElement' is not defined",
     "output_type": "error",
     "traceback": [
      "\u001b[0;31m---------------------------------------------------------------------------\u001b[0m",
      "\u001b[0;31mNameError\u001b[0m                                 Traceback (most recent call last)",
      "\u001b[0;32m/var/folders/66/w1588p9n1654b1yky4q5nz580000gn/T/ipykernel_6252/193286906.py\u001b[0m in \u001b[0;36m<module>\u001b[0;34m\u001b[0m\n\u001b[0;32m----> 1\u001b[0;31m \u001b[0mchatElement\u001b[0m\u001b[0;34m.\u001b[0m\u001b[0msend_keys\u001b[0m\u001b[0;34m(\u001b[0m\u001b[0;34m'asiofnaosfnaosif\\n\\n\\n\\n'\u001b[0m\u001b[0;34m)\u001b[0m\u001b[0;34m\u001b[0m\u001b[0;34m\u001b[0m\u001b[0m\n\u001b[0m",
      "\u001b[0;31mNameError\u001b[0m: name 'chatElement' is not defined"
     ]
    }
   ],
   "source": [
    "\n",
    "chatElement.send_keys('asiofnaosfnaosif\\n\\n\\n\\n')"
   ]
  },
  {
   "cell_type": "markdown",
   "id": "ef4bb584",
   "metadata": {},
   "source": [
    "# Setting up CSV Imports and Similar Funcitons"
   ]
  },
  {
   "cell_type": "code",
   "execution_count": null,
   "id": "945378c0",
   "metadata": {},
   "outputs": [],
   "source": [
    "db = pd.read_csv('./database.csv')"
   ]
  },
  {
   "cell_type": "code",
   "execution_count": null,
   "id": "3800f147",
   "metadata": {},
   "outputs": [],
   "source": [
    "db"
   ]
  },
  {
   "cell_type": "markdown",
   "id": "8005ed2e",
   "metadata": {},
   "source": [
    "## Getting Tag Options"
   ]
  },
  {
   "cell_type": "code",
   "execution_count": null,
   "id": "7efe8cd0",
   "metadata": {},
   "outputs": [],
   "source": [
    "tagColumns = db.columns[4:]\n",
    "tagCollection = []\n",
    "\n",
    "for tagColumnIndex in tagColumns:\n",
    "    tags = db[tagColumnIndex].unique().tolist()\n",
    "\n",
    "\n",
    "    tagCollection = tagCollection + tags\n",
    "    \n",
    "tagCollectionFiltered = [tag for tag in tagCollection if type(tag) != float ]"
   ]
  },
  {
   "cell_type": "code",
   "execution_count": null,
   "id": "a9e4ca40",
   "metadata": {},
   "outputs": [],
   "source": [
    "tagCollectionFiltered"
   ]
  },
  {
   "cell_type": "markdown",
   "id": "d3919e24",
   "metadata": {},
   "source": [
    "## Creating Temporary Combined Tag Field"
   ]
  },
  {
   "cell_type": "code",
   "execution_count": null,
   "id": "ab9da1e0",
   "metadata": {},
   "outputs": [],
   "source": [
    "COMBINED_TAGS = []\n",
    "for i, row in db.iterrows():\n",
    "    USERTAG = []\n",
    "\n",
    "\n",
    "    for tagColumnIndex in tagColumns:\n",
    "        tagValue = row[tagColumnIndex]\n",
    "        if type(tagValue) ==str:\n",
    "            USERTAG.append(tagValue)\n",
    "        \n",
    "    USERTAG.sort()\n",
    "    COMBINED_TAGS.append(USERTAG)"
   ]
  },
  {
   "cell_type": "code",
   "execution_count": null,
   "id": "8b28f90e",
   "metadata": {},
   "outputs": [],
   "source": [
    "db['tag_combined'] = COMBINED_TAGS\n"
   ]
  },
  {
   "cell_type": "code",
   "execution_count": null,
   "id": "641c00a0",
   "metadata": {},
   "outputs": [],
   "source": [
    "db"
   ]
  },
  {
   "cell_type": "markdown",
   "id": "555fed81",
   "metadata": {},
   "source": [
    "## SEND 1 : Enter Tags\n"
   ]
  },
  {
   "cell_type": "code",
   "execution_count": null,
   "id": "0fdd7cf9",
   "metadata": {},
   "outputs": [],
   "source": [
    "tagCollection = []\n",
    "print('Enter the tag list')\n",
    "\n",
    "while(True):\n",
    "    \n",
    "    tagValue = input('Enter the tag\\n')\n",
    "    if tagValue == '0':\n",
    "       break\n",
    "    tagCollection.append(tagValue)"
   ]
  },
  {
   "cell_type": "code",
   "execution_count": null,
   "id": "9807459d",
   "metadata": {},
   "outputs": [],
   "source": [
    "tagCollection.sort()\n",
    "tagCollection"
   ]
  },
  {
   "cell_type": "code",
   "execution_count": null,
   "id": "03865caf",
   "metadata": {},
   "outputs": [],
   "source": [
    "MESSAGE_LIST = []\n",
    "if len(tagCollection)==0:\n",
    "    print('No Tags available')\n",
    "elif len(tagCollection)==1:\n",
    "    print('\\n--------Case 1 - SEARCHING FOR 1 TAG IN USER')\n",
    "    for index, row in db.iterrows():\n",
    "        print(f'Iterating over user {row[\"First Name\"]},{row[\"Last Name\"]} to find tags...')\n",
    "        taglist = []\n",
    "        for tag in tagColumns:\n",
    "            if type(row[tag]) == str:\n",
    "                taglist.append(row[tag])\n",
    "        taglist.sort()\n",
    "        print(taglist)\n",
    "        \n",
    "        if tagCollection[0] in taglist:\n",
    "            print('Found Match, Added to Message List')\n",
    "            MESSAGE_LIST.append({\n",
    "                'fn':row['First Name'],\n",
    "                'ln':row['Last Name'],\n",
    "                'contact':row['Mobile Number'],\n",
    "            })\n",
    "            \n",
    "        \n",
    "elif len(tagCollection)>1:\n",
    "    print('\\n--------Case 2 - SEARCHING FOR MULTIPLE TAGS IN USER')\n",
    "    for index, row in db.iterrows():\n",
    "        print(f'Iterating over user {row[\"First Name\"]},{row[\"Last Name\"]} to find tags...')\n",
    "        taglist = []\n",
    "        for tag in tagColumns:\n",
    "            if type(row[tag]) == str:\n",
    "                taglist.append(row[tag])\n",
    "        taglist.sort()\n",
    "        print(taglist)\n",
    "        if tagCollection == taglist:\n",
    "            print('Found Match, Added to Message List')\n",
    "            MESSAGE_LIST.append({\n",
    "                'fn':row['First Name'],\n",
    "                'ln':row['Last Name'],\n",
    "                'contact':row['Mobile Number'],\n",
    "            })\n",
    "        "
   ]
  },
  {
   "cell_type": "markdown",
   "id": "f278db33",
   "metadata": {},
   "source": [
    "# Input Message "
   ]
  },
  {
   "cell_type": "code",
   "execution_count": 14,
   "id": "920972fa",
   "metadata": {},
   "outputs": [],
   "source": [
    "MESSAGE = '''Greetings,\n",
    "\n",
    "With the heavenly blessings from late Smt. Sulochana Devi Bansal and late Shri Vinay Bansal, the Bansal Family solicits your gracious presence for the wedding celebrations of their beloved granddaughter Sejal with Divyam, on 10 and 11th February 2022 at R Chandra’s Palace, Chomu (Jaipur). 🎊🎆\n",
    "\n",
    "We kindly request you to share any one of your following identifications – Aadhar, Driving License, Passport or Voter ID for hotel reservation purposes. You are requested to share both the frontside and the backside of the ID.\n",
    "\n",
    "With Best Compliments,\n",
    "Vijay Kumar Bansal\n",
    "#DIVYAJAL'''"
   ]
  },
  {
   "cell_type": "code",
   "execution_count": 15,
   "id": "ce3b803c",
   "metadata": {},
   "outputs": [
    {
     "data": {
      "text/plain": [
       "'Greetings,\\n\\nWith the heavenly blessings from late Smt. Sulochana Devi Bansal and late Shri Vinay Bansal, the Bansal Family solicits your gracious presence for the wedding celebrations of their beloved granddaughter Sejal with Divyam, on 10 and 11th February 2022 at R Chandra’s Palace, Chomu (Jaipur). 🎊🎆\\n\\nWe kindly request you to share any one of your following identifications – Aadhar, Driving License, Passport or Voter ID for hotel reservation purposes. You are requested to share both the frontside and the backside of the ID.\\n\\nWith Best Compliments,\\nVijay Kumar Bansal\\n#DIVYAJAL'"
      ]
     },
     "execution_count": 15,
     "metadata": {},
     "output_type": "execute_result"
    }
   ],
   "source": [
    "MESSAGE"
   ]
  },
  {
   "cell_type": "markdown",
   "id": "d100a85a",
   "metadata": {},
   "source": [
    "# SEND "
   ]
  },
  {
   "cell_type": "code",
   "execution_count": null,
   "id": "752aba7c",
   "metadata": {},
   "outputs": [],
   "source": [
    "for recepient in MESSAGE_LIST:\n",
    "    print(f'Sending Message\\n{recepient[\"fn\"]}')\n",
    "    print(f'Phone Number\\n{recepient[\"fn\"]}')\n",
    "    print(f'Sending Message\\n{recepient[\"fn\"]}')\n",
    "    \n",
    "\n",
    "    SEND_MESSAGE= MESSAGE.replace('$fn',recepient[\"fn\"])\n",
    "    SEND_MESSAGE= SEND_MESSAGE.replace('$ln',recepient[\"ln\"])\n",
    "    \n",
    "    print(f'Final Message that is being sent sending \\n{SEND_MESSAGE}')\n",
    "    \n",
    "    \n",
    "    "
   ]
  },
  {
   "cell_type": "markdown",
   "id": "03151b1e",
   "metadata": {},
   "source": [
    "\n",
    "------------\n",
    "------------\n",
    "------------\n",
    "------------"
   ]
  },
  {
   "cell_type": "markdown",
   "id": "897f0fb7",
   "metadata": {},
   "source": [
    "# Production or Whatever"
   ]
  },
  {
   "cell_type": "code",
   "execution_count": null,
   "id": "3e287b4f",
   "metadata": {},
   "outputs": [],
   "source": [
    "# Setting Up Imports \n",
    "\n",
    "from selenium import webdriver\n",
    "from selenium.webdriver.common.keys import Keys\n",
    "from selenium.webdriver.support.ui import WebDriverWait\n",
    "from selenium.webdriver.support.ui import Select\n",
    "from selenium.webdriver.common.by import By\n",
    "from selenium.webdriver.common.keys import Keys\n",
    "from selenium.webdriver.chrome.options import Options\n",
    "from webdriver_manager.chrome import ChromeDriverManager\n",
    "\n",
    "\n",
    "\n",
    "import copy\n",
    "\n",
    "from urllib.parse import urlparse\n",
    "import numpy as np\n",
    "import pandas as pd\n",
    "import re \n",
    "from pathlib import Path\n",
    "import os\n",
    "import time\n",
    "from datetime import date\n",
    "from datetime import timedelta\n",
    "from datetime import datetime\n",
    "import dateutil.parser as parser\n",
    "\n",
    "today = date.today()\n",
    "cwd = os.getcwd()\n",
    "\n",
    "\n",
    "# Setting up browser environment\n",
    "\n",
    "userprofile = 'samarth'\n",
    "options = webdriver.ChromeOptions()\n",
    "options.add_argument(f\"user-data-dir={cwd}/.\"+userprofile+\"UserProfile\")\n",
    "driver = webdriver.Chrome(ChromeDriverManager().install() , options=options)\n",
    "driver.get(\"https://web.whatsapp.com/\")\n",
    "\n",
    "\n",
    "def F_SEARCH_2(driverVar,contact_number):\n",
    "\n",
    "    driverVar.find_element(By.CSS_SELECTOR, \"body\").send_keys(Keys.CONTROL + Keys.COMMAND + '//')\n",
    "    time.sleep(1)\n",
    "\n",
    "\n",
    "    FORM_HEADER_CLASS = '_1Jn3C' # Label Class\n",
    "    FORM_CLASS = '_13NKt copyable-text selectable-text'\n",
    "\n",
    "    formHeadingClassList = driverVar.find_elements(By.XPATH,f\"//label[@class='{FORM_HEADER_CLASS}']\")\n",
    "\n",
    "    print(len(formHeadingClassList))\n",
    "\n",
    "\n",
    "    if len(formHeadingClassList)==1:\n",
    "        formHeadingClass = formHeadingClassList[0]\n",
    "        formElementsList = formHeadingClass.find_elements(By.XPATH,f\".//div[@class='{FORM_CLASS}']\")\n",
    "\n",
    "        print(len(formElementsList))\n",
    "\n",
    "        if len(formElementsList)>0:\n",
    "            formElement = formElementsList[0]\n",
    "            formElement.click();\n",
    "            formElement.clear();\n",
    "            formElement.send_keys(f'{contact_number}')\n",
    "            time.sleep(4)\n",
    "            formElement.send_keys(Keys.RETURN)   \n",
    "            \n",
    "            \n",
    "def F_SINGLE_SEND(driverVar,text_message):\n",
    "    CHAT_HEADER_CLASS = '_1UWac _1LbR4'\n",
    "    ALT_CHAT_HEADER_CLASS = '_1UWac _1LbR4 focused'\n",
    "    CHAT_CLASS = '_13NKt copyable-text selectable-text'\n",
    "\n",
    "    print('Trying Unfocussed')\n",
    "    chatHeadingClassList = driverVar.find_elements(By.XPATH,f\"//div[@class='{CHAT_HEADER_CLASS}']\")\n",
    "    if len(chatHeadingClassList)==0:\n",
    "        print('Unfocussed failed, trying focussed;')\n",
    "        chatHeadingClassList = driverVar.find_elements(By.XPATH,f\"//div[@class='{ALT_CHAT_HEADER_CLASS}']\")\n",
    "    print(f'Length of Chat Header Div => {len(chatHeadingClassList)}')\n",
    "\n",
    "    if len(chatHeadingClassList)==1:\n",
    "        chatHeadingClass = chatHeadingClassList[0]\n",
    "        chatElementsList = chatHeadingClass.find_elements(By.XPATH,f\".//div[@class='{CHAT_CLASS}']\")\n",
    "        print(len(chatElementsList))\n",
    "        if len(chatElementsList)>0:\n",
    "            chatElement = chatElementsList[0]\n",
    "            chatElement.click();\n",
    "            time.sleep(1)\n",
    "            chatElement.clear();\n",
    "            chatElement.send_keys(f'{text_message}')\n",
    "            time.sleep(2)\n",
    "            chatElement.send_keys(Keys.RETURN)\n",
    "\n",
    "            \n",
    "            \n",
    "def GET_MESSAGE_LIST(tagCollection,db,tagColumns):\n",
    "    \n",
    "    MESSAGE_LIST = []\n",
    "    \n",
    "    if len(tagCollection)==0:\n",
    "        print('No Tags available')\n",
    "    elif len(tagCollection)==1:\n",
    "        print('\\n--------Case 1 - SEARCHING FOR 1 TAG IN USER')\n",
    "        for index, row in db.iterrows():\n",
    "            print(f'Iterating over user <<{row[\"First Name\"]} {row[\"Last Name\"]}>> to find tags...')\n",
    "            taglist = []\n",
    "            for tag in tagColumns:\n",
    "                if type(row[tag]) == str:\n",
    "                    taglist.append(row[tag])\n",
    "            taglist.sort()\n",
    "            print(taglist)\n",
    "\n",
    "            if tagCollection[0] in taglist:\n",
    "                print('         Found Match, Added to Message List\\n')\n",
    "                MESSAGE_LIST.append({\n",
    "                    'fn':row['First Name'],\n",
    "                    'ln':row['Last Name'],\n",
    "                    'contact':row['Mobile Number'],\n",
    "                })\n",
    "\n",
    "\n",
    "    elif len(tagCollection)>1:\n",
    "        print('\\n--------Case 2 - SEARCHING FOR MULTIPLE TAGS IN USER')\n",
    "        for index, row in db.iterrows():\n",
    "            print(f'Iterating over user <<{row[\"First Name\"]} {row[\"Last Name\"]}>> to find tags...')\n",
    "            taglist = []\n",
    "            for tag in tagColumns:\n",
    "                if type(row[tag]) == str:\n",
    "                    taglist.append(row[tag])\n",
    "            taglist.sort()\n",
    "            print(taglist)\n",
    "            if tagCollection == taglist:\n",
    "                print('           Found Match, Added to Message List')\n",
    "                MESSAGE_LIST.append({\n",
    "                    'fn':row['First Name'],\n",
    "                    'ln':row['Last Name'],\n",
    "                    'contact':row['Mobile Number'],\n",
    "                })\n",
    "    return MESSAGE_LIST\n",
    "            \n",
    "# Reading Database and Getting Tag Options \n",
    "\n",
    "db = pd.read_csv('./database.csv')\n",
    "\n",
    "\n",
    "tagColumns = db.columns[4:]\n",
    "tagCollection = []\n",
    "\n",
    "for tagColumnIndex in tagColumns:\n",
    "    tags = db[tagColumnIndex].unique().tolist()\n",
    "\n",
    "\n",
    "    tagCollection = tagCollection + tags\n",
    "    \n",
    "# Variable containing list of available tags \n",
    "tagCollectionFiltered = [tag for tag in tagCollection if type(tag) != float ]\n",
    "\n",
    "\n",
    "\n"
   ]
  },
  {
   "cell_type": "code",
   "execution_count": null,
   "id": "15c8aa25",
   "metadata": {
    "scrolled": true
   },
   "outputs": [],
   "source": [
    "# Getting collection of tags to send message to from the user \n",
    "tagCollection = []\n",
    "print('Enter the tag list\\n')\n",
    "print('Available tags : ',end='\\n')\n",
    "for tagName in tagCollectionFiltered:\n",
    "    print(tagName,end=' // ')\n",
    "    \n",
    "while(True):\n",
    "    \n",
    "    tagValue = input('Enter the tag\\n')\n",
    "    if tagValue == '0':\n",
    "       break\n",
    "    tagCollection.append(tagValue)\n",
    "    \n",
    "tagCollection.sort()\n",
    "\n",
    "MESSAGE_LIST = GET_MESSAGE_LIST(tagCollection,db,tagColumns)"
   ]
  },
  {
   "cell_type": "code",
   "execution_count": null,
   "id": "63bcc0b8",
   "metadata": {},
   "outputs": [],
   "source": [
    "MESSAGE = input('Enter the message you would like to send\\n')"
   ]
  },
  {
   "cell_type": "code",
   "execution_count": null,
   "id": "cb07afd9",
   "metadata": {},
   "outputs": [],
   "source": [
    "for recepient in MESSAGE_LIST:\n",
    "    print('Sending Message to ')\n",
    "    print(f'  Name Message:  {recepient[\"fn\"]}')\n",
    "    print(f'  Phone Number:  {recepient[\"contact\"]}')\n",
    "    print(f'  Sending Message:  {recepient[\"ln\"]}')\n",
    "    \n",
    "    FINAL_MESSAGE = copy.copy(MESSAGE)\n",
    "    if type(recepient[\"fn\"])==str:\n",
    "        FINAL_MESSAGE= FINAL_MESSAGE.replace('$fn',recepient[\"fn\"])\n",
    "    else: \n",
    "        print('ERROR ERROR ERROR... Message cannot be sent as first name is not defined')\n",
    "        continue\n",
    "    if type(recepient[\"ln\"])==str:       \n",
    "        FINAL_MESSAGE= FINAL_MESSAGE.replace('$ln',recepient[\"ln\"])\n",
    "    else:\n",
    "        FINAL_MESSAGE= FINAL_MESSAGE.replace('$ln',' ')\n",
    "\n",
    "    \n",
    "    print(f'Final Message \\n  {FINAL_MESSAGE}')\n",
    "    F_SEARCH_2(driver,recepient[\"contact\"])\n",
    "    F_SINGLE_SEND(driver,FINAL_MESSAGE)\n",
    "    \n",
    "    \n",
    "    "
   ]
  },
  {
   "cell_type": "code",
   "execution_count": null,
   "id": "65e9f998",
   "metadata": {},
   "outputs": [],
   "source": []
  }
 ],
 "metadata": {
  "kernelspec": {
   "display_name": "Python 3 (ipykernel)",
   "language": "python",
   "name": "python3"
  },
  "language_info": {
   "codemirror_mode": {
    "name": "ipython",
    "version": 3
   },
   "file_extension": ".py",
   "mimetype": "text/x-python",
   "name": "python",
   "nbconvert_exporter": "python",
   "pygments_lexer": "ipython3",
   "version": "3.7.11"
  }
 },
 "nbformat": 4,
 "nbformat_minor": 5
}

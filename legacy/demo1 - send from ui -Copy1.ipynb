{
 "cells": [
  {
   "cell_type": "markdown",
   "id": "c479cb39",
   "metadata": {},
   "source": [
    "`/clients/YIJ3bLzUXlubsxnDPnDR/projects/BOuyALnDYmDHSBW7kAZm/wa-queue`|"
   ]
  },
  {
   "cell_type": "code",
   "execution_count": 2,
   "id": "d6276929",
   "metadata": {},
   "outputs": [],
   "source": [
    "project_id = 'tpc-dev-5330f'\n",
    "# Use the application default credentials\n",
    "cred = firebase_admin.credentials.Certificate('./secret/tpc-dev-5330f-firebase-adminsdk-2p698-e13719db26.json')\n",
    "\n",
    "firebase_admin.initialize_app(cred, {\n",
    "  'projectId': project_id,\n",
    "})\n",
    "\n",
    "db = firestore.client()"
   ]
  },
  {
   "cell_type": "code",
   "execution_count": null,
   "id": "69cd8be5",
   "metadata": {},
   "outputs": [],
   "source": []
  },
  {
   "cell_type": "code",
   "execution_count": null,
   "id": "19c61410",
   "metadata": {},
   "outputs": [],
   "source": []
  },
  {
   "cell_type": "code",
   "execution_count": null,
   "id": "7a11a1b1",
   "metadata": {},
   "outputs": [],
   "source": []
  },
  {
   "cell_type": "code",
   "execution_count": null,
   "id": "425a7934",
   "metadata": {},
   "outputs": [],
   "source": []
  },
  {
   "cell_type": "code",
   "execution_count": 1,
   "id": "4e190b3c",
   "metadata": {},
   "outputs": [],
   "source": [
    "# Firebase Imports \n",
    "import firebase_admin\n",
    "from firebase_admin import credentials\n",
    "from firebase_admin import firestore\n",
    "import threading\n",
    "\n",
    "# Selenium Imports \n",
    "from selenium import webdriver\n",
    "from selenium.webdriver.common.keys import Keys\n",
    "from selenium.webdriver.support.ui import WebDriverWait\n",
    "from selenium.webdriver.support.ui import Select\n",
    "from selenium.webdriver.common.by import By\n",
    "from selenium.webdriver.common.keys import Keys\n",
    "from selenium.webdriver.chrome.options import Options\n",
    "from webdriver_manager.chrome import ChromeDriverManager\n",
    "\n",
    "import copy\n",
    "from urllib.parse import urlparse\n",
    "import numpy as np\n",
    "import pandas as pd\n",
    "import re \n",
    "from pathlib import Path\n",
    "import os\n",
    "import time\n",
    "from datetime import date\n",
    "from datetime import timedelta\n",
    "from datetime import datetime\n",
    "import dateutil.parser as parser\n",
    "\n",
    "import time\n",
    "\n",
    "today = date.today()\n",
    "cwd = os.getcwd()"
   ]
  },
  {
   "cell_type": "code",
   "execution_count": 2,
   "id": "ad6055a4",
   "metadata": {},
   "outputs": [],
   "source": [
    "project_id = 'tpc-dev-5330f'\n",
    "# Use the application default credentials\n",
    "cred = firebase_admin.credentials.Certificate('./secret/tpc-dev-5330f-firebase-adminsdk-2p698-e13719db26.json')\n",
    "\n",
    "firebase_admin.initialize_app(cred, {\n",
    "  'projectId': project_id,\n",
    "})\n",
    "\n",
    "db = firestore.client()"
   ]
  },
  {
   "cell_type": "code",
   "execution_count": 3,
   "id": "179893b4",
   "metadata": {},
   "outputs": [],
   "source": [
    "doc_ref = db.collection(u'clients').document(u'YIJ3bLzUXlubsxnDPnDR').collection(u'projects').document(u'BOuyALnDYmDHSBW7kAZm').collection('wa-queue')"
   ]
  },
  {
   "cell_type": "code",
   "execution_count": 31,
   "id": "fd454d9a",
   "metadata": {},
   "outputs": [],
   "source": [
    "\n",
    "# Create an Event for notifying main thread.\n",
    "callback_done = threading.Event()\n",
    "# MAIN VARIABLE : Clean after use \n",
    "process_queue = []\n",
    "\n",
    "# Create a callback on_snapshot function to capture changes\n",
    "def on_snapshot(col_snapshot, changes, read_time):\n",
    "    for doc in col_snapshot:\n",
    "#         print(f'{doc.id}')\n",
    "        process_queue.append(doc.id)\n",
    "    callback_done.set()\n",
    "    \n",
    "\n",
    "col_query = db.collection(u'clients').document(u'YIJ3bLzUXlubsxnDPnDR').collection(u'projects').document(u'BOuyALnDYmDHSBW7kAZm').collection('wa-queue').where(u'processed', u'==', False)\n",
    "\n",
    "# Watch the collection query\n",
    "query_watch = col_query.on_snapshot(on_snapshot)\n"
   ]
  },
  {
   "cell_type": "code",
   "execution_count": 5,
   "id": "67a96280",
   "metadata": {},
   "outputs": [
    {
     "name": "stderr",
     "output_type": "stream",
     "text": [
      "[WDM] - \n",
      "\n",
      "[WDM] - ====== WebDriver manager ======\n",
      "[WDM] - Current google-chrome version is 97.0.4692\n",
      "[WDM] - Get LATEST driver version for 97.0.4692\n",
      "[WDM] - There is no [mac64] chromedriver for browser 97.0.4692 in cache\n",
      "[WDM] - Get LATEST driver version for 97.0.4692\n",
      "[WDM] - Trying to download new driver from https://chromedriver.storage.googleapis.com/97.0.4692.71/chromedriver_mac64.zip\n",
      "[WDM] - Driver has been saved in cache [/Users/flipflops/.wdm/drivers/chromedriver/mac64/97.0.4692.71]\n",
      "/usr/local/Caskroom/miniconda/base/envs/tpc-wa/lib/python3.7/site-packages/ipykernel_launcher.py:15: DeprecationWarning: executable_path has been deprecated, please pass in a Service object\n",
      "  from ipykernel import kernelapp as app\n"
     ]
    },
    {
     "name": "stdout",
     "output_type": "stream",
     "text": [
      "['tPGSEnJO57RJDePVJEwY']\n"
     ]
    }
   ],
   "source": [
    "\n",
    "\n",
    "\n",
    "\n",
    "\n",
    "# RUN WA AUTOMATION HERE --------------\n",
    "\n",
    "\n",
    "# START WHATSAPP SEND \n",
    "\n",
    "# Starting the selenium webserver and getting whatsapp \n",
    "userprofile = 'samarth'\n",
    "options = webdriver.ChromeOptions()\n",
    "options.add_argument(f\"user-data-dir={cwd}/.\"+userprofile+\"UserProfile\")\n",
    "driver = webdriver.Chrome(ChromeDriverManager().install() , options=options)\n",
    "driver.get(\"https://web.whatsapp.com/\")\n",
    "\n",
    "\n",
    "# Default getter functions \n",
    "def F_SEARCH_2(driverVar,contact_number):\n",
    "\n",
    "    driverVar.find_element(By.CSS_SELECTOR, \"body\").send_keys(Keys.CONTROL + Keys.COMMAND + '//')\n",
    "    time.sleep(1)\n",
    "\n",
    "\n",
    "    FORM_HEADER_CLASS = '_1Jn3C' # Label Class\n",
    "    FORM_CLASS = '_13NKt copyable-text selectable-text'\n",
    "\n",
    "    formHeadingClassList = driverVar.find_elements(By.XPATH,f\"//label[@class='{FORM_HEADER_CLASS}']\")\n",
    "\n",
    "    print(len(formHeadingClassList))\n",
    "\n",
    "\n",
    "    if len(formHeadingClassList)==1:\n",
    "        formHeadingClass = formHeadingClassList[0]\n",
    "        formElementsList = formHeadingClass.find_elements(By.XPATH,f\".//div[@class='{FORM_CLASS}']\")\n",
    "\n",
    "        print(len(formElementsList))\n",
    "\n",
    "        if len(formElementsList)>0:\n",
    "            formElement = formElementsList[0]\n",
    "            formElement.click();\n",
    "            formElement.clear();\n",
    "            formElement.send_keys(f'{contact_number}')\n",
    "            time.sleep(4)\n",
    "            formElement.send_keys(Keys.RETURN)   \n",
    "\n",
    "            \n",
    "def F_SINGLE_SEND(driverVar,text_message):\n",
    "    CHAT_HEADER_CLASS = '_1UWac _1LbR4'\n",
    "    ALT_CHAT_HEADER_CLASS = '_1UWac _1LbR4 focused'\n",
    "    CHAT_CLASS = '_13NKt copyable-text selectable-text'\n",
    "\n",
    "    print('Trying Unfocussed')\n",
    "    chatHeadingClassList = driverVar.find_elements(By.XPATH,f\"//div[@class='{CHAT_HEADER_CLASS}']\")\n",
    "    if len(chatHeadingClassList)==0:\n",
    "        print('Unfocussed failed, trying focussed;')\n",
    "        chatHeadingClassList = driverVar.find_elements(By.XPATH,f\"//div[@class='{ALT_CHAT_HEADER_CLASS}']\")\n",
    "    print(f'Length of Chat Header Div => {len(chatHeadingClassList)}')\n",
    "\n",
    "    if len(chatHeadingClassList)==1:\n",
    "        chatHeadingClass = chatHeadingClassList[0]\n",
    "        chatElementsList = chatHeadingClass.find_elements(By.XPATH,f\".//div[@class='{CHAT_CLASS}']\")\n",
    "        print(len(chatElementsList))\n",
    "        if len(chatElementsList)>0:\n",
    "            chatElement = chatElementsList[0]\n",
    "            chatElement.click();\n",
    "            time.sleep(1)\n",
    "            chatElement.clear();\n",
    "            chatElement.send_keys(f'{text_message}')\n",
    "            time.sleep(2)\n",
    "            chatElement.send_keys(Keys.RETURN)\n"
   ]
  },
  {
   "cell_type": "code",
   "execution_count": 51,
   "id": "04813c35",
   "metadata": {},
   "outputs": [
    {
     "name": "stdout",
     "output_type": "stream",
     "text": [
      "['1kwi4Nkxytguf7daAvRl', 'kytsPgCZ3YGzJCd0RRz8']\n",
      "{'clientId': 'YIJ3bLzUXlubsxnDPnDR', 'attachment': {'url': '', 'name': '', 'createdAt': DatetimeWithNanoseconds(2022, 1, 20, 7, 35, 22, 97000, tzinfo=datetime.timezone.utc), 'type': ''}, 'guestId': 'ft6BDAmEu4noW14iywPS', 'messageContent': 'no promo', 'processed': False, 'contactPhone': '2408851895', 'type': 'send', 'createdAt': DatetimeWithNanoseconds(2022, 1, 20, 7, 38, 22, 825000, tzinfo=datetime.timezone.utc)}\n",
      "2408851895\n",
      "no promo\n",
      "{'guestId': 'ft6BDAmEu4noW14iywPS', 'createdAt': DatetimeWithNanoseconds(2022, 1, 20, 7, 40, 40, 748000, tzinfo=datetime.timezone.utc), 'type': 'send', 'clientId': 'YIJ3bLzUXlubsxnDPnDR', 'messageContent': 'asdasd', 'attachment': {'name': '', 'createdAt': DatetimeWithNanoseconds(2022, 1, 20, 7, 35, 22, 97000, tzinfo=datetime.timezone.utc), 'type': '', 'url': ''}, 'contactPhone': '2408851895', 'processed': False}\n",
      "2408851895\n",
      "asdasd\n"
     ]
    }
   ],
   "source": [
    "\n",
    "\n",
    "while(True):\n",
    "    \n",
    "    \n",
    "    print('Status - Sleep---------------')\n",
    "    time.sleep(10)\n",
    "\n",
    "\n",
    "    print('STATUS : Checking Queue')\n",
    "    process_queue_clean = list(set(process_queue))\n",
    "\n",
    "\n",
    "    if len(process_queue_clean)>0:  \n",
    "        print(f'FOUND {len(process_queue_clean)} jobs')\n",
    "    #     print(process_queue_clean)\n",
    "        # -----------------\n",
    "        \n",
    "        print('STATUS : Running Job')\n",
    "        for TASK_ID in process_queue_clean:\n",
    "            task_doc_ref = db.collection(u'clients').document(u'YIJ3bLzUXlubsxnDPnDR').collection(u'projects').document(u'BOuyALnDYmDHSBW7kAZm').collection('wa-queue').document(TASK_ID)\n",
    "            task_doc = task_doc_ref.get()\n",
    "            TASKDATA = task_doc.to_dict()\n",
    "#             print(TASKDATA)\n",
    "\n",
    "            TASK_PHONE = TASKDATA['contactPhone']\n",
    "            TASK_MESSAGE = TASKDATA['messageContent'] \n",
    "            TASK_GUEST = TASKDATA['guestId'] \n",
    "            TASKDATA['processed'] = True\n",
    "            task_doc_ref = db.collection(u'clients').document(u'YIJ3bLzUXlubsxnDPnDR').collection(u'projects').document(u'BOuyALnDYmDHSBW7kAZm').collection('wa-queue').document(TASK_ID).set(TASKDATA)\n",
    "\n",
    "            print('SEND TO : ', TASK_PHONE)\n",
    "            print('MESSAGE : ',TASK_MESSAGE)\n",
    "\n",
    "\n",
    "            F_SEARCH_2(driver,TASK_PHONE)\n",
    "            F_SINGLE_SEND(driver,TASK_MESSAGE)\n",
    "        process_queue = []\n",
    "        \n",
    "\n"
   ]
  },
  {
   "cell_type": "code",
   "execution_count": null,
   "id": "e530ca65",
   "metadata": {},
   "outputs": [],
   "source": []
  }
 ],
 "metadata": {
  "kernelspec": {
   "display_name": "Python 3 (ipykernel)",
   "language": "python",
   "name": "python3"
  },
  "language_info": {
   "codemirror_mode": {
    "name": "ipython",
    "version": 3
   },
   "file_extension": ".py",
   "mimetype": "text/x-python",
   "name": "python",
   "nbconvert_exporter": "python",
   "pygments_lexer": "ipython3",
   "version": "3.7.11"
  }
 },
 "nbformat": 4,
 "nbformat_minor": 5
}
